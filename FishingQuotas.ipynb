{
 "cells": [
  {
   "attachments": {},
   "cell_type": "markdown",
   "metadata": {},
   "source": [
    "The idea is to model the impact of fishing quotas on a fish population, while taking into account food availability"
   ]
  },
  {
   "attachments": {},
   "cell_type": "markdown",
   "metadata": {},
   "source": [
    "Import all useful libraries"
   ]
  },
  {
   "cell_type": "code",
   "execution_count": 1,
   "metadata": {},
   "outputs": [],
   "source": [
    "#%load_ext autoreload\n",
    "#%autoreload 2\n",
    "import numpy as np\n",
    "import copy \n",
    "import random\n",
    "import pandas as pd\n",
    "from tqdm import tqdm\n",
    "from scipy.stats import binom\n",
    "from scipy.optimize import minimize\n",
    "import matplotlib.pyplot as plt"
   ]
  },
  {
   "cell_type": "code",
   "execution_count": 2,
   "metadata": {},
   "outputs": [],
   "source": [
    "rng = np.random.default_rng()"
   ]
  },
  {
   "attachments": {},
   "cell_type": "markdown",
   "metadata": {},
   "source": [
    "Import the q-learning function"
   ]
  },
  {
   "cell_type": "code",
   "execution_count": null,
   "metadata": {},
   "outputs": [],
   "source": [
    "#from robust_q_learning_v3 import *\n",
    "#from q_learning_v2 import *"
   ]
  },
  {
   "cell_type": "code",
   "execution_count": 3,
   "metadata": {},
   "outputs": [],
   "source": [
    "from robust_q_learning_v2 import *\n",
    "from q_learning import *"
   ]
  },
  {
   "attachments": {},
   "cell_type": "markdown",
   "metadata": {},
   "source": [
    "First simplified case: one species, two size class"
   ]
  },
  {
   "cell_type": "code",
   "execution_count": 4,
   "metadata": {},
   "outputs": [],
   "source": [
    "X = np.array([(0,0), (0,5), (5,0), (5,5)]) # States\n",
    "A = np.array([0, 5]) # Actions\n",
    "\n",
    "c1 = 1 / 5\n",
    "\n",
    "def r(x,a,y):\n",
    "    x1, x2 = x\n",
    "    y1, y2 = y\n",
    "    return(c1 * (x2 - a >= 0) * a - 10 * (x2 - a < 0)) # Reward function\n",
    "\n",
    "rr = 1\n",
    "dr = 0\n",
    "gr = 1\n",
    "npp = 0\n",
    "def P(x,a):\n",
    "    unif      = np.random.uniform(0)\n",
    "    if (unif > eps_greedy):\n",
    "        x1, x2 = x\n",
    "        x2_ = max(x2 - a, 0)\n",
    "        y1  = min(rr * x2_ + npp * 5, 5)\n",
    "        y2  = min(x2_ - 5 * dr + gr * x1, 5)\n",
    "        return(y1, y2)\n",
    "    else:\n",
    "        return rng.choice(X)\n",
    "    \n",
    "    \n",
    "eps1 = 0.75\n",
    "npp2 = 1\n",
    "def P2(x,a):\n",
    "    unif      = np.random.uniform(0)\n",
    "    if (unif > eps_greedy):\n",
    "        x1, x2 = x\n",
    "        unif2 = np.random.uniform(0)\n",
    "        x2_ = max(x2 - a, 0)\n",
    "        y1  = min(rr * x2_ + ((unif2 > eps1) * npp + (unif2 <= eps1) * npp2) * 5 , 5)\n",
    "        y2  = min(x2_ - 5 * dr + gr * x1, 5)\n",
    "        return(y1, y2)\n",
    "    else:\n",
    "        return rng.choice(X)\n",
    "\n",
    "alpha      = 0.95  # Discount Factor\n",
    "x_0        = (5,5) # Initial Value\n",
    "eps_greedy = 0.1   # Epsilon greedy policy"
   ]
  },
  {
   "cell_type": "code",
   "execution_count": 5,
   "metadata": {},
   "outputs": [],
   "source": [
    "# Build the functions that allow us to get the index of an element a (reps. x) in A (resp. X)\n",
    "if np.ndim(A) > 1:\n",
    "    A_list = A\n",
    "else:\n",
    "    A_list = np.array([[a] for a in A])\n",
    "if np.ndim(X) > 1:\n",
    "    X_list = X\n",
    "else:\n",
    "    X_list = np.array([[x] for x in X])\n",
    "\n",
    "def a_index(a):\n",
    "    return np.flatnonzero((a==A_list).all(1))[0]\n",
    "def x_index(x):\n",
    "    return np.flatnonzero((x==X_list).all(1))[0]"
   ]
  },
  {
   "attachments": {},
   "cell_type": "markdown",
   "metadata": {},
   "source": [
    "First non-robust runs"
   ]
  },
  {
   "cell_type": "code",
   "execution_count": 7,
   "metadata": {},
   "outputs": [
    {
     "name": "stderr",
     "output_type": "stream",
     "text": [
      "100%|██████████| 1000000/1000000 [00:29<00:00, 34053.99it/s]\n"
     ]
    }
   ],
   "source": [
    "Nr_iter = 1_000_000\n",
    "\n",
    "Q_0_, V = q_learning(X, A, r, P, alpha, x_0, eps_greedy, Nr_iter, gamma_t_tilde = lambda t: 1/(t+1), Q_0 = np.ones([len(X),len(A)]))"
   ]
  },
  {
   "cell_type": "code",
   "execution_count": 6,
   "metadata": {},
   "outputs": [],
   "source": [
    "# Get the result of the Q-Learning algorithm,\n",
    "# Get the optimal results for each x in X\n",
    "def a_opt(x, Q_opt):\n",
    "    return A[np.argmax(Q_opt[x_index(x),:])]"
   ]
  },
  {
   "cell_type": "code",
   "execution_count": 9,
   "metadata": {},
   "outputs": [
    {
     "data": {
      "text/html": [
       "<div>\n",
       "<style scoped>\n",
       "    .dataframe tbody tr th:only-of-type {\n",
       "        vertical-align: middle;\n",
       "    }\n",
       "\n",
       "    .dataframe tbody tr th {\n",
       "        vertical-align: top;\n",
       "    }\n",
       "\n",
       "    .dataframe thead th {\n",
       "        text-align: right;\n",
       "    }\n",
       "</style>\n",
       "<table border=\"1\" class=\"dataframe\">\n",
       "  <thead>\n",
       "    <tr style=\"text-align: right;\">\n",
       "      <th></th>\n",
       "      <th>(0,0)</th>\n",
       "      <th>(0,5)</th>\n",
       "      <th>(5,0)</th>\n",
       "      <th>(5,5)</th>\n",
       "    </tr>\n",
       "  </thead>\n",
       "  <tbody>\n",
       "    <tr>\n",
       "      <th>0</th>\n",
       "      <td>0</td>\n",
       "      <td>0</td>\n",
       "      <td>0</td>\n",
       "      <td>5</td>\n",
       "    </tr>\n",
       "  </tbody>\n",
       "</table>\n",
       "</div>"
      ],
      "text/plain": [
       "   (0,0)  (0,5)  (5,0)  (5,5)\n",
       "0      0      0      0      5"
      ]
     },
     "execution_count": 9,
     "metadata": {},
     "output_type": "execute_result"
    }
   ],
   "source": [
    "df = pd.DataFrame(np.array([[a_opt(x, Q_0_) for x in X]]))\n",
    "df.columns = ['(0,0)', '(0,5)', '(5,0)', '(5,5)']\n",
    "df"
   ]
  },
  {
   "cell_type": "code",
   "execution_count": 10,
   "metadata": {},
   "outputs": [
    {
     "data": {
      "text/plain": [
       "array([[364953.,  19225.],\n",
       "       [283120.,  14854.],\n",
       "       [ 23632.,   1243.],\n",
       "       [ 14583., 278390.]])"
      ]
     },
     "execution_count": 10,
     "metadata": {},
     "output_type": "execute_result"
    }
   ],
   "source": [
    "V"
   ]
  },
  {
   "attachments": {},
   "cell_type": "markdown",
   "metadata": {},
   "source": [
    "Testing the accuracy of the result with the other function, and adding uncertainty"
   ]
  },
  {
   "cell_type": "code",
   "execution_count": 47,
   "metadata": {},
   "outputs": [],
   "source": [
    "X = np.array([(0,0), (0,5), (5,0), (5,5)]) # States\n",
    "A = np.array([0, 5]) # Actions\n",
    "\n",
    "c1 = 1 / 5\n",
    "\n",
    "def r(x,a,y):\n",
    "    x1, x2 = x\n",
    "    y1, y2 = y\n",
    "    return(c1 * (x2 - a >= 0) * a - (x2 - a < 0)) # Reward function\n",
    "\n",
    "rr = 1\n",
    "dr = 0\n",
    "gr = 1\n",
    "npp = 0\n",
    "def P1(x,a):\n",
    "    unif      = np.random.uniform(0)\n",
    "    if (unif > eps_greedy):\n",
    "        x1, x2 = x\n",
    "        x2_ = max(x2 - a, 0)\n",
    "        y1  = min(rr * x2_ + npp * 5, 5)\n",
    "        y2  = min(x2_ - 5 * dr + gr * x1, 5)\n",
    "        return(y1, y2)\n",
    "    else:\n",
    "        return rng.choice(X)\n",
    "    \n",
    "    \n",
    "eps1 = 1\n",
    "npp2 = 1\n",
    "def P2(x,a):\n",
    "    x1, x2 = x\n",
    "    unif2 = np.random.uniform(0)\n",
    "    x2_ = max(x2 - a, 0)\n",
    "    y1  = min(rr * x2_ + ((unif2 > eps1) * npp + (unif2 <= eps1) * npp2) * 5 , 5)\n",
    "    y2  = min(x2_ - 5 * dr + gr * x1, 5)\n",
    "    return(y1, y2)\n",
    "    \n",
    "# CREATE THE PROBABILITY MEASURE OUT OF THE RANDOM VARIABLE\n",
    "nr = 1_000\n",
    "p1_ = np.zeros([len(X), len(A), len(X)])\n",
    "p2_ = np.zeros([len(X), len(A), len(X)])\n",
    "for n in range(nr):\n",
    "    for x in X:\n",
    "        for a in A:\n",
    "            y1 = P1(x,a)\n",
    "            x_1 = x_index(y1)\n",
    "            p1_[x_index(x), a_index(a), x_1] += 1\n",
    "            y2 = P2(x,a)\n",
    "            x_2 = x_index(y2)\n",
    "            p2_[x_index(x), a_index(a), x_2] += 1\n",
    "p1_ = p1_/nr\n",
    "p2_ = p2_/nr\n",
    "def p1(x,a,y):\n",
    "    return(p1_[x_index(x), a_index(a), x_index(y)])\n",
    "def p2(x,a,y):\n",
    "    return(p2_[x_index(x), a_index(a), x_index(y)])\n",
    "\n",
    "alpha      = 0.95  # Discount Factor\n",
    "x_0        = (5,5) # Initial Value\n",
    "k_0        = 0     # Initial index of the corresponding MDP\n",
    "eps_greedy = 0.1   # Epsilon greedy policy"
   ]
  },
  {
   "cell_type": "code",
   "execution_count": 48,
   "metadata": {},
   "outputs": [
    {
     "name": "stderr",
     "output_type": "stream",
     "text": [
      "100%|██████████| 1000000/1000000 [00:28<00:00, 35567.15it/s]\n"
     ]
    }
   ],
   "source": [
    "Nr_iter = 1_000_000\n",
    "\n",
    "Q_0_, V = q_learning(X, A, r, P2, alpha, x_0, eps_greedy, Nr_iter, gamma_t_tilde = lambda t: 1/(t+1), Q_0 = np.ones([len(X),len(A)]))"
   ]
  },
  {
   "cell_type": "code",
   "execution_count": 49,
   "metadata": {},
   "outputs": [
    {
     "data": {
      "text/html": [
       "<div>\n",
       "<style scoped>\n",
       "    .dataframe tbody tr th:only-of-type {\n",
       "        vertical-align: middle;\n",
       "    }\n",
       "\n",
       "    .dataframe tbody tr th {\n",
       "        vertical-align: top;\n",
       "    }\n",
       "\n",
       "    .dataframe thead th {\n",
       "        text-align: right;\n",
       "    }\n",
       "</style>\n",
       "<table border=\"1\" class=\"dataframe\">\n",
       "  <thead>\n",
       "    <tr style=\"text-align: right;\">\n",
       "      <th></th>\n",
       "      <th>(0,0)</th>\n",
       "      <th>(0,5)</th>\n",
       "      <th>(5,0)</th>\n",
       "      <th>(5,5)</th>\n",
       "    </tr>\n",
       "  </thead>\n",
       "  <tbody>\n",
       "    <tr>\n",
       "      <th>0</th>\n",
       "      <td>0</td>\n",
       "      <td>0</td>\n",
       "      <td>0</td>\n",
       "      <td>5</td>\n",
       "    </tr>\n",
       "  </tbody>\n",
       "</table>\n",
       "</div>"
      ],
      "text/plain": [
       "   (0,0)  (0,5)  (5,0)  (5,5)\n",
       "0      0      0      0      5"
      ]
     },
     "execution_count": 49,
     "metadata": {},
     "output_type": "execute_result"
    }
   ],
   "source": [
    "df = pd.DataFrame(np.array([[a_opt(x, Q_0_) for x in X]]))\n",
    "df.columns = ['(0,0)', '(0,5)', '(5,0)', '(5,5)']\n",
    "df"
   ]
  },
  {
   "cell_type": "code",
   "execution_count": 50,
   "metadata": {},
   "outputs": [
    {
     "data": {
      "text/plain": [
       "array([[     0.,      0.],\n",
       "       [     0.,      0.],\n",
       "       [     0.,      0.],\n",
       "       [ 49938., 950062.]])"
      ]
     },
     "execution_count": 50,
     "metadata": {},
     "output_type": "execute_result"
    }
   ],
   "source": [
    "V"
   ]
  },
  {
   "cell_type": "code",
   "execution_count": 51,
   "metadata": {},
   "outputs": [
    {
     "name": "stderr",
     "output_type": "stream",
     "text": [
      "100%|██████████| 1000000/1000000 [03:00<00:00, 5537.79it/s]\n"
     ]
    }
   ],
   "source": [
    "Q_opt_robust, V = robust_q_learning_v2(X, A, r, np.array([P1, P2]), np.array([p1, p2]), alpha, x_0, k_0, eps_greedy, Nr_iter, gamma_t_tilde = lambda t: 1/(t+1), Q_0 = np.ones([len(X),len(A)]))"
   ]
  },
  {
   "cell_type": "code",
   "execution_count": 52,
   "metadata": {},
   "outputs": [
    {
     "data": {
      "text/html": [
       "<div>\n",
       "<style scoped>\n",
       "    .dataframe tbody tr th:only-of-type {\n",
       "        vertical-align: middle;\n",
       "    }\n",
       "\n",
       "    .dataframe tbody tr th {\n",
       "        vertical-align: top;\n",
       "    }\n",
       "\n",
       "    .dataframe thead th {\n",
       "        text-align: right;\n",
       "    }\n",
       "</style>\n",
       "<table border=\"1\" class=\"dataframe\">\n",
       "  <thead>\n",
       "    <tr style=\"text-align: right;\">\n",
       "      <th></th>\n",
       "      <th>(0,0)</th>\n",
       "      <th>(0,5)</th>\n",
       "      <th>(5,0)</th>\n",
       "      <th>(5,5)</th>\n",
       "    </tr>\n",
       "  </thead>\n",
       "  <tbody>\n",
       "    <tr>\n",
       "      <th>0</th>\n",
       "      <td>0</td>\n",
       "      <td>0</td>\n",
       "      <td>0</td>\n",
       "      <td>5</td>\n",
       "    </tr>\n",
       "  </tbody>\n",
       "</table>\n",
       "</div>"
      ],
      "text/plain": [
       "   (0,0)  (0,5)  (5,0)  (5,5)\n",
       "0      0      0      0      5"
      ]
     },
     "execution_count": 52,
     "metadata": {},
     "output_type": "execute_result"
    }
   ],
   "source": [
    "df = pd.DataFrame(np.array([[a_opt(x, Q_opt_robust) for x in X]]))\n",
    "df.columns = ['(0,0)', '(0,5)', '(5,0)', '(5,5)']\n",
    "df"
   ]
  },
  {
   "cell_type": "code",
   "execution_count": 53,
   "metadata": {},
   "outputs": [
    {
     "data": {
      "text/plain": [
       "array([[368325.,  19245.],\n",
       "       [281281.,  14965.],\n",
       "       [ 23518.,   1214.],\n",
       "       [ 14782., 276670.]])"
      ]
     },
     "execution_count": 53,
     "metadata": {},
     "output_type": "execute_result"
    }
   ],
   "source": [
    "V"
   ]
  },
  {
   "cell_type": "code",
   "execution_count": 54,
   "metadata": {},
   "outputs": [
    {
     "data": {
      "text/plain": [
       "<matplotlib.image.AxesImage at 0x21b8216dad0>"
      ]
     },
     "execution_count": 54,
     "metadata": {},
     "output_type": "execute_result"
    },
    {
     "data": {
      "image/png": "[encoded data removed]",
      "text/plain": [
       "<Figure size 400x800 with 1 Axes>"
      ]
     },
     "metadata": {},
     "output_type": "display_data"
    }
   ],
   "source": [
    "plt.matshow(V, cmap='gray')"
   ]
  },
  {
   "attachments": {},
   "cell_type": "markdown",
   "metadata": {},
   "source": [
    "Lets now put more possible states"
   ]
  },
  {
   "cell_type": "code",
   "execution_count": 55,
   "metadata": {},
   "outputs": [],
   "source": [
    "#%load_ext autoreload\n",
    "#%autoreload 2\n",
    "import numpy as np\n",
    "import copy \n",
    "import random\n",
    "import pandas as pd\n",
    "from tqdm import tqdm\n",
    "from scipy.stats import binom\n",
    "from scipy.optimize import minimize\n",
    "import matplotlib.pyplot as plt"
   ]
  },
  {
   "cell_type": "code",
   "execution_count": 56,
   "metadata": {},
   "outputs": [],
   "source": [
    "#from robust_q_learning_v3 import *\n",
    "#from q_learning_v2 import *"
   ]
  },
  {
   "cell_type": "code",
   "execution_count": 57,
   "metadata": {},
   "outputs": [],
   "source": [
    "from robust_q_learning_v2 import *\n",
    "from q_learning import *"
   ]
  },
  {
   "cell_type": "code",
   "execution_count": 58,
   "metadata": {},
   "outputs": [],
   "source": [
    "X = np.array([(0,0), (0,5), (0,10), (5,0), (5,5), (5,10), (10,0), (10,5), (10,10)]) # States\n",
    "A = np.array([0, 5, 10]) # Actions"
   ]
  },
  {
   "cell_type": "code",
   "execution_count": 59,
   "metadata": {},
   "outputs": [],
   "source": [
    "# Build the functions that allow us to get the index of an element a (reps. x) in A (resp. X)\n",
    "if np.ndim(A) > 1:\n",
    "    A_list = A\n",
    "else:\n",
    "    A_list = np.array([[a] for a in A])\n",
    "if np.ndim(X) > 1:\n",
    "    X_list = X\n",
    "else:\n",
    "    X_list = np.array([[x] for x in X])\n",
    "\n",
    "def a_index(a):\n",
    "    return np.flatnonzero((a==A_list).all(1))[0]\n",
    "def x_index(x):\n",
    "    return np.flatnonzero((x==X_list).all(1))[0]"
   ]
  },
  {
   "cell_type": "code",
   "execution_count": 60,
   "metadata": {},
   "outputs": [],
   "source": [
    "c1 = 1 / 10\n",
    "\n",
    "def r(x,a,y):\n",
    "    x1, x2 = x\n",
    "    y1, y2 = y\n",
    "    return(c1 * (x2 - a >= 0) * a - 10 * (x2 - a < 0)) # Reward function\n",
    "\n",
    "rr = 1\n",
    "dr = 0\n",
    "gr = 1\n",
    "npp = 0\n",
    "def P(x,a):\n",
    "    unif      = np.random.uniform(0)\n",
    "    if (unif > eps_greedy):\n",
    "        x1, x2 = x\n",
    "        x2_ = max(x2 - a, 0)\n",
    "        y1  = min(rr * x2_ + npp * 5, 5)\n",
    "        y2  = min(x2_ - 5 * dr + gr * x1, 5)\n",
    "        return(y1, y2)\n",
    "    else:\n",
    "        return rng.choice(X)\n",
    "\n",
    "# CREATE THE PROBABILITY MEASURE OUT OF THE RANDOM VARIABLE\n",
    "nr = 1_000\n",
    "p_ = np.zeros([len(X), len(A), len(X)])\n",
    "for n in range(nr):\n",
    "    for x in X:\n",
    "        for a in A:\n",
    "            y = P(x,a)\n",
    "            x_ = x_index(y)\n",
    "            p_[x_index(x), a_index(a), x_] += 1\n",
    "p_ = p_/nr\n",
    "def p(x,a,y):\n",
    "    return(p_[x_index(x), a_index(a), x_index(y)])\n",
    "\n",
    "alpha      = 0.95  # Discount Factor\n",
    "x_0        = (10,10) # Initial Value\n",
    "k_0        = 0     # Initial index of the corresponding MDP, starting with the central proba of 1/2\n",
    "eps_greedy = 0.1   # Epsilon greedy policy"
   ]
  },
  {
   "cell_type": "code",
   "execution_count": 61,
   "metadata": {},
   "outputs": [
    {
     "name": "stderr",
     "output_type": "stream",
     "text": [
      "100%|██████████| 1000000/1000000 [00:30<00:00, 33264.78it/s]\n"
     ]
    }
   ],
   "source": [
    "Nr_iter = 1_000_000\n",
    "\n",
    "Q_0_, V = q_learning(X, A, r, P, alpha, x_0, eps_greedy, Nr_iter, gamma_t_tilde = lambda t: 1/(t+1), Q_0 = np.ones([len(X),len(A)]))"
   ]
  },
  {
   "cell_type": "code",
   "execution_count": 62,
   "metadata": {},
   "outputs": [],
   "source": [
    "# Get the result of the Q-Learning algorithm,\n",
    "# Get the optimal results for each x in X\n",
    "def a_opt(x, Q_opt):\n",
    "    return A[np.argmax(Q_opt[x_index(x),:])]"
   ]
  },
  {
   "cell_type": "code",
   "execution_count": 63,
   "metadata": {},
   "outputs": [
    {
     "data": {
      "text/html": [
       "<div>\n",
       "<style scoped>\n",
       "    .dataframe tbody tr th:only-of-type {\n",
       "        vertical-align: middle;\n",
       "    }\n",
       "\n",
       "    .dataframe tbody tr th {\n",
       "        vertical-align: top;\n",
       "    }\n",
       "\n",
       "    .dataframe thead th {\n",
       "        text-align: right;\n",
       "    }\n",
       "</style>\n",
       "<table border=\"1\" class=\"dataframe\">\n",
       "  <thead>\n",
       "    <tr style=\"text-align: right;\">\n",
       "      <th></th>\n",
       "      <th>(0,0)</th>\n",
       "      <th>(0,5)</th>\n",
       "      <th>(0,10)</th>\n",
       "      <th>(5,0)</th>\n",
       "      <th>(5,5)</th>\n",
       "      <th>(5,10)</th>\n",
       "      <th>(10,0)</th>\n",
       "      <th>(10,5)</th>\n",
       "      <th>(10,10)</th>\n",
       "    </tr>\n",
       "  </thead>\n",
       "  <tbody>\n",
       "    <tr>\n",
       "      <th>0</th>\n",
       "      <td>0</td>\n",
       "      <td>0</td>\n",
       "      <td>5</td>\n",
       "      <td>0</td>\n",
       "      <td>5</td>\n",
       "      <td>10</td>\n",
       "      <td>0</td>\n",
       "      <td>5</td>\n",
       "      <td>10</td>\n",
       "    </tr>\n",
       "  </tbody>\n",
       "</table>\n",
       "</div>"
      ],
      "text/plain": [
       "   (0,0)  (0,5)  (0,10)  (5,0)  (5,5)  (5,10)  (10,0)  (10,5)  (10,10)\n",
       "0      0      0       5      0      5      10       0       5       10"
      ]
     },
     "execution_count": 63,
     "metadata": {},
     "output_type": "execute_result"
    }
   ],
   "source": [
    "df = pd.DataFrame(np.array([[a_opt(x, Q_0_) for x in X]]))\n",
    "df.columns = ['(0,0)', '(0,5)', '(0,10)', '(5,0)', '(5,5)', '(5,10)', '(10,0)', '(10,5)', '(10,10)']\n",
    "df"
   ]
  },
  {
   "cell_type": "code",
   "execution_count": 64,
   "metadata": {},
   "outputs": [
    {
     "data": {
      "text/plain": [
       "array([[287617.,  10173.,  10168.],\n",
       "       [300865.,  10800.,  10810.],\n",
       "       [   415.,  10388.,    410.],\n",
       "       [ 10395.,    411.,    331.],\n",
       "       [ 10254., 282430.,  10051.],\n",
       "       [   385.,    423.,  10279.],\n",
       "       [ 10476.,    380.,    403.],\n",
       "       [   415.,  10297.,    382.],\n",
       "       [   363.,    416.,  10263.]])"
      ]
     },
     "execution_count": 64,
     "metadata": {},
     "output_type": "execute_result"
    }
   ],
   "source": [
    "V"
   ]
  },
  {
   "cell_type": "code",
   "execution_count": 65,
   "metadata": {},
   "outputs": [
    {
     "data": {
      "text/plain": [
       "<matplotlib.image.AxesImage at 0x21b82202190>"
      ]
     },
     "execution_count": 65,
     "metadata": {},
     "output_type": "execute_result"
    },
    {
     "data": {
      "image/png": "[encoded data removed]",
      "text/plain": [
       "<Figure size 400x1200 with 1 Axes>"
      ]
     },
     "metadata": {},
     "output_type": "display_data"
    }
   ],
   "source": [
    "plt.matshow(V, cmap='gray')"
   ]
  },
  {
   "attachments": {},
   "cell_type": "markdown",
   "metadata": {},
   "source": [
    "Adding new transition kernels, and uncertainty"
   ]
  },
  {
   "cell_type": "code",
   "execution_count": 28,
   "metadata": {},
   "outputs": [],
   "source": [
    "c1 = 1 / 10\n",
    "\n",
    "def r(x,a,y):\n",
    "    x1, x2 = x\n",
    "    y1, y2 = y\n",
    "    return(c1 * (x2 - a >= 0) * a - 10 * (x2 - a < 0)) # Reward function\n",
    "\n",
    "rr = 1\n",
    "dr = 0\n",
    "gr = 1\n",
    "npp = 0\n",
    "def P1(x,a):\n",
    "    unif      = np.random.uniform(0)\n",
    "    if (unif > eps_greedy):\n",
    "        x1, x2 = x\n",
    "        x2_ = max(x2 - a, 0)\n",
    "        y1  = min(rr * x2_ + npp * 5, 5)\n",
    "        y2  = min(x2_ - 5 * dr + gr * x1, 5)\n",
    "        return(y1, y2)\n",
    "    else:\n",
    "        return rng.choice(X)\n",
    "    \n",
    "    \n",
    "eps1 = 1\n",
    "npp2 = 1\n",
    "def P2(x,a):\n",
    "    unif      = np.random.uniform(0)\n",
    "    if (unif > eps_greedy):\n",
    "        x1, x2 = x\n",
    "        unif2 = np.random.uniform(0)\n",
    "        x2_ = max(x2 - a, 0)\n",
    "        y1  = min(rr * x2_ + ((unif2 > eps1) * npp + (unif2 <= eps1) * npp2) * 5 , 5)\n",
    "        y2  = min(x2_ - 5 * dr + gr * x1, 5)\n",
    "        return(y1, y2)\n",
    "    else:\n",
    "        return rng.choice(X)\n",
    "\n",
    "eps3 = 0.5\n",
    "dr3  = 1\n",
    "rr3   = 2\n",
    "def P3(x,a):\n",
    "    unif      = np.random.uniform(0)\n",
    "    if (unif > eps_greedy):\n",
    "        x1, x2 = x\n",
    "        unif2 = np.random.uniform(0)\n",
    "        x2_  = max(x2 - a, 0)\n",
    "        y1   = min(rr3 * x2_ + npp * 5 , 10)\n",
    "        x2__ = max(x2_ - ((unif2 > eps3) * dr + (unif2 <= eps3) * dr3) * 5, 0)\n",
    "        y2   = min(x2__ + gr * x1, 10)\n",
    "        return(y1, y2)\n",
    "    else:\n",
    "        return rng.choice(X)\n",
    "\n",
    "    \n",
    "# CREATE THE PROBABILITY MEASURE OUT OF THE RANDOM VARIABLE\n",
    "nr = 1_000\n",
    "p1_ = np.zeros([len(X), len(A), len(X)])\n",
    "p2_ = np.zeros([len(X), len(A), len(X)])\n",
    "p3_ = np.zeros([len(X), len(A), len(X)])\n",
    "for n in range(nr):\n",
    "    for x in X:\n",
    "        for a in A:\n",
    "            y1 = P1(x,a)\n",
    "            x_1 = x_index(y1)\n",
    "            p1_[x_index(x), a_index(a), x_1] += 1\n",
    "            y2 = P2(x,a)\n",
    "            x_2 = x_index(y2)\n",
    "            p2_[x_index(x), a_index(a), x_2] += 1\n",
    "            y3 = P3(x,a)\n",
    "            x_3 = x_index(y3)\n",
    "            p3_[x_index(x), a_index(a), x_3] += 1\n",
    "p1_ = p1_/nr\n",
    "p2_ = p2_/nr\n",
    "p3_ = p3_/nr\n",
    "def p1(x,a,y):\n",
    "    return(p1_[x_index(x), a_index(a), x_index(y)])\n",
    "def p2(x,a,y):\n",
    "    return(p2_[x_index(x), a_index(a), x_index(y)])\n",
    "def p3(x,a,y):\n",
    "    return(p3_[x_index(x), a_index(a), x_index(y)])\n",
    "\n",
    "alpha      = 0.95  # Discount Factor\n",
    "x_0        = (10,10) # Initial Value\n",
    "k_0        = 0     # Initial index of the corresponding MDP, starting with the central proba of 1/2\n",
    "eps_greedy = 0.1   # Epsilon greedy policy"
   ]
  },
  {
   "cell_type": "code",
   "execution_count": 29,
   "metadata": {},
   "outputs": [
    {
     "name": "stderr",
     "output_type": "stream",
     "text": [
      "100%|██████████| 1000000/1000000 [00:31<00:00, 31606.64it/s]\n"
     ]
    },
    {
     "data": {
      "text/html": [
       "<div>\n",
       "<style scoped>\n",
       "    .dataframe tbody tr th:only-of-type {\n",
       "        vertical-align: middle;\n",
       "    }\n",
       "\n",
       "    .dataframe tbody tr th {\n",
       "        vertical-align: top;\n",
       "    }\n",
       "\n",
       "    .dataframe thead th {\n",
       "        text-align: right;\n",
       "    }\n",
       "</style>\n",
       "<table border=\"1\" class=\"dataframe\">\n",
       "  <thead>\n",
       "    <tr style=\"text-align: right;\">\n",
       "      <th></th>\n",
       "      <th>(0,0)</th>\n",
       "      <th>(0,5)</th>\n",
       "      <th>(0,10)</th>\n",
       "      <th>(5,0)</th>\n",
       "      <th>(5,5)</th>\n",
       "      <th>(5,10)</th>\n",
       "      <th>(10,0)</th>\n",
       "      <th>(10,5)</th>\n",
       "      <th>(10,10)</th>\n",
       "    </tr>\n",
       "  </thead>\n",
       "  <tbody>\n",
       "    <tr>\n",
       "      <th>0</th>\n",
       "      <td>0</td>\n",
       "      <td>5</td>\n",
       "      <td>10</td>\n",
       "      <td>0</td>\n",
       "      <td>5</td>\n",
       "      <td>10</td>\n",
       "      <td>0</td>\n",
       "      <td>5</td>\n",
       "      <td>10</td>\n",
       "    </tr>\n",
       "  </tbody>\n",
       "</table>\n",
       "</div>"
      ],
      "text/plain": [
       "   (0,0)  (0,5)  (0,10)  (5,0)  (5,5)  (5,10)  (10,0)  (10,5)  (10,10)\n",
       "0      0      5      10      0      5      10       0       5       10"
      ]
     },
     "execution_count": 29,
     "metadata": {},
     "output_type": "execute_result"
    }
   ],
   "source": [
    "Nr_iter = 1_000_000\n",
    "Q_0_, V = q_learning(X, A, r, P2, alpha, x_0, eps_greedy, Nr_iter, gamma_t_tilde = lambda t: 1/(t+1), Q_0 = np.ones([len(X),len(A)]))\n",
    "df = pd.DataFrame(np.array([[a_opt(x, Q_0_) for x in X]]))\n",
    "df.columns = ['(0,0)', '(0,5)', '(0,10)', '(5,0)', '(5,5)', '(5,10)', '(10,0)', '(10,5)', '(10,10)']\n",
    "df"
   ]
  },
  {
   "cell_type": "code",
   "execution_count": 30,
   "metadata": {},
   "outputs": [
    {
     "name": "stderr",
     "output_type": "stream",
     "text": [
      "100%|██████████| 1000000/1000000 [09:52<00:00, 1687.04it/s]\n"
     ]
    },
    {
     "data": {
      "text/html": [
       "<div>\n",
       "<style scoped>\n",
       "    .dataframe tbody tr th:only-of-type {\n",
       "        vertical-align: middle;\n",
       "    }\n",
       "\n",
       "    .dataframe tbody tr th {\n",
       "        vertical-align: top;\n",
       "    }\n",
       "\n",
       "    .dataframe thead th {\n",
       "        text-align: right;\n",
       "    }\n",
       "</style>\n",
       "<table border=\"1\" class=\"dataframe\">\n",
       "  <thead>\n",
       "    <tr style=\"text-align: right;\">\n",
       "      <th></th>\n",
       "      <th>(0,0)</th>\n",
       "      <th>(0,5)</th>\n",
       "      <th>(0,10)</th>\n",
       "      <th>(5,0)</th>\n",
       "      <th>(5,5)</th>\n",
       "      <th>(5,10)</th>\n",
       "      <th>(10,0)</th>\n",
       "      <th>(10,5)</th>\n",
       "      <th>(10,10)</th>\n",
       "    </tr>\n",
       "  </thead>\n",
       "  <tbody>\n",
       "    <tr>\n",
       "      <th>0</th>\n",
       "      <td>0</td>\n",
       "      <td>5</td>\n",
       "      <td>10</td>\n",
       "      <td>0</td>\n",
       "      <td>5</td>\n",
       "      <td>10</td>\n",
       "      <td>0</td>\n",
       "      <td>5</td>\n",
       "      <td>10</td>\n",
       "    </tr>\n",
       "  </tbody>\n",
       "</table>\n",
       "</div>"
      ],
      "text/plain": [
       "   (0,0)  (0,5)  (0,10)  (5,0)  (5,5)  (5,10)  (10,0)  (10,5)  (10,10)\n",
       "0      0      5      10      0      5      10       0       5       10"
      ]
     },
     "execution_count": 30,
     "metadata": {},
     "output_type": "execute_result"
    }
   ],
   "source": [
    "Nr_iter = 1_000_000\n",
    "Q_opt_robust, V = robust_q_learning_v2(X, A, r, np.array([P1, P2, P3]), np.array([p1, p2, p3]), alpha, x_0, k_0, eps_greedy, Nr_iter, gamma_t_tilde = lambda t: 1/(t+1), Q_0 = np.ones([len(X),len(A)]))\n",
    "df = pd.DataFrame(np.array([[a_opt(x, Q_opt_robust) for x in X]]))\n",
    "df.columns = ['(0,0)', '(0,5)', '(0,10)', '(5,0)', '(5,5)', '(5,10)', '(10,0)', '(10,5)', '(10,10)']\n",
    "df"
   ]
  },
  {
   "attachments": {},
   "cell_type": "markdown",
   "metadata": {},
   "source": [
    "Now lets add a new species to simulate the willingness to keep a certain biodiversity"
   ]
  },
  {
   "cell_type": "code",
   "execution_count": 31,
   "metadata": {},
   "outputs": [],
   "source": [
    "#%load_ext autoreload\n",
    "#%autoreload 2\n",
    "import numpy as np\n",
    "import copy \n",
    "import random\n",
    "import pandas as pd\n",
    "from tqdm import tqdm\n",
    "from scipy.stats import binom\n",
    "from scipy.optimize import minimize\n",
    "import matplotlib.pyplot as plt"
   ]
  },
  {
   "cell_type": "code",
   "execution_count": 2,
   "metadata": {},
   "outputs": [],
   "source": [
    "#from robust_q_learning_v3 import *\n",
    "#from q_learning_v2 import *"
   ]
  },
  {
   "cell_type": "code",
   "execution_count": 32,
   "metadata": {},
   "outputs": [],
   "source": [
    "from robust_q_learning_v2 import *\n",
    "from q_learning import *"
   ]
  },
  {
   "cell_type": "code",
   "execution_count": 33,
   "metadata": {},
   "outputs": [],
   "source": [
    "A_s1 = np.array([0, 5]) # Actions\n",
    "X    = []\n",
    "for x1 in A_s1:\n",
    "    for x2 in A_s1:\n",
    "        X += [(x1, x2)]\n",
    "X_s1 = np.array(X) # States\n",
    "\n",
    "A_s2 = np.array([0, 5, 10]) # Actions\n",
    "X    = []\n",
    "for x1 in A_s2:\n",
    "    for x2 in A_s2:\n",
    "        X += [(x1, x2)]\n",
    "X_s2 = np.array(X) # States\n",
    "\n",
    "A = []\n",
    "for a1 in A_s1:\n",
    "    for a2 in A_s2:\n",
    "        A += [(a1, a2)]\n",
    "A = np.array(A) # Actions\n",
    "X = []\n",
    "for x1 in X_s1:\n",
    "    for x2 in X_s2:\n",
    "        X += [(x1, x2)]\n",
    "X = np.array(X) # States"
   ]
  },
  {
   "cell_type": "code",
   "execution_count": 34,
   "metadata": {},
   "outputs": [],
   "source": [
    "# Build the functions that allow us to get the index of an element a (reps. x) in A (resp. X)\n",
    "if np.ndim(A) > 1:\n",
    "    A_list = A\n",
    "else:\n",
    "    A_list = np.array([[a] for a in A])\n",
    "if np.ndim(X) > 1:\n",
    "    X_list = X\n",
    "else:\n",
    "    X_list = np.array([[x] for x in X])\n",
    "\n",
    "def a_index(a):\n",
    "    return np.flatnonzero((a==A_list).all(1))[0]\n",
    "def x_index(x):\n",
    "    return np.flatnonzero((x==X_list).all(1))[0]"
   ]
  },
  {
   "cell_type": "code",
   "execution_count": 35,
   "metadata": {},
   "outputs": [],
   "source": [
    "c1 = 2 / 5 \n",
    "c2 = 1 / 10 \n",
    "psy  = 1\n",
    "\n",
    "def r(x,a,y):\n",
    "    x_s1, x_s2   = x\n",
    "    y_s1, y_s2   = y\n",
    "    x1_s1, x2_s1 = x_s1\n",
    "    x1_s2, x2_s2 = x_s2\n",
    "    y1_s1, y2_s1 = y_s1\n",
    "    y1_s2, y2_s2 = y_s2\n",
    "    a_s1, a_s2   = a\n",
    "\n",
    "    food_s1      = c1 * (x2_s1 - a_s1 >= 0) * a_s1 - 10 * (x2_s1 - a_s1 < 0)  #Optimization term, regarding the food that the species 1 can give us\n",
    "    food_s2      = c2 * (x2_s2 - a_s2 >= 0) * a_s2 - 10 * (x2_s2 - a_s2 < 0)  #Optimization term, regarding the food that the species 2 can give us\n",
    "    biod         = psy  * (y1_s1 + y2_s1 > 0) * (y1_s2 + y2_s2 > 0)           #Optimization term, regarding the biodiversity we want to keep\n",
    "    return(food_s1 + food_s2 + biod) # Reward function\n",
    "\n",
    "rr = 1\n",
    "dr = 0\n",
    "gr = 1\n",
    "npp = 0\n",
    "def P(x,a):\n",
    "    unif      = np.random.uniform(0)\n",
    "    if (unif > eps_greedy):\n",
    "        x_s1, x_s2   = x\n",
    "        x1_s1, x2_s1 = x_s1\n",
    "        x1_s2, x2_s2 = x_s2\n",
    "        a_s1, a_s2   = a \n",
    "        \n",
    "        x2_s1_ = max(x2_s1 - a_s1, 0)\n",
    "        y1_s1  = min(rr * x2_s1_ + npp * 5, 5)\n",
    "        y2_s1  = min(x2_s1_ - 5 * dr + gr * x1_s1, 5)\n",
    "        \n",
    "        x2_s2_ = max(x2_s2 - a_s2, 0)\n",
    "        y1_s2  = min(rr * x2_s2_ + npp * 5, 10)\n",
    "        y2_s2  = min(x2_s2_ - 5 * dr + gr * x1_s2, 10)\n",
    "        \n",
    "        return ((y1_s1, y2_s1), (y1_s2, y2_s2))\n",
    "    else:\n",
    "        return rng.choice(X)\n",
    "\n",
    "# CREATE THE PROBABILITY MEASURE OUT OF THE RANDOM VARIABLE\n",
    "nr = 1_000\n",
    "p_ = np.zeros([len(X), len(A), len(X)])\n",
    "for n in range(nr):\n",
    "    for x in X:\n",
    "        for a in A:\n",
    "            y = P(x,a)\n",
    "            x_ = x_index(y)\n",
    "            p_[x_index(x), a_index(a), x_] += 1\n",
    "p_ = p_/nr\n",
    "def p(x,a,y):\n",
    "    return(p_[x_index(x), a_index(a), x_index(y)])\n",
    "\n",
    "alpha      = 0.95  # Discount Factor\n",
    "x_0        = ((5, 5), (10, 10)) # Initial Value\n",
    "k_0        = 0     # Initial index of the corresponding MDP, starting with the central proba of 1/2\n",
    "eps_greedy = 0.1   # Epsilon greedy policy"
   ]
  },
  {
   "cell_type": "code",
   "execution_count": 36,
   "metadata": {},
   "outputs": [
    {
     "name": "stderr",
     "output_type": "stream",
     "text": [
      "  0%|          | 0/1000000 [00:00<?, ?it/s]"
     ]
    },
    {
     "name": "stderr",
     "output_type": "stream",
     "text": [
      "100%|██████████| 1000000/1000000 [00:47<00:00, 20941.66it/s]\n"
     ]
    }
   ],
   "source": [
    "Nr_iter = 1_000_000\n",
    "\n",
    "Q_0_, V = q_learning(X, A, r, P, alpha, x_0, eps_greedy, Nr_iter, gamma_t_tilde = lambda t: 1/(t+1), Q_0 = np.ones([len(X),len(A)]))"
   ]
  },
  {
   "cell_type": "code",
   "execution_count": 37,
   "metadata": {},
   "outputs": [],
   "source": [
    "# Get the result of the Q-Learning algorithm,\n",
    "# Get the optimal results for each x in X\n",
    "def a_opt(x, Q_opt):\n",
    "    return A[np.argmax(Q_opt[x_index(x),:])]"
   ]
  },
  {
   "cell_type": "code",
   "execution_count": 38,
   "metadata": {},
   "outputs": [],
   "source": [
    "Result = np.array([[a_opt(x, Q_0_) for x in X]])\n",
    "Result = Result[0]"
   ]
  },
  {
   "cell_type": "code",
   "execution_count": 39,
   "metadata": {},
   "outputs": [],
   "source": [
    "pd.set_option('display.max_columns', None)"
   ]
  },
  {
   "cell_type": "code",
   "execution_count": 40,
   "metadata": {},
   "outputs": [
    {
     "data": {
      "text/html": [
       "<div>\n",
       "<style scoped>\n",
       "    .dataframe tbody tr th:only-of-type {\n",
       "        vertical-align: middle;\n",
       "    }\n",
       "\n",
       "    .dataframe tbody tr th {\n",
       "        vertical-align: top;\n",
       "    }\n",
       "\n",
       "    .dataframe thead tr th {\n",
       "        text-align: left;\n",
       "    }\n",
       "\n",
       "    .dataframe thead tr:last-of-type th {\n",
       "        text-align: right;\n",
       "    }\n",
       "</style>\n",
       "<table border=\"1\" class=\"dataframe\">\n",
       "  <thead>\n",
       "    <tr>\n",
       "      <th>A</th>\n",
       "      <th colspan=\"9\" halign=\"left\">(0 0)</th>\n",
       "      <th colspan=\"9\" halign=\"left\">(0 5)</th>\n",
       "      <th colspan=\"9\" halign=\"left\">(5 0)</th>\n",
       "      <th colspan=\"9\" halign=\"left\">(5 5)</th>\n",
       "    </tr>\n",
       "    <tr>\n",
       "      <th>B</th>\n",
       "      <th>(0 0)</th>\n",
       "      <th>(0 5)</th>\n",
       "      <th>( 0 10)</th>\n",
       "      <th>(5 0)</th>\n",
       "      <th>(5 5)</th>\n",
       "      <th>( 5 10)</th>\n",
       "      <th>(10  0)</th>\n",
       "      <th>(10  5)</th>\n",
       "      <th>(10 10)</th>\n",
       "      <th>(0 0)</th>\n",
       "      <th>(0 5)</th>\n",
       "      <th>( 0 10)</th>\n",
       "      <th>(5 0)</th>\n",
       "      <th>(5 5)</th>\n",
       "      <th>( 5 10)</th>\n",
       "      <th>(10  0)</th>\n",
       "      <th>(10  5)</th>\n",
       "      <th>(10 10)</th>\n",
       "      <th>(0 0)</th>\n",
       "      <th>(0 5)</th>\n",
       "      <th>( 0 10)</th>\n",
       "      <th>(5 0)</th>\n",
       "      <th>(5 5)</th>\n",
       "      <th>( 5 10)</th>\n",
       "      <th>(10  0)</th>\n",
       "      <th>(10  5)</th>\n",
       "      <th>(10 10)</th>\n",
       "      <th>(0 0)</th>\n",
       "      <th>(0 5)</th>\n",
       "      <th>( 0 10)</th>\n",
       "      <th>(5 0)</th>\n",
       "      <th>(5 5)</th>\n",
       "      <th>( 5 10)</th>\n",
       "      <th>(10  0)</th>\n",
       "      <th>(10  5)</th>\n",
       "      <th>(10 10)</th>\n",
       "    </tr>\n",
       "    <tr>\n",
       "      <th>Species</th>\n",
       "      <th></th>\n",
       "      <th></th>\n",
       "      <th></th>\n",
       "      <th></th>\n",
       "      <th></th>\n",
       "      <th></th>\n",
       "      <th></th>\n",
       "      <th></th>\n",
       "      <th></th>\n",
       "      <th></th>\n",
       "      <th></th>\n",
       "      <th></th>\n",
       "      <th></th>\n",
       "      <th></th>\n",
       "      <th></th>\n",
       "      <th></th>\n",
       "      <th></th>\n",
       "      <th></th>\n",
       "      <th></th>\n",
       "      <th></th>\n",
       "      <th></th>\n",
       "      <th></th>\n",
       "      <th></th>\n",
       "      <th></th>\n",
       "      <th></th>\n",
       "      <th></th>\n",
       "      <th></th>\n",
       "      <th></th>\n",
       "      <th></th>\n",
       "      <th></th>\n",
       "      <th></th>\n",
       "      <th></th>\n",
       "      <th></th>\n",
       "      <th></th>\n",
       "      <th></th>\n",
       "      <th></th>\n",
       "    </tr>\n",
       "  </thead>\n",
       "  <tbody>\n",
       "    <tr>\n",
       "      <th>0</th>\n",
       "      <td>0</td>\n",
       "      <td>0</td>\n",
       "      <td>0</td>\n",
       "      <td>0</td>\n",
       "      <td>0</td>\n",
       "      <td>0</td>\n",
       "      <td>0</td>\n",
       "      <td>0</td>\n",
       "      <td>0</td>\n",
       "      <td>0</td>\n",
       "      <td>0</td>\n",
       "      <td>0</td>\n",
       "      <td>0</td>\n",
       "      <td>0</td>\n",
       "      <td>0</td>\n",
       "      <td>0</td>\n",
       "      <td>0</td>\n",
       "      <td>0</td>\n",
       "      <td>0</td>\n",
       "      <td>0</td>\n",
       "      <td>0</td>\n",
       "      <td>0</td>\n",
       "      <td>0</td>\n",
       "      <td>0</td>\n",
       "      <td>0</td>\n",
       "      <td>0</td>\n",
       "      <td>0</td>\n",
       "      <td>5</td>\n",
       "      <td>5</td>\n",
       "      <td>5</td>\n",
       "      <td>5</td>\n",
       "      <td>5</td>\n",
       "      <td>5</td>\n",
       "      <td>5</td>\n",
       "      <td>5</td>\n",
       "      <td>5</td>\n",
       "    </tr>\n",
       "    <tr>\n",
       "      <th>1</th>\n",
       "      <td>0</td>\n",
       "      <td>0</td>\n",
       "      <td>0</td>\n",
       "      <td>0</td>\n",
       "      <td>5</td>\n",
       "      <td>5</td>\n",
       "      <td>0</td>\n",
       "      <td>5</td>\n",
       "      <td>5</td>\n",
       "      <td>0</td>\n",
       "      <td>0</td>\n",
       "      <td>0</td>\n",
       "      <td>5</td>\n",
       "      <td>5</td>\n",
       "      <td>5</td>\n",
       "      <td>0</td>\n",
       "      <td>0</td>\n",
       "      <td>0</td>\n",
       "      <td>0</td>\n",
       "      <td>5</td>\n",
       "      <td>5</td>\n",
       "      <td>0</td>\n",
       "      <td>5</td>\n",
       "      <td>5</td>\n",
       "      <td>0</td>\n",
       "      <td>5</td>\n",
       "      <td>5</td>\n",
       "      <td>0</td>\n",
       "      <td>0</td>\n",
       "      <td>5</td>\n",
       "      <td>0</td>\n",
       "      <td>0</td>\n",
       "      <td>5</td>\n",
       "      <td>0</td>\n",
       "      <td>0</td>\n",
       "      <td>5</td>\n",
       "    </tr>\n",
       "  </tbody>\n",
       "</table>\n",
       "</div>"
      ],
      "text/plain": [
       "A       (0 0)                                                           (0 5)  \\\n",
       "B       (0 0) (0 5) ( 0 10) (5 0) (5 5) ( 5 10) (10  0) (10  5) (10 10) (0 0)   \n",
       "Species                                                                         \n",
       "0           0     0       0     0     0       0       0       0       0     0   \n",
       "1           0     0       0     0     5       5       0       5       5     0   \n",
       "\n",
       "A                                                                 (5 0)        \\\n",
       "B       (0 5) ( 0 10) (5 0) (5 5) ( 5 10) (10  0) (10  5) (10 10) (0 0) (0 5)   \n",
       "Species                                                                         \n",
       "0           0       0     0     0       0       0       0       0     0     0   \n",
       "1           0       0     5     5       5       0       0       0     0     5   \n",
       "\n",
       "A                                                           (5 5)        \\\n",
       "B       ( 0 10) (5 0) (5 5) ( 5 10) (10  0) (10  5) (10 10) (0 0) (0 5)   \n",
       "Species                                                                   \n",
       "0             0     0     0       0       0       0       0     5     5   \n",
       "1             5     0     5       5       0       5       5     0     0   \n",
       "\n",
       "A                                                            \n",
       "B       ( 0 10) (5 0) (5 5) ( 5 10) (10  0) (10  5) (10 10)  \n",
       "Species                                                      \n",
       "0             5     5     5       5       5       5       5  \n",
       "1             5     0     0       5       0       0       5  "
      ]
     },
     "execution_count": 40,
     "metadata": {},
     "output_type": "execute_result"
    }
   ],
   "source": [
    "\n",
    "df = pd.DataFrame(Result.T)\n",
    "df.columns = pd.MultiIndex.from_tuples([(str(x[0]).replace(\"[\", \"(\").replace(\"]\", \")\"), str(x[1]).replace(\"[\", \"(\").replace(\"]\", \")\")) for x in X]) #[str(x) for x in X]\n",
    "df.index.name = \"Species\"\n",
    "df.columns.names = [\"A\", \"B\"]\n",
    "df"
   ]
  },
  {
   "cell_type": "code",
   "execution_count": 11,
   "metadata": {},
   "outputs": [],
   "source": [
    "#df.to_csv(\"df_bio1_nonrobust.csv\")"
   ]
  },
  {
   "cell_type": "code",
   "execution_count": 41,
   "metadata": {},
   "outputs": [
    {
     "data": {
      "text/plain": [
       "array([[2.54491e+05, 4.70600e+03, 4.59700e+03, 4.59700e+03, 4.70700e+03,\n",
       "        4.72800e+03],\n",
       "       [1.26010e+04, 2.19000e+02, 2.32000e+02, 2.24000e+02, 2.37000e+02,\n",
       "        2.18000e+02],\n",
       "       [0.00000e+00, 0.00000e+00, 0.00000e+00, 0.00000e+00, 0.00000e+00,\n",
       "        0.00000e+00],\n",
       "       [2.08000e+03, 6.28310e+04, 1.22600e+03, 1.17000e+03, 1.12700e+03,\n",
       "        1.16800e+03],\n",
       "       [0.00000e+00, 0.00000e+00, 0.00000e+00, 0.00000e+00, 0.00000e+00,\n",
       "        0.00000e+00],\n",
       "       [2.29100e+03, 1.10057e+05, 1.92240e+04, 2.31100e+03, 2.33200e+03,\n",
       "        2.36200e+03],\n",
       "       [5.77900e+03, 1.79410e+05, 3.34800e+03, 3.41600e+03, 3.43300e+03,\n",
       "        3.37700e+03],\n",
       "       [0.00000e+00, 0.00000e+00, 0.00000e+00, 0.00000e+00, 0.00000e+00,\n",
       "        0.00000e+00],\n",
       "       [0.00000e+00, 0.00000e+00, 0.00000e+00, 0.00000e+00, 0.00000e+00,\n",
       "        0.00000e+00],\n",
       "       [0.00000e+00, 0.00000e+00, 0.00000e+00, 0.00000e+00, 0.00000e+00,\n",
       "        0.00000e+00],\n",
       "       [0.00000e+00, 0.00000e+00, 0.00000e+00, 0.00000e+00, 0.00000e+00,\n",
       "        0.00000e+00],\n",
       "       [0.00000e+00, 0.00000e+00, 0.00000e+00, 0.00000e+00, 0.00000e+00,\n",
       "        0.00000e+00],\n",
       "       [1.00800e+04, 1.73000e+02, 1.83000e+02, 1.95000e+02, 1.88000e+02,\n",
       "        1.64000e+02],\n",
       "       [0.00000e+00, 0.00000e+00, 0.00000e+00, 0.00000e+00, 0.00000e+00,\n",
       "        0.00000e+00],\n",
       "       [0.00000e+00, 0.00000e+00, 0.00000e+00, 0.00000e+00, 0.00000e+00,\n",
       "        0.00000e+00],\n",
       "       [0.00000e+00, 0.00000e+00, 0.00000e+00, 0.00000e+00, 0.00000e+00,\n",
       "        0.00000e+00],\n",
       "       [0.00000e+00, 0.00000e+00, 0.00000e+00, 0.00000e+00, 0.00000e+00,\n",
       "        0.00000e+00],\n",
       "       [0.00000e+00, 0.00000e+00, 0.00000e+00, 0.00000e+00, 0.00000e+00,\n",
       "        0.00000e+00],\n",
       "       [0.00000e+00, 0.00000e+00, 0.00000e+00, 0.00000e+00, 0.00000e+00,\n",
       "        0.00000e+00],\n",
       "       [1.13300e+03, 1.12200e+03, 1.16500e+03, 6.05950e+04, 1.06200e+03,\n",
       "        1.15700e+03],\n",
       "       [0.00000e+00, 0.00000e+00, 0.00000e+00, 0.00000e+00, 0.00000e+00,\n",
       "        0.00000e+00],\n",
       "       [1.29400e+03, 1.25000e+03, 1.21700e+03, 6.70500e+04, 1.23300e+03,\n",
       "        1.21000e+03],\n",
       "       [0.00000e+00, 0.00000e+00, 0.00000e+00, 0.00000e+00, 0.00000e+00,\n",
       "        0.00000e+00],\n",
       "       [2.47500e+03, 2.54300e+03, 2.43600e+03, 2.58100e+03, 1.38462e+05,\n",
       "        2.53300e+03],\n",
       "       [0.00000e+00, 0.00000e+00, 0.00000e+00, 0.00000e+00, 0.00000e+00,\n",
       "        0.00000e+00],\n",
       "       [0.00000e+00, 0.00000e+00, 0.00000e+00, 0.00000e+00, 0.00000e+00,\n",
       "        0.00000e+00],\n",
       "       [0.00000e+00, 0.00000e+00, 0.00000e+00, 0.00000e+00, 0.00000e+00,\n",
       "        0.00000e+00],\n",
       "       [0.00000e+00, 0.00000e+00, 0.00000e+00, 0.00000e+00, 0.00000e+00,\n",
       "        0.00000e+00],\n",
       "       [0.00000e+00, 0.00000e+00, 0.00000e+00, 0.00000e+00, 0.00000e+00,\n",
       "        0.00000e+00],\n",
       "       [0.00000e+00, 0.00000e+00, 0.00000e+00, 0.00000e+00, 0.00000e+00,\n",
       "        0.00000e+00],\n",
       "       [0.00000e+00, 0.00000e+00, 0.00000e+00, 0.00000e+00, 0.00000e+00,\n",
       "        0.00000e+00],\n",
       "       [0.00000e+00, 0.00000e+00, 0.00000e+00, 0.00000e+00, 0.00000e+00,\n",
       "        0.00000e+00],\n",
       "       [0.00000e+00, 0.00000e+00, 0.00000e+00, 0.00000e+00, 0.00000e+00,\n",
       "        0.00000e+00],\n",
       "       [0.00000e+00, 0.00000e+00, 0.00000e+00, 0.00000e+00, 0.00000e+00,\n",
       "        0.00000e+00],\n",
       "       [0.00000e+00, 0.00000e+00, 0.00000e+00, 0.00000e+00, 0.00000e+00,\n",
       "        0.00000e+00],\n",
       "       [0.00000e+00, 0.00000e+00, 0.00000e+00, 0.00000e+00, 0.00000e+00,\n",
       "        0.00000e+00]])"
      ]
     },
     "execution_count": 41,
     "metadata": {},
     "output_type": "execute_result"
    }
   ],
   "source": [
    "V"
   ]
  },
  {
   "cell_type": "code",
   "execution_count": 42,
   "metadata": {},
   "outputs": [
    {
     "name": "stderr",
     "output_type": "stream",
     "text": [
      "  0%|          | 102/1000000 [00:00<16:29, 1010.96it/s]"
     ]
    },
    {
     "name": "stderr",
     "output_type": "stream",
     "text": [
      "100%|██████████| 1000000/1000000 [17:12<00:00, 968.57it/s]\n"
     ]
    }
   ],
   "source": [
    "Q_opt_robust, V = robust_q_learning_v2(X, A, r, np.array([P]), np.array([p]), alpha, x_0, k_0, eps_greedy, Nr_iter, gamma_t_tilde = lambda t: 1/(t+1), Q_0 = np.ones([len(X),len(A)]))"
   ]
  },
  {
   "cell_type": "code",
   "execution_count": 43,
   "metadata": {},
   "outputs": [],
   "source": [
    "Result_r = np.array([[a_opt(x, Q_opt_robust) for x in X]])\n",
    "Result_r = Result_r[0]"
   ]
  },
  {
   "cell_type": "code",
   "execution_count": 44,
   "metadata": {},
   "outputs": [
    {
     "data": {
      "text/html": [
       "<div>\n",
       "<style scoped>\n",
       "    .dataframe tbody tr th:only-of-type {\n",
       "        vertical-align: middle;\n",
       "    }\n",
       "\n",
       "    .dataframe tbody tr th {\n",
       "        vertical-align: top;\n",
       "    }\n",
       "\n",
       "    .dataframe thead tr th {\n",
       "        text-align: left;\n",
       "    }\n",
       "\n",
       "    .dataframe thead tr:last-of-type th {\n",
       "        text-align: right;\n",
       "    }\n",
       "</style>\n",
       "<table border=\"1\" class=\"dataframe\">\n",
       "  <thead>\n",
       "    <tr>\n",
       "      <th>A</th>\n",
       "      <th colspan=\"9\" halign=\"left\">(0 0)</th>\n",
       "      <th colspan=\"9\" halign=\"left\">(0 5)</th>\n",
       "      <th colspan=\"9\" halign=\"left\">(5 0)</th>\n",
       "      <th colspan=\"9\" halign=\"left\">(5 5)</th>\n",
       "    </tr>\n",
       "    <tr>\n",
       "      <th>B</th>\n",
       "      <th>(0 0)</th>\n",
       "      <th>(0 5)</th>\n",
       "      <th>( 0 10)</th>\n",
       "      <th>(5 0)</th>\n",
       "      <th>(5 5)</th>\n",
       "      <th>( 5 10)</th>\n",
       "      <th>(10  0)</th>\n",
       "      <th>(10  5)</th>\n",
       "      <th>(10 10)</th>\n",
       "      <th>(0 0)</th>\n",
       "      <th>(0 5)</th>\n",
       "      <th>( 0 10)</th>\n",
       "      <th>(5 0)</th>\n",
       "      <th>(5 5)</th>\n",
       "      <th>( 5 10)</th>\n",
       "      <th>(10  0)</th>\n",
       "      <th>(10  5)</th>\n",
       "      <th>(10 10)</th>\n",
       "      <th>(0 0)</th>\n",
       "      <th>(0 5)</th>\n",
       "      <th>( 0 10)</th>\n",
       "      <th>(5 0)</th>\n",
       "      <th>(5 5)</th>\n",
       "      <th>( 5 10)</th>\n",
       "      <th>(10  0)</th>\n",
       "      <th>(10  5)</th>\n",
       "      <th>(10 10)</th>\n",
       "      <th>(0 0)</th>\n",
       "      <th>(0 5)</th>\n",
       "      <th>( 0 10)</th>\n",
       "      <th>(5 0)</th>\n",
       "      <th>(5 5)</th>\n",
       "      <th>( 5 10)</th>\n",
       "      <th>(10  0)</th>\n",
       "      <th>(10  5)</th>\n",
       "      <th>(10 10)</th>\n",
       "    </tr>\n",
       "    <tr>\n",
       "      <th>Species</th>\n",
       "      <th></th>\n",
       "      <th></th>\n",
       "      <th></th>\n",
       "      <th></th>\n",
       "      <th></th>\n",
       "      <th></th>\n",
       "      <th></th>\n",
       "      <th></th>\n",
       "      <th></th>\n",
       "      <th></th>\n",
       "      <th></th>\n",
       "      <th></th>\n",
       "      <th></th>\n",
       "      <th></th>\n",
       "      <th></th>\n",
       "      <th></th>\n",
       "      <th></th>\n",
       "      <th></th>\n",
       "      <th></th>\n",
       "      <th></th>\n",
       "      <th></th>\n",
       "      <th></th>\n",
       "      <th></th>\n",
       "      <th></th>\n",
       "      <th></th>\n",
       "      <th></th>\n",
       "      <th></th>\n",
       "      <th></th>\n",
       "      <th></th>\n",
       "      <th></th>\n",
       "      <th></th>\n",
       "      <th></th>\n",
       "      <th></th>\n",
       "      <th></th>\n",
       "      <th></th>\n",
       "      <th></th>\n",
       "    </tr>\n",
       "  </thead>\n",
       "  <tbody>\n",
       "    <tr>\n",
       "      <th>0</th>\n",
       "      <td>0</td>\n",
       "      <td>0</td>\n",
       "      <td>0</td>\n",
       "      <td>0</td>\n",
       "      <td>0</td>\n",
       "      <td>0</td>\n",
       "      <td>0</td>\n",
       "      <td>0</td>\n",
       "      <td>0</td>\n",
       "      <td>0</td>\n",
       "      <td>0</td>\n",
       "      <td>0</td>\n",
       "      <td>0</td>\n",
       "      <td>0</td>\n",
       "      <td>0</td>\n",
       "      <td>0</td>\n",
       "      <td>0</td>\n",
       "      <td>0</td>\n",
       "      <td>0</td>\n",
       "      <td>0</td>\n",
       "      <td>0</td>\n",
       "      <td>0</td>\n",
       "      <td>0</td>\n",
       "      <td>0</td>\n",
       "      <td>0</td>\n",
       "      <td>0</td>\n",
       "      <td>0</td>\n",
       "      <td>5</td>\n",
       "      <td>5</td>\n",
       "      <td>5</td>\n",
       "      <td>5</td>\n",
       "      <td>5</td>\n",
       "      <td>5</td>\n",
       "      <td>5</td>\n",
       "      <td>5</td>\n",
       "      <td>5</td>\n",
       "    </tr>\n",
       "    <tr>\n",
       "      <th>1</th>\n",
       "      <td>0</td>\n",
       "      <td>0</td>\n",
       "      <td>0</td>\n",
       "      <td>0</td>\n",
       "      <td>5</td>\n",
       "      <td>5</td>\n",
       "      <td>0</td>\n",
       "      <td>5</td>\n",
       "      <td>5</td>\n",
       "      <td>0</td>\n",
       "      <td>0</td>\n",
       "      <td>0</td>\n",
       "      <td>5</td>\n",
       "      <td>5</td>\n",
       "      <td>5</td>\n",
       "      <td>0</td>\n",
       "      <td>0</td>\n",
       "      <td>0</td>\n",
       "      <td>0</td>\n",
       "      <td>5</td>\n",
       "      <td>5</td>\n",
       "      <td>0</td>\n",
       "      <td>5</td>\n",
       "      <td>5</td>\n",
       "      <td>0</td>\n",
       "      <td>5</td>\n",
       "      <td>5</td>\n",
       "      <td>0</td>\n",
       "      <td>0</td>\n",
       "      <td>5</td>\n",
       "      <td>0</td>\n",
       "      <td>0</td>\n",
       "      <td>5</td>\n",
       "      <td>0</td>\n",
       "      <td>0</td>\n",
       "      <td>5</td>\n",
       "    </tr>\n",
       "  </tbody>\n",
       "</table>\n",
       "</div>"
      ],
      "text/plain": [
       "A       (0 0)                                                           (0 5)  \\\n",
       "B       (0 0) (0 5) ( 0 10) (5 0) (5 5) ( 5 10) (10  0) (10  5) (10 10) (0 0)   \n",
       "Species                                                                         \n",
       "0           0     0       0     0     0       0       0       0       0     0   \n",
       "1           0     0       0     0     5       5       0       5       5     0   \n",
       "\n",
       "A                                                                 (5 0)        \\\n",
       "B       (0 5) ( 0 10) (5 0) (5 5) ( 5 10) (10  0) (10  5) (10 10) (0 0) (0 5)   \n",
       "Species                                                                         \n",
       "0           0       0     0     0       0       0       0       0     0     0   \n",
       "1           0       0     5     5       5       0       0       0     0     5   \n",
       "\n",
       "A                                                           (5 5)        \\\n",
       "B       ( 0 10) (5 0) (5 5) ( 5 10) (10  0) (10  5) (10 10) (0 0) (0 5)   \n",
       "Species                                                                   \n",
       "0             0     0     0       0       0       0       0     5     5   \n",
       "1             5     0     5       5       0       5       5     0     0   \n",
       "\n",
       "A                                                            \n",
       "B       ( 0 10) (5 0) (5 5) ( 5 10) (10  0) (10  5) (10 10)  \n",
       "Species                                                      \n",
       "0             5     5     5       5       5       5       5  \n",
       "1             5     0     0       5       0       0       5  "
      ]
     },
     "execution_count": 44,
     "metadata": {},
     "output_type": "execute_result"
    }
   ],
   "source": [
    "df = pd.DataFrame(Result.T)\n",
    "df.columns = pd.MultiIndex.from_tuples([(str(x[0]).replace(\"[\", \"(\").replace(\"]\", \")\"), str(x[1]).replace(\"[\", \"(\").replace(\"]\", \")\")) for x in X]) #[str(x) for x in X]\n",
    "df.index.name = \"Species\"\n",
    "df.columns.names = [\"A\", \"B\"]\n",
    "df"
   ]
  },
  {
   "cell_type": "code",
   "execution_count": 45,
   "metadata": {},
   "outputs": [],
   "source": [
    "#df.to_csv(\"df_bio1_robust.csv\")"
   ]
  },
  {
   "cell_type": "code",
   "execution_count": 46,
   "metadata": {},
   "outputs": [
    {
     "data": {
      "text/plain": [
       "array([[1.90392e+05, 3.42500e+03, 3.36500e+03, 3.45700e+03, 3.50600e+03,\n",
       "        3.47000e+03],\n",
       "       [1.28020e+04, 2.59000e+02, 2.06000e+02, 2.49000e+02, 2.42000e+02,\n",
       "        2.47000e+02],\n",
       "       [0.00000e+00, 0.00000e+00, 0.00000e+00, 0.00000e+00, 0.00000e+00,\n",
       "        0.00000e+00],\n",
       "       [1.98920e+04, 1.90340e+04, 6.78000e+02, 6.41000e+02, 7.37000e+02,\n",
       "        6.69000e+02],\n",
       "       [0.00000e+00, 0.00000e+00, 0.00000e+00, 0.00000e+00, 0.00000e+00,\n",
       "        0.00000e+00],\n",
       "       [3.33460e+04, 1.59266e+05, 1.75300e+04, 3.66600e+03, 3.71300e+03,\n",
       "        3.72400e+03],\n",
       "       [1.05190e+04, 1.85246e+05, 3.41900e+03, 3.49800e+03, 3.38100e+03,\n",
       "        3.57900e+03],\n",
       "       [0.00000e+00, 0.00000e+00, 0.00000e+00, 0.00000e+00, 0.00000e+00,\n",
       "        0.00000e+00],\n",
       "       [0.00000e+00, 0.00000e+00, 0.00000e+00, 0.00000e+00, 0.00000e+00,\n",
       "        0.00000e+00],\n",
       "       [0.00000e+00, 0.00000e+00, 0.00000e+00, 0.00000e+00, 0.00000e+00,\n",
       "        0.00000e+00],\n",
       "       [0.00000e+00, 0.00000e+00, 0.00000e+00, 0.00000e+00, 0.00000e+00,\n",
       "        0.00000e+00],\n",
       "       [0.00000e+00, 0.00000e+00, 0.00000e+00, 0.00000e+00, 0.00000e+00,\n",
       "        0.00000e+00],\n",
       "       [1.08590e+04, 1.88000e+02, 1.88000e+02, 1.97000e+02, 2.05000e+02,\n",
       "        1.68000e+02],\n",
       "       [0.00000e+00, 0.00000e+00, 0.00000e+00, 0.00000e+00, 0.00000e+00,\n",
       "        0.00000e+00],\n",
       "       [0.00000e+00, 0.00000e+00, 0.00000e+00, 0.00000e+00, 0.00000e+00,\n",
       "        0.00000e+00],\n",
       "       [0.00000e+00, 0.00000e+00, 0.00000e+00, 0.00000e+00, 0.00000e+00,\n",
       "        0.00000e+00],\n",
       "       [0.00000e+00, 0.00000e+00, 0.00000e+00, 0.00000e+00, 0.00000e+00,\n",
       "        0.00000e+00],\n",
       "       [0.00000e+00, 0.00000e+00, 0.00000e+00, 0.00000e+00, 0.00000e+00,\n",
       "        0.00000e+00],\n",
       "       [0.00000e+00, 0.00000e+00, 0.00000e+00, 0.00000e+00, 0.00000e+00,\n",
       "        0.00000e+00],\n",
       "       [1.04000e+03, 9.77000e+02, 1.00500e+03, 5.66330e+04, 9.98000e+02,\n",
       "        1.04200e+03],\n",
       "       [0.00000e+00, 0.00000e+00, 0.00000e+00, 0.00000e+00, 0.00000e+00,\n",
       "        0.00000e+00],\n",
       "       [1.20600e+03, 1.30300e+03, 1.27600e+03, 6.90530e+04, 1.23900e+03,\n",
       "        1.25800e+03],\n",
       "       [0.00000e+00, 0.00000e+00, 0.00000e+00, 0.00000e+00, 0.00000e+00,\n",
       "        0.00000e+00],\n",
       "       [2.62900e+03, 2.65500e+03, 2.66600e+03, 2.65200e+03, 1.43730e+05,\n",
       "        2.67500e+03],\n",
       "       [0.00000e+00, 0.00000e+00, 0.00000e+00, 0.00000e+00, 0.00000e+00,\n",
       "        0.00000e+00],\n",
       "       [0.00000e+00, 0.00000e+00, 0.00000e+00, 0.00000e+00, 0.00000e+00,\n",
       "        0.00000e+00],\n",
       "       [0.00000e+00, 0.00000e+00, 0.00000e+00, 0.00000e+00, 0.00000e+00,\n",
       "        0.00000e+00],\n",
       "       [0.00000e+00, 0.00000e+00, 0.00000e+00, 0.00000e+00, 0.00000e+00,\n",
       "        0.00000e+00],\n",
       "       [0.00000e+00, 0.00000e+00, 0.00000e+00, 0.00000e+00, 0.00000e+00,\n",
       "        0.00000e+00],\n",
       "       [0.00000e+00, 0.00000e+00, 0.00000e+00, 0.00000e+00, 0.00000e+00,\n",
       "        0.00000e+00],\n",
       "       [0.00000e+00, 0.00000e+00, 0.00000e+00, 0.00000e+00, 0.00000e+00,\n",
       "        0.00000e+00],\n",
       "       [0.00000e+00, 0.00000e+00, 0.00000e+00, 0.00000e+00, 0.00000e+00,\n",
       "        0.00000e+00],\n",
       "       [0.00000e+00, 0.00000e+00, 0.00000e+00, 0.00000e+00, 0.00000e+00,\n",
       "        0.00000e+00],\n",
       "       [0.00000e+00, 0.00000e+00, 0.00000e+00, 0.00000e+00, 0.00000e+00,\n",
       "        0.00000e+00],\n",
       "       [0.00000e+00, 0.00000e+00, 0.00000e+00, 0.00000e+00, 0.00000e+00,\n",
       "        0.00000e+00],\n",
       "       [0.00000e+00, 0.00000e+00, 0.00000e+00, 0.00000e+00, 0.00000e+00,\n",
       "        0.00000e+00]])"
      ]
     },
     "execution_count": 46,
     "metadata": {},
     "output_type": "execute_result"
    }
   ],
   "source": [
    "V"
   ]
  },
  {
   "cell_type": "code",
   "execution_count": null,
   "metadata": {},
   "outputs": [],
   "source": []
  }
 ],
 "metadata": {
  "kernelspec": {
   "display_name": "Python 3",
   "language": "python",
   "name": "python3"
  },
  "language_info": {
   "codemirror_mode": {
    "name": "ipython",
    "version": 3
   },
   "file_extension": ".py",
   "mimetype": "text/x-python",
   "name": "python",
   "nbconvert_exporter": "python",
   "pygments_lexer": "ipython3",
   "version": "3.11.5"
  },
  "orig_nbformat": 4
 },
 "nbformat": 4,
 "nbformat_minor": 2
}
