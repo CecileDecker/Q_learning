{
 "cells": [
  {
   "cell_type": "markdown",
   "metadata": {},
   "source": [
    "Stock investing Example, application of the reduction property"
   ]
  },
  {
   "cell_type": "code",
   "execution_count": 3,
   "metadata": {},
   "outputs": [],
   "source": [
    "#%load_ext autoreload\n",
    "#%autoreload 2\n",
    "import numpy as np\n",
    "import copy \n",
    "import random\n",
    "import pandas as pd\n",
    "from tqdm import tqdm\n",
    "from scipy.stats import binom\n",
    "from scipy.optimize import minimize\n",
    "import matplotlib.pyplot as plt"
   ]
  },
  {
   "cell_type": "code",
   "execution_count": 4,
   "metadata": {},
   "outputs": [],
   "source": [
    "import yfinance as yf\n",
    "import itertools"
   ]
  },
  {
   "cell_type": "code",
   "execution_count": 5,
   "metadata": {},
   "outputs": [],
   "source": [
    "rng = np.random.default_rng()"
   ]
  },
  {
   "cell_type": "code",
   "execution_count": 6,
   "metadata": {},
   "outputs": [],
   "source": [
    "from robust_q_learning_v2 import *\n",
    "from q_learning import *"
   ]
  },
  {
   "cell_type": "markdown",
   "metadata": {},
   "source": [
    "Importation of market data from yahoo finance"
   ]
  },
  {
   "cell_type": "code",
   "execution_count": 7,
   "metadata": {},
   "outputs": [
    {
     "name": "stderr",
     "output_type": "stream",
     "text": [
      "[*********************100%%**********************]  1 of 1 completed\n"
     ]
    }
   ],
   "source": [
    "# AAPL_data  = yf.download(\"AAPL\", start=\"2010-01-02\", end=\"2021-01-01\")\n",
    "# MSFT_data  = yf.download(\"MSFT\", start=\"2010-01-02\", end=\"2021-01-01\")\n",
    "# GOOGL_data = yf.download(\"GOOGL\", start=\"2010-01-02\", end=\"2021-01-01\")\n",
    "# EBAY_data  = yf.download(\"EBAY\", start=\"2010-01-02\", end=\"2021-01-01\")\n",
    "# AMZN_data  = yf.download(\"AMZN\", start=\"2010-01-02\", end=\"2021-01-01\")\n",
    "# TSLA_data  = yf.download(\"TSLA\", start=\"2010-01-02\", end=\"2024-01-01\")\n",
    "\n",
    "data = yf.download(\"GOOGL\", start=\"2010-01-02\", end=\"2024-01-01\")"
   ]
  },
  {
   "cell_type": "markdown",
   "metadata": {},
   "source": [
    "Computation of the return of the stock selected"
   ]
  },
  {
   "cell_type": "code",
   "execution_count": 8,
   "metadata": {},
   "outputs": [
    {
     "name": "stdout",
     "output_type": "stream",
     "text": [
      "0.01844430165574956\n",
      "0.021118415930247488\n"
     ]
    }
   ],
   "source": [
    "small_return = 0.01\n",
    "#null_return  = 0.001\n",
    "#ind_0     = ((np.diff(data[\"Close\"])/(data[\"Close\"])[:-1])<null_return)&((np.diff(data[\"Close\"])/(data[\"Close\"])[:-1])>-null_return)\n",
    "\n",
    "ind_0_pos = ((np.diff(data[\"Close\"])/(data[\"Close\"])[:-1]) <  small_return)&((np.diff(data[\"Close\"])/(data[\"Close\"])[:-1])>=0)\n",
    "ind_pos   = ((np.diff(data[\"Close\"])/(data[\"Close\"])[:-1]) >= small_return)\n",
    "ind_0_neg = ((np.diff(data[\"Close\"])/(data[\"Close\"])[:-1]) > -small_return)&((np.diff(data[\"Close\"])/(data[\"Close\"])[:-1])<=0)\n",
    "ind_neg   = ((np.diff(data[\"Close\"])/(data[\"Close\"])[:-1]) <=-small_return)\n",
    "\n",
    "returns = np.zeros(len(data)-1)\n",
    "#returns[ind_0]     = 0\n",
    "returns[ind_0_pos] =  1\n",
    "returns[ind_pos]   =  2\n",
    "returns[ind_0_neg] = -1\n",
    "returns[ind_neg]   = -2\n",
    "\n",
    "mr1 = np.mean((np.diff(data[\"Close\"])/(data[\"Close\"])[:-1])[ind_0_pos])\n",
    "print(mr1*4)\n",
    "mr2 = np.mean((np.diff(data[\"Close\"])/(data[\"Close\"])[:-1])[ind_pos])\n",
    "print(mr2)"
   ]
  },
  {
   "cell_type": "markdown",
   "metadata": {},
   "source": [
    "Definition of training and testing periods"
   ]
  },
  {
   "cell_type": "code",
   "execution_count": 9,
   "metadata": {},
   "outputs": [],
   "source": [
    "training_start = 1_000\n",
    "training_end   = 1_500\n",
    "returns_train_1  = returns[training_start:training_end]\n",
    "\n",
    "training_start = 2_500\n",
    "training_end   = 3_000\n",
    "returns_train_2  = returns[training_start:training_end]\n",
    "\n",
    "training_start = 3_000\n",
    "training_end   = 3_500\n",
    "returns_train_3  = returns[training_start:training_end]\n",
    "\n",
    "#Testing Period\n",
    "test_period_start = training_end+1\n",
    "test_period_end = training_end+101\n",
    "returns_test = returns[test_period_start:test_period_end]"
   ]
  },
  {
   "cell_type": "code",
   "execution_count": 10,
   "metadata": {},
   "outputs": [
    {
     "data": {
      "text/plain": [
       "array([-1.,  1.,  1., -1.,  2., -1., -1.,  2.,  2.,  1., -1., -1., -1.,\n",
       "        2., -1.,  1., -1.,  2.,  1., -1., -2., -2.,  2., -2.,  2.,  2.,\n",
       "       -2.,  1.,  1.,  2.,  2., -1.,  2., -1.,  2.,  1.,  1., -1.,  1.,\n",
       "       -1.,  1.,  1.,  1., -1., -1., -2.,  2.,  1.,  1., -1., -1., -1.,\n",
       "        1., -2., -2.,  2.,  2., -1., -1., -2., -2.,  1., -2., -2.,  1.,\n",
       "       -1.,  2.,  1.,  1., -2., -1.,  2.,  2., -2., -2.,  2.,  1.,  2.,\n",
       "       -2., -1.,  2., -2., -1., -2., -1.,  2., -1.,  1., -1.,  1., -2.,\n",
       "       -1.,  1.,  2.,  2.,  1., -2., -1., -1.,  2.,  1.,  2.,  2.,  2.,\n",
       "        2., -1.,  1.,  1., -2., -2., -1.,  2.,  1.,  1., -1., -1., -2.,\n",
       "        1., -2., -1.,  2.,  1.,  1.,  2., -1.,  2., -1.,  1., -1.,  2.,\n",
       "       -1.,  1., -1., -2.,  1., -1.,  2.,  2., -1., -1., -2.,  2., -2.,\n",
       "        1.,  1., -1., -1.,  1., -1.,  1., -2., -2.,  2., -2.,  1., -1.,\n",
       "        2., -1., -1.,  2.,  1., -1.,  2.,  1., -1., -1.,  1., -1., -1.,\n",
       "       -1., -1.,  1.,  2.,  1.,  1.,  1.,  1., -2.,  1., -1., -2., -1.,\n",
       "        2.,  1.,  1.,  2., -2., -2.,  2., -2.,  1., -1.,  1., -2.,  1.,\n",
       "        1.,  1., -2.,  2., -2., -2., -2.,  1., -2., -1., -2.,  2.,  2.,\n",
       "        1.,  2., -1.,  1.,  2., -1.,  1.,  2., -1.,  1., -2., -1.,  1.,\n",
       "        2.,  1., -1., -1., -1., -2., -1.,  1., -1.,  1.,  1.,  1., -1.,\n",
       "        1., -2., -1., -1.,  2., -2.,  1.,  2., -2.,  1., -2., -2., -2.,\n",
       "        2.,  2.,  2.,  2.,  2., -1.,  1., -1., -1., -1., -1., -2., -2.,\n",
       "       -1.,  1., -2., -1.,  1.,  1., -1.,  2., -1.,  2.,  2.,  1., -1.,\n",
       "       -2., -2.,  1.,  2., -1.,  1., -2.,  1.,  1., -1.,  2., -1.,  2.,\n",
       "        1., -2., -1.,  1., -1., -2.,  1.,  2.,  2.,  1.,  2.,  1., -1.,\n",
       "        1., -2.,  1., -2., -1.,  1., -2.,  2., -1.,  2., -1.,  1.,  1.,\n",
       "        2., -2., -1., -2.,  1., -2., -1., -2.,  1.,  1.,  1., -1.,  1.,\n",
       "        1., -2.,  1.,  1., -2.,  2., -1.,  2.,  2.,  2., -2., -1., -1.,\n",
       "       -2.,  1.,  1., -2., -2.,  2.,  2., -1., -2.,  1.,  2., -1.,  1.,\n",
       "        1.,  1.,  1., -1., -2.,  2., -1., -2.,  1.,  1.,  1., -1., -1.,\n",
       "       -2., -1.,  2., -1., -1., -1.,  1.,  1.,  2.,  1.,  1.,  1., -1.,\n",
       "       -1., -1., -2., -1.,  1.,  1., -1.,  1., -2.,  1.,  2.,  2.,  2.,\n",
       "       -1.,  2.,  2., -1.,  1., -1., -2., -2.,  1.,  1.,  1.,  1., -2.,\n",
       "        2., -1.,  2., -1., -1., -1.,  2.,  1., -1.,  1.,  1., -1.,  1.,\n",
       "       -2., -2., -2., -1.,  2.,  2., -2., -2., -2.,  2., -2., -2.,  2.,\n",
       "       -1.,  2.,  1., -1.,  2.,  1.,  1., -2.,  1., -2.,  1.,  1., -2.,\n",
       "       -2., -1.,  2.,  1.,  2.,  2., -1., -1., -1.,  1.,  1.,  1., -1.,\n",
       "        2.,  1.,  1., -2., -2.,  2.,  2.,  2.,  1.,  1.,  2., -2.,  2.,\n",
       "        1.,  1.,  1.,  1., -1.,  1.,  1., -2., -2.,  2., -1.,  2., -1.,\n",
       "        2., -1., -1., -1.,  1., -2.,  2., -1., -2.,  2., -1.,  1., -2.,\n",
       "       -1., -2.,  2., -1.,  2., -1.])"
      ]
     },
     "execution_count": 10,
     "metadata": {},
     "output_type": "execute_result"
    }
   ],
   "source": [
    "returns_train_1"
   ]
  },
  {
   "cell_type": "markdown",
   "metadata": {},
   "source": [
    "Verification that the training periods correspond to really different periods"
   ]
  },
  {
   "cell_type": "code",
   "execution_count": 11,
   "metadata": {},
   "outputs": [
    {
     "data": {
      "text/plain": [
       "[<matplotlib.lines.Line2D at 0x1be11f67f90>]"
      ]
     },
     "execution_count": 11,
     "metadata": {},
     "output_type": "execute_result"
    },
    {
     "data": {
      "image/png": "[encoded data removed]",
      "text/plain": [
       "<Figure size 640x480 with 1 Axes>"
      ]
     },
     "metadata": {},
     "output_type": "display_data"
    }
   ],
   "source": [
    "plt.plot(returns_train_1.cumsum())"
   ]
  },
  {
   "cell_type": "code",
   "execution_count": 12,
   "metadata": {},
   "outputs": [
    {
     "data": {
      "text/plain": [
       "[<matplotlib.lines.Line2D at 0x1be1247e290>]"
      ]
     },
     "execution_count": 12,
     "metadata": {},
     "output_type": "execute_result"
    },
    {
     "data": {
      "image/png": "[encoded data removed]",
      "text/plain": [
       "<Figure size 640x480 with 1 Axes>"
      ]
     },
     "metadata": {},
     "output_type": "display_data"
    }
   ],
   "source": [
    "plt.plot(returns_train_2.cumsum())"
   ]
  },
  {
   "cell_type": "code",
   "execution_count": 13,
   "metadata": {},
   "outputs": [
    {
     "data": {
      "text/plain": [
       "[<matplotlib.lines.Line2D at 0x1be124e4610>]"
      ]
     },
     "execution_count": 13,
     "metadata": {},
     "output_type": "execute_result"
    },
    {
     "data": {
      "image/png": "[encoded data removed]",
      "text/plain": [
       "<Figure size 640x480 with 1 Axes>"
      ]
     },
     "metadata": {},
     "output_type": "display_data"
    }
   ],
   "source": [
    "plt.plot(returns_train_3.cumsum())"
   ]
  },
  {
   "cell_type": "code",
   "execution_count": 14,
   "metadata": {},
   "outputs": [],
   "source": [
    "h    = 5 # Length of history\n",
    "ret1 = returns_train_1\n",
    "ret2 = returns_train_2\n",
    "ret3 = returns_train_3\n",
    "\n",
    "#h2   = 4\n",
    "#returns"
   ]
  },
  {
   "cell_type": "markdown",
   "metadata": {},
   "source": [
    "Definition of the parameters to use the algorithm"
   ]
  },
  {
   "cell_type": "code",
   "execution_count": 15,
   "metadata": {},
   "outputs": [],
   "source": [
    "# State Space\n",
    "T = [-2, -1, 1, 2]\n",
    "X = np.array(list(itertools.product(T, repeat=h)))\n",
    "#X\n",
    "#X2 = np.array(list(itertools.product(T, repeat=h2)))"
   ]
  },
  {
   "cell_type": "code",
   "execution_count": 16,
   "metadata": {},
   "outputs": [],
   "source": [
    "A = np.array([0, 1]) # Actions\n",
    "\n",
    "def r1(x,a,y):\n",
    "    return ((abs(x[-1])==1) * 0.02 + (abs(x[-1])==2) * 0.01) * a * y[-1]\n",
    "def r2(x,a,y):\n",
    "    return 0.01 * a * y[-1]\n",
    "\n",
    "eps_greedy = 0.1   # Epsilon greedy policy\n",
    "alpha      = 0.95  # Discount Factor\n",
    "\n",
    "#x_0        = 0     # Initial Value\n",
    "rng  = np.random.default_rng()\n",
    "x1_0 = rng.choice(np.array([ret1[i:(h+i)]  for i in range(len(ret1)-h-1)]),axis = 0)\n",
    "x2_0 = rng.choice(np.array([ret2[i:(h+i)]  for i in range(len(ret2)-h-1)]),axis = 0)\n",
    "x3_0 = rng.choice(np.array([ret3[i:(h+i)]  for i in range(len(ret3)-h-1)]),axis = 0)\n",
    "\n",
    "k_0        = 0     # Initial index of the corresponding MDP, starting with the central proba of 1/2"
   ]
  },
  {
   "cell_type": "code",
   "execution_count": 17,
   "metadata": {},
   "outputs": [],
   "source": [
    "# Build the functions that allow us to get the index of an element a (reps. x) in A (resp. X)\n",
    "if np.ndim(A) > 1:\n",
    "    A_list = A\n",
    "else:\n",
    "    A_list = np.array([[a] for a in A])\n",
    "if np.ndim(X) > 1:\n",
    "    X_list = X\n",
    "else:\n",
    "    X_list = np.array([[x] for x in X])\n",
    "\n",
    "def a_index(a):\n",
    "    return np.flatnonzero((a==A_list).all(1))[0]\n",
    "def x_index(x):\n",
    "    return np.flatnonzero((x==X_list).all(1))[0]"
   ]
  },
  {
   "cell_type": "markdown",
   "metadata": {},
   "source": [
    "For each x, computation of the probabilities of occurence of the next return"
   ]
  },
  {
   "cell_type": "code",
   "execution_count": 18,
   "metadata": {},
   "outputs": [
    {
     "ename": "KeyboardInterrupt",
     "evalue": "",
     "output_type": "error",
     "traceback": [
      "\u001b[1;31m---------------------------------------------------------------------------\u001b[0m",
      "\u001b[1;31mKeyboardInterrupt\u001b[0m                         Traceback (most recent call last)",
      "Cell \u001b[1;32mIn[18], line 9\u001b[0m\n\u001b[0;32m      7\u001b[0m x_d0 \u001b[38;5;241m=\u001b[39m np\u001b[38;5;241m.\u001b[39mconcatenate([x[\u001b[38;5;241m1\u001b[39m:], [\u001b[38;5;241m-\u001b[39m\u001b[38;5;241m1\u001b[39m]])\n\u001b[0;32m      8\u001b[0m p_u_raw  \u001b[38;5;241m=\u001b[39m np\u001b[38;5;241m.\u001b[39msum([np\u001b[38;5;241m.\u001b[39mall(ret1[i:(h\u001b[38;5;241m+\u001b[39mi)]\u001b[38;5;241m==\u001b[39mx_u) \u001b[38;5;28;01mfor\u001b[39;00m i \u001b[38;5;129;01min\u001b[39;00m \u001b[38;5;28mrange\u001b[39m(\u001b[38;5;28mlen\u001b[39m(ret1)\u001b[38;5;241m-\u001b[39mh\u001b[38;5;241m-\u001b[39m\u001b[38;5;241m1\u001b[39m)])\n\u001b[1;32m----> 9\u001b[0m p_d_raw  \u001b[38;5;241m=\u001b[39m np\u001b[38;5;241m.\u001b[39msum(\u001b[43m[\u001b[49m\u001b[43mnp\u001b[49m\u001b[38;5;241;43m.\u001b[39;49m\u001b[43mall\u001b[49m\u001b[43m(\u001b[49m\u001b[43mret1\u001b[49m\u001b[43m[\u001b[49m\u001b[43mi\u001b[49m\u001b[43m:\u001b[49m\u001b[43m(\u001b[49m\u001b[43mh\u001b[49m\u001b[38;5;241;43m+\u001b[39;49m\u001b[43mi\u001b[49m\u001b[43m)\u001b[49m\u001b[43m]\u001b[49m\u001b[38;5;241;43m==\u001b[39;49m\u001b[43mx_d\u001b[49m\u001b[43m)\u001b[49m\u001b[43m \u001b[49m\u001b[38;5;28;43;01mfor\u001b[39;49;00m\u001b[43m \u001b[49m\u001b[43mi\u001b[49m\u001b[43m \u001b[49m\u001b[38;5;129;43;01min\u001b[39;49;00m\u001b[43m \u001b[49m\u001b[38;5;28;43mrange\u001b[39;49m\u001b[43m(\u001b[49m\u001b[38;5;28;43mlen\u001b[39;49m\u001b[43m(\u001b[49m\u001b[43mret1\u001b[49m\u001b[43m)\u001b[49m\u001b[38;5;241;43m-\u001b[39;49m\u001b[43mh\u001b[49m\u001b[38;5;241;43m-\u001b[39;49m\u001b[38;5;241;43m1\u001b[39;49m\u001b[43m)\u001b[49m\u001b[43m]\u001b[49m)\n\u001b[0;32m     10\u001b[0m p_u0_raw \u001b[38;5;241m=\u001b[39m np\u001b[38;5;241m.\u001b[39msum([np\u001b[38;5;241m.\u001b[39mall(ret1[i:(h\u001b[38;5;241m+\u001b[39mi)]\u001b[38;5;241m==\u001b[39mx_u0) \u001b[38;5;28;01mfor\u001b[39;00m i \u001b[38;5;129;01min\u001b[39;00m \u001b[38;5;28mrange\u001b[39m(\u001b[38;5;28mlen\u001b[39m(ret1)\u001b[38;5;241m-\u001b[39mh\u001b[38;5;241m-\u001b[39m\u001b[38;5;241m1\u001b[39m)])\n\u001b[0;32m     11\u001b[0m p_d0_raw \u001b[38;5;241m=\u001b[39m np\u001b[38;5;241m.\u001b[39msum([np\u001b[38;5;241m.\u001b[39mall(ret1[i:(h\u001b[38;5;241m+\u001b[39mi)]\u001b[38;5;241m==\u001b[39mx_d0) \u001b[38;5;28;01mfor\u001b[39;00m i \u001b[38;5;129;01min\u001b[39;00m \u001b[38;5;28mrange\u001b[39m(\u001b[38;5;28mlen\u001b[39m(ret1)\u001b[38;5;241m-\u001b[39mh\u001b[38;5;241m-\u001b[39m\u001b[38;5;241m1\u001b[39m)])\n",
      "Cell \u001b[1;32mIn[18], line 9\u001b[0m, in \u001b[0;36m<listcomp>\u001b[1;34m(.0)\u001b[0m\n\u001b[0;32m      7\u001b[0m x_d0 \u001b[38;5;241m=\u001b[39m np\u001b[38;5;241m.\u001b[39mconcatenate([x[\u001b[38;5;241m1\u001b[39m:], [\u001b[38;5;241m-\u001b[39m\u001b[38;5;241m1\u001b[39m]])\n\u001b[0;32m      8\u001b[0m p_u_raw  \u001b[38;5;241m=\u001b[39m np\u001b[38;5;241m.\u001b[39msum([np\u001b[38;5;241m.\u001b[39mall(ret1[i:(h\u001b[38;5;241m+\u001b[39mi)]\u001b[38;5;241m==\u001b[39mx_u) \u001b[38;5;28;01mfor\u001b[39;00m i \u001b[38;5;129;01min\u001b[39;00m \u001b[38;5;28mrange\u001b[39m(\u001b[38;5;28mlen\u001b[39m(ret1)\u001b[38;5;241m-\u001b[39mh\u001b[38;5;241m-\u001b[39m\u001b[38;5;241m1\u001b[39m)])\n\u001b[1;32m----> 9\u001b[0m p_d_raw  \u001b[38;5;241m=\u001b[39m np\u001b[38;5;241m.\u001b[39msum([\u001b[43mnp\u001b[49m\u001b[38;5;241;43m.\u001b[39;49m\u001b[43mall\u001b[49m\u001b[43m(\u001b[49m\u001b[43mret1\u001b[49m\u001b[43m[\u001b[49m\u001b[43mi\u001b[49m\u001b[43m:\u001b[49m\u001b[43m(\u001b[49m\u001b[43mh\u001b[49m\u001b[38;5;241;43m+\u001b[39;49m\u001b[43mi\u001b[49m\u001b[43m)\u001b[49m\u001b[43m]\u001b[49m\u001b[38;5;241;43m==\u001b[39;49m\u001b[43mx_d\u001b[49m\u001b[43m)\u001b[49m \u001b[38;5;28;01mfor\u001b[39;00m i \u001b[38;5;129;01min\u001b[39;00m \u001b[38;5;28mrange\u001b[39m(\u001b[38;5;28mlen\u001b[39m(ret1)\u001b[38;5;241m-\u001b[39mh\u001b[38;5;241m-\u001b[39m\u001b[38;5;241m1\u001b[39m)])\n\u001b[0;32m     10\u001b[0m p_u0_raw \u001b[38;5;241m=\u001b[39m np\u001b[38;5;241m.\u001b[39msum([np\u001b[38;5;241m.\u001b[39mall(ret1[i:(h\u001b[38;5;241m+\u001b[39mi)]\u001b[38;5;241m==\u001b[39mx_u0) \u001b[38;5;28;01mfor\u001b[39;00m i \u001b[38;5;129;01min\u001b[39;00m \u001b[38;5;28mrange\u001b[39m(\u001b[38;5;28mlen\u001b[39m(ret1)\u001b[38;5;241m-\u001b[39mh\u001b[38;5;241m-\u001b[39m\u001b[38;5;241m1\u001b[39m)])\n\u001b[0;32m     11\u001b[0m p_d0_raw \u001b[38;5;241m=\u001b[39m np\u001b[38;5;241m.\u001b[39msum([np\u001b[38;5;241m.\u001b[39mall(ret1[i:(h\u001b[38;5;241m+\u001b[39mi)]\u001b[38;5;241m==\u001b[39mx_d0) \u001b[38;5;28;01mfor\u001b[39;00m i \u001b[38;5;129;01min\u001b[39;00m \u001b[38;5;28mrange\u001b[39m(\u001b[38;5;28mlen\u001b[39m(ret1)\u001b[38;5;241m-\u001b[39mh\u001b[38;5;241m-\u001b[39m\u001b[38;5;241m1\u001b[39m)])\n",
      "File \u001b[1;32m<__array_function__ internals>:177\u001b[0m, in \u001b[0;36mall\u001b[1;34m(*args, **kwargs)\u001b[0m\n",
      "\u001b[1;31mKeyboardInterrupt\u001b[0m: "
     ]
    }
   ],
   "source": [
    "p1_list = []\n",
    "for x in X:\n",
    "    eps = 1e-8\n",
    "    x_u  = np.concatenate([x[1:], [2]])\n",
    "    x_d  = np.concatenate([x[1:], [-2]])\n",
    "    x_u0 = np.concatenate([x[1:], [1]])\n",
    "    x_d0 = np.concatenate([x[1:], [-1]])\n",
    "    p_u_raw  = np.sum([np.all(ret1[i:(h+i)]==x_u) for i in range(len(ret1)-h-1)])\n",
    "    p_d_raw  = np.sum([np.all(ret1[i:(h+i)]==x_d) for i in range(len(ret1)-h-1)])\n",
    "    p_u0_raw = np.sum([np.all(ret1[i:(h+i)]==x_u0) for i in range(len(ret1)-h-1)])\n",
    "    p_d0_raw = np.sum([np.all(ret1[i:(h+i)]==x_d0) for i in range(len(ret1)-h-1)])\n",
    "    p_u  = (eps/5 + p_u_raw) / (p_u_raw + p_d_raw + p_u0_raw + p_d0_raw + eps)\n",
    "    p_d  = (eps/5 + p_d_raw) / (p_u_raw + p_d_raw + p_u0_raw + p_d0_raw + eps)\n",
    "    p_u0 = (eps/5 + p_u0_raw) / (p_u_raw + p_d_raw + p_u0_raw + p_d0_raw + eps)\n",
    "    p_d0 = (eps/5 + p_d0_raw) / (p_u_raw + p_d_raw + p_u0_raw + p_d0_raw + eps)\n",
    "    p1_list.append([p_d, p_d0, p_u0, p_u])\n",
    "\n",
    "p2_list = []\n",
    "for x in X:\n",
    "    eps = 1e-8\n",
    "    x_u  = np.concatenate([x[1:], [2]])\n",
    "    x_d  = np.concatenate([x[1:], [-2]])\n",
    "    x_u0 = np.concatenate([x[1:], [1]])\n",
    "    x_d0 = np.concatenate([x[1:], [-1]])\n",
    "    p_u_raw  = np.sum([np.all(ret2[i:(h+i)]==x_u) for i in range(len(ret2)-h-1)])\n",
    "    p_d_raw  = np.sum([np.all(ret2[i:(h+i)]==x_d) for i in range(len(ret2)-h-1)])\n",
    "    p_u0_raw = np.sum([np.all(ret2[i:(h+i)]==x_u0) for i in range(len(ret2)-h-1)])\n",
    "    p_d0_raw = np.sum([np.all(ret2[i:(h+i)]==x_d0) for i in range(len(ret2)-h-1)])\n",
    "    p_u  = (eps/5 + p_u_raw) / (p_u_raw + p_d_raw + p_u0_raw + p_d0_raw + eps)\n",
    "    p_d  = (eps/5 + p_d_raw) / (p_u_raw + p_d_raw + p_u0_raw + p_d0_raw + eps)\n",
    "    p_u0 = (eps/5 + p_u0_raw) / (p_u_raw + p_d_raw + p_u0_raw + p_d0_raw + eps)\n",
    "    p_d0 = (eps/5 + p_d0_raw) / (p_u_raw + p_d_raw + p_u0_raw + p_d0_raw + eps)\n",
    "    p2_list.append([p_d, p_d0, p_u0, p_u])\n",
    "\n",
    "p3_list = []\n",
    "for x in X:\n",
    "    eps = 1e-8\n",
    "    x_u  = np.concatenate([x[1:], [2]])\n",
    "    x_d  = np.concatenate([x[1:], [-2]])\n",
    "    x_u0 = np.concatenate([x[1:], [1]])\n",
    "    x_d0 = np.concatenate([x[1:], [-1]])\n",
    "    p_u_raw  = np.sum([np.all(ret3[i:(h+i)]==x_u) for i in range(len(ret3)-h-1)])\n",
    "    p_d_raw  = np.sum([np.all(ret3[i:(h+i)]==x_d) for i in range(len(ret3)-h-1)])\n",
    "    p_u0_raw = np.sum([np.all(ret3[i:(h+i)]==x_u0) for i in range(len(ret3)-h-1)])\n",
    "    p_d0_raw = np.sum([np.all(ret3[i:(h+i)]==x_d0) for i in range(len(ret3)-h-1)])\n",
    "    p_u  = (eps/5 + p_u_raw) / (p_u_raw + p_d_raw + p_u0_raw + p_d0_raw + eps)\n",
    "    p_d  = (eps/5 + p_d_raw) / (p_u_raw + p_d_raw + p_u0_raw + p_d0_raw + eps)\n",
    "    p_u0 = (eps/5 + p_u0_raw) / (p_u_raw + p_d_raw + p_u0_raw + p_d0_raw + eps)\n",
    "    p_d0 = (eps/5 + p_d0_raw) / (p_u_raw + p_d_raw + p_u0_raw + p_d0_raw + eps)\n",
    "    p3_list.append([p_d, p_d0, p_u0, p_u])"
   ]
  },
  {
   "cell_type": "markdown",
   "metadata": {},
   "source": [
    "Construction of the worst case probability"
   ]
  },
  {
   "cell_type": "code",
   "execution_count": null,
   "metadata": {},
   "outputs": [],
   "source": [
    "def p1(x, a, y):\n",
    "    ind = np.flatnonzero((x1_0==X).all(1))[0]\n",
    "    p_d, p_d0, p_u0, p_u = p1_list[ind]\n",
    "    return p_d * np.all(y==np.concatenate([x[1:],[-2]])) + p_d0*np.all(y==np.concatenate([x[1:],[-1]])) + p_u0*np.all(y==np.concatenate([x[1:],[1]])) + p_u*np.all(y==np.concatenate([x[1:],[2]]))\n",
    "\n",
    "def P1(x,a):\n",
    "    ind = np.flatnonzero((x1_0==X).all(1))[0]\n",
    "    p_d, p_d0, p_u0, p_u = p1_list[ind]\n",
    "    rand_unif = (np.random.random_sample(size=1))\n",
    "    rand = - 2*int(rand_unif < p_d) - 1*int((rand_unif >= (p_d)) * (rand_unif < (p_d+p_d0))) + 1*int((rand_unif >= (p_d+p_d0)) * (rand_unif < (p_d+p_d0+p_u0))) + 2*int(rand_unif >= (p_d+p_d0+p_u0))\n",
    "    return np.concatenate([x[1:],[rand]])\n",
    "\n",
    "def p2(x, a, y):\n",
    "    ind = np.flatnonzero((x2_0==X).all(1))[0]\n",
    "    p_d, p_d0, p_u0, p_u = p2_list[ind]\n",
    "    return p_d * np.all(y==np.concatenate([x[1:],[-2]])) + p_d0*np.all(y==np.concatenate([x[1:],[-1]])) + p_u0*np.all(y==np.concatenate([x[1:],[1]])) + p_u*np.all(y==np.concatenate([x[1:],[2]]))\n",
    "\n",
    "def P2(x,a):\n",
    "    ind = np.flatnonzero((x2_0==X).all(1))[0]\n",
    "    p_d, p_d0, p_u0, p_u = p2_list[ind]\n",
    "    rand_unif = (np.random.random_sample(size=1))\n",
    "    rand = - 2*int(rand_unif < p_d) - 1*int((rand_unif >= (p_d)) * (rand_unif < (p_d+p_d0))) + 1*int((rand_unif >= (p_d+p_d0)) * (rand_unif < (p_d+p_d0+p_u0))) + 2*int(rand_unif >= (p_d+p_d0+p_u0))\n",
    "    return np.concatenate([x[1:],[rand]])\n",
    "\n",
    "def p3(x, a, y):\n",
    "    ind = np.flatnonzero((x3_0==X).all(1))[0]\n",
    "    p_d, p_d0, p_u0, p_u = p3_list[ind]\n",
    "    return p_d * np.all(y==np.concatenate([x[1:],[-2]])) + p_d0*np.all(y==np.concatenate([x[1:],[-1]])) + p_u0*np.all(y==np.concatenate([x[1:],[1]])) + p_u*np.all(y==np.concatenate([x[1:],[2]]))\n",
    "\n",
    "def P3(x,a):\n",
    "    ind = np.flatnonzero((x3_0==X).all(1))[0]\n",
    "    p_d, p_d0, p_u0, p_u = p3_list[ind]\n",
    "    rand_unif = (np.random.random_sample(size=1))\n",
    "    rand = - 2*int(rand_unif < p_d) - 1*int((rand_unif >= (p_d)) * (rand_unif < (p_d+p_d0))) + 1*int((rand_unif >= (p_d+p_d0)) * (rand_unif < (p_d+p_d0+p_u0))) + 2*int(rand_unif >= (p_d+p_d0+p_u0))\n",
    "    return np.concatenate([x[1:],[rand]])"
   ]
  },
  {
   "cell_type": "markdown",
   "metadata": {},
   "source": [
    "Running of the non-robust algorithm, by applying the Proposition 3.3"
   ]
  },
  {
   "cell_type": "markdown",
   "metadata": {},
   "source": [
    "Running the robust algorithm for comparison"
   ]
  },
  {
   "cell_type": "code",
   "execution_count": 123,
   "metadata": {},
   "outputs": [
    {
     "name": "stderr",
     "output_type": "stream",
     "text": [
      "100%|██████████| 1000000/1000000 [40:47:02<00:00,  6.81it/s]  \n"
     ]
    },
    {
     "data": {
      "text/html": [
       "<div>\n",
       "<style scoped>\n",
       "    .dataframe tbody tr th:only-of-type {\n",
       "        vertical-align: middle;\n",
       "    }\n",
       "\n",
       "    .dataframe tbody tr th {\n",
       "        vertical-align: top;\n",
       "    }\n",
       "\n",
       "    .dataframe thead th {\n",
       "        text-align: right;\n",
       "    }\n",
       "</style>\n",
       "<table border=\"1\" class=\"dataframe\">\n",
       "  <thead>\n",
       "    <tr style=\"text-align: right;\">\n",
       "      <th></th>\n",
       "      <th>0</th>\n",
       "      <th>1</th>\n",
       "      <th>2</th>\n",
       "      <th>3</th>\n",
       "      <th>4</th>\n",
       "      <th>5</th>\n",
       "      <th>6</th>\n",
       "      <th>7</th>\n",
       "      <th>8</th>\n",
       "      <th>9</th>\n",
       "      <th>...</th>\n",
       "      <th>1014</th>\n",
       "      <th>1015</th>\n",
       "      <th>1016</th>\n",
       "      <th>1017</th>\n",
       "      <th>1018</th>\n",
       "      <th>1019</th>\n",
       "      <th>1020</th>\n",
       "      <th>1021</th>\n",
       "      <th>1022</th>\n",
       "      <th>1023</th>\n",
       "    </tr>\n",
       "  </thead>\n",
       "  <tbody>\n",
       "    <tr>\n",
       "      <th>0</th>\n",
       "      <td>1</td>\n",
       "      <td>0</td>\n",
       "      <td>0</td>\n",
       "      <td>0</td>\n",
       "      <td>0</td>\n",
       "      <td>0</td>\n",
       "      <td>0</td>\n",
       "      <td>0</td>\n",
       "      <td>1</td>\n",
       "      <td>1</td>\n",
       "      <td>...</td>\n",
       "      <td>0</td>\n",
       "      <td>0</td>\n",
       "      <td>0</td>\n",
       "      <td>1</td>\n",
       "      <td>0</td>\n",
       "      <td>1</td>\n",
       "      <td>0</td>\n",
       "      <td>1</td>\n",
       "      <td>0</td>\n",
       "      <td>0</td>\n",
       "    </tr>\n",
       "  </tbody>\n",
       "</table>\n",
       "<p>1 rows × 1024 columns</p>\n",
       "</div>"
      ],
      "text/plain": [
       "   0     1     2     3     4     5     6     7     8     9     ...  1014  \\\n",
       "0     1     0     0     0     0     0     0     0     1     1  ...     0   \n",
       "\n",
       "   1015  1016  1017  1018  1019  1020  1021  1022  1023  \n",
       "0     0     0     1     0     1     0     1     0     0  \n",
       "\n",
       "[1 rows x 1024 columns]"
      ]
     },
     "execution_count": 123,
     "metadata": {},
     "output_type": "execute_result"
    }
   ],
   "source": [
    "Nr_iter = 1_000_000\n",
    "Q_opt_robust_1, V_1 = robust_q_learning_v2(X, A, r1, np.array([P1, P2, P3]), np.array([p1, p2, p3]), alpha, x1_0, k_0, eps_greedy, Nr_iter, gamma_t_tilde = lambda t: 1/(t+1), Q_0 = np.ones([len(X),len(A)]))\n",
    "\n",
    "# Get the result of the Q-Learning algorithm,\n",
    "# Get the optimal results for each x in X\n",
    "def a_opt(t, Q_opt):\n",
    "    return A[np.argmax(Q_opt[x_index(t),:])]\n",
    "\n",
    "df_rob = pd.DataFrame(np.array([[a_opt(x, Q_opt_robust_1) for x in X]]))\n",
    "#df.columns = ['-2', '-1', '0', '1', '2']\n",
    "df_rob"
   ]
  },
  {
   "cell_type": "code",
   "execution_count": 124,
   "metadata": {},
   "outputs": [
    {
     "name": "stderr",
     "output_type": "stream",
     "text": [
      " 86%|████████▌ | 855070/1000000 [34:01:13<5:49:01,  6.92it/s]  "
     ]
    }
   ],
   "source": [
    "Q_opt_robust_2, V_2 = robust_q_learning_v2(X, A, r2, np.array([P1, P2, P3]), np.array([p1, p2, p3]), alpha, x1_0, k_0, eps_greedy, Nr_iter, gamma_t_tilde = lambda t: 1/(t+1), Q_0 = np.ones([len(X),len(A)]))\n",
    "\n",
    "df_rob_ = pd.DataFrame(np.array([[a_opt(x, Q_opt_robust_2) for x in X]]))\n",
    "#df.columns = ['-2', '-1', '0', '1', '2']\n",
    "df_rob_"
   ]
  },
  {
   "cell_type": "code",
   "execution_count": null,
   "metadata": {},
   "outputs": [
    {
     "name": "stderr",
     "output_type": "stream",
     "text": [
      "100%|██████████| 1000000/1000000 [00:52<00:00, 19107.15it/s]\n"
     ]
    },
    {
     "data": {
      "text/html": [
       "<div>\n",
       "<style scoped>\n",
       "    .dataframe tbody tr th:only-of-type {\n",
       "        vertical-align: middle;\n",
       "    }\n",
       "\n",
       "    .dataframe tbody tr th {\n",
       "        vertical-align: top;\n",
       "    }\n",
       "\n",
       "    .dataframe thead th {\n",
       "        text-align: right;\n",
       "    }\n",
       "</style>\n",
       "<table border=\"1\" class=\"dataframe\">\n",
       "  <thead>\n",
       "    <tr style=\"text-align: right;\">\n",
       "      <th></th>\n",
       "      <th>0</th>\n",
       "      <th>1</th>\n",
       "      <th>2</th>\n",
       "      <th>3</th>\n",
       "      <th>4</th>\n",
       "      <th>5</th>\n",
       "      <th>6</th>\n",
       "      <th>7</th>\n",
       "      <th>8</th>\n",
       "      <th>9</th>\n",
       "      <th>...</th>\n",
       "      <th>246</th>\n",
       "      <th>247</th>\n",
       "      <th>248</th>\n",
       "      <th>249</th>\n",
       "      <th>250</th>\n",
       "      <th>251</th>\n",
       "      <th>252</th>\n",
       "      <th>253</th>\n",
       "      <th>254</th>\n",
       "      <th>255</th>\n",
       "    </tr>\n",
       "  </thead>\n",
       "  <tbody>\n",
       "    <tr>\n",
       "      <th>0</th>\n",
       "      <td>0</td>\n",
       "      <td>0</td>\n",
       "      <td>1</td>\n",
       "      <td>0</td>\n",
       "      <td>1</td>\n",
       "      <td>0</td>\n",
       "      <td>0</td>\n",
       "      <td>1</td>\n",
       "      <td>0</td>\n",
       "      <td>1</td>\n",
       "      <td>...</td>\n",
       "      <td>0</td>\n",
       "      <td>0</td>\n",
       "      <td>0</td>\n",
       "      <td>0</td>\n",
       "      <td>0</td>\n",
       "      <td>0</td>\n",
       "      <td>0</td>\n",
       "      <td>0</td>\n",
       "      <td>0</td>\n",
       "      <td>0</td>\n",
       "    </tr>\n",
       "  </tbody>\n",
       "</table>\n",
       "<p>1 rows × 256 columns</p>\n",
       "</div>"
      ],
      "text/plain": [
       "   0    1    2    3    4    5    6    7    8    9    ...  246  247  248  249  \\\n",
       "0    0    0    1    0    1    0    0    1    0    1  ...    0    0    0    0   \n",
       "\n",
       "   250  251  252  253  254  255  \n",
       "0    0    0    0    0    0    0  \n",
       "\n",
       "[1 rows x 256 columns]"
      ]
     },
     "execution_count": 91,
     "metadata": {},
     "output_type": "execute_result"
    }
   ],
   "source": [
    "Q_opt_1, V_1= q_learning(X, A, r1, P1, alpha, x1_0, eps_greedy, Nr_iter, gamma_t_tilde = lambda t: 1/(t+1), Q_0 = np.ones([len(X),len(A)]))\n",
    "\n",
    "def a_opt(t, Q_opt):\n",
    "    return A[np.argmax(Q_opt[x_index(t),:])]\n",
    "\n",
    "df_1 = pd.DataFrame(np.array([[a_opt(x, Q_opt_1) for x in X]]))\n",
    "#df.columns = ['-2', '-1', '0', '1', '2']\n",
    "df_1"
   ]
  },
  {
   "cell_type": "code",
   "execution_count": null,
   "metadata": {},
   "outputs": [
    {
     "name": "stderr",
     "output_type": "stream",
     "text": [
      "100%|██████████| 1000000/1000000 [00:52<00:00, 18903.42it/s]\n"
     ]
    },
    {
     "data": {
      "text/html": [
       "<div>\n",
       "<style scoped>\n",
       "    .dataframe tbody tr th:only-of-type {\n",
       "        vertical-align: middle;\n",
       "    }\n",
       "\n",
       "    .dataframe tbody tr th {\n",
       "        vertical-align: top;\n",
       "    }\n",
       "\n",
       "    .dataframe thead th {\n",
       "        text-align: right;\n",
       "    }\n",
       "</style>\n",
       "<table border=\"1\" class=\"dataframe\">\n",
       "  <thead>\n",
       "    <tr style=\"text-align: right;\">\n",
       "      <th></th>\n",
       "      <th>0</th>\n",
       "      <th>1</th>\n",
       "      <th>2</th>\n",
       "      <th>3</th>\n",
       "      <th>4</th>\n",
       "      <th>5</th>\n",
       "      <th>6</th>\n",
       "      <th>7</th>\n",
       "      <th>8</th>\n",
       "      <th>9</th>\n",
       "      <th>...</th>\n",
       "      <th>246</th>\n",
       "      <th>247</th>\n",
       "      <th>248</th>\n",
       "      <th>249</th>\n",
       "      <th>250</th>\n",
       "      <th>251</th>\n",
       "      <th>252</th>\n",
       "      <th>253</th>\n",
       "      <th>254</th>\n",
       "      <th>255</th>\n",
       "    </tr>\n",
       "  </thead>\n",
       "  <tbody>\n",
       "    <tr>\n",
       "      <th>0</th>\n",
       "      <td>1</td>\n",
       "      <td>0</td>\n",
       "      <td>1</td>\n",
       "      <td>1</td>\n",
       "      <td>0</td>\n",
       "      <td>0</td>\n",
       "      <td>1</td>\n",
       "      <td>0</td>\n",
       "      <td>1</td>\n",
       "      <td>1</td>\n",
       "      <td>...</td>\n",
       "      <td>0</td>\n",
       "      <td>0</td>\n",
       "      <td>0</td>\n",
       "      <td>0</td>\n",
       "      <td>1</td>\n",
       "      <td>0</td>\n",
       "      <td>1</td>\n",
       "      <td>0</td>\n",
       "      <td>0</td>\n",
       "      <td>0</td>\n",
       "    </tr>\n",
       "  </tbody>\n",
       "</table>\n",
       "<p>1 rows × 256 columns</p>\n",
       "</div>"
      ],
      "text/plain": [
       "   0    1    2    3    4    5    6    7    8    9    ...  246  247  248  249  \\\n",
       "0    1    0    1    1    0    0    1    0    1    1  ...    0    0    0    0   \n",
       "\n",
       "   250  251  252  253  254  255  \n",
       "0    1    0    1    0    0    0  \n",
       "\n",
       "[1 rows x 256 columns]"
      ]
     },
     "execution_count": 92,
     "metadata": {},
     "output_type": "execute_result"
    }
   ],
   "source": [
    "Q_opt_2, V_2 = q_learning(X, A, r1, P2, alpha, x2_0, eps_greedy, Nr_iter, gamma_t_tilde = lambda t: 1/(t+1), Q_0 = np.ones([len(X),len(A)]))\n",
    "\n",
    "df_2 = pd.DataFrame(np.array([[a_opt(x, Q_opt_2) for x in X]]))\n",
    "#df.columns = ['-2', '-1', '0', '1', '2']\n",
    "df_2"
   ]
  },
  {
   "cell_type": "code",
   "execution_count": null,
   "metadata": {},
   "outputs": [
    {
     "name": "stderr",
     "output_type": "stream",
     "text": [
      "100%|██████████| 1000000/1000000 [00:52<00:00, 18984.68it/s]\n"
     ]
    },
    {
     "data": {
      "text/html": [
       "<div>\n",
       "<style scoped>\n",
       "    .dataframe tbody tr th:only-of-type {\n",
       "        vertical-align: middle;\n",
       "    }\n",
       "\n",
       "    .dataframe tbody tr th {\n",
       "        vertical-align: top;\n",
       "    }\n",
       "\n",
       "    .dataframe thead th {\n",
       "        text-align: right;\n",
       "    }\n",
       "</style>\n",
       "<table border=\"1\" class=\"dataframe\">\n",
       "  <thead>\n",
       "    <tr style=\"text-align: right;\">\n",
       "      <th></th>\n",
       "      <th>0</th>\n",
       "      <th>1</th>\n",
       "      <th>2</th>\n",
       "      <th>3</th>\n",
       "      <th>4</th>\n",
       "      <th>5</th>\n",
       "      <th>6</th>\n",
       "      <th>7</th>\n",
       "      <th>8</th>\n",
       "      <th>9</th>\n",
       "      <th>...</th>\n",
       "      <th>246</th>\n",
       "      <th>247</th>\n",
       "      <th>248</th>\n",
       "      <th>249</th>\n",
       "      <th>250</th>\n",
       "      <th>251</th>\n",
       "      <th>252</th>\n",
       "      <th>253</th>\n",
       "      <th>254</th>\n",
       "      <th>255</th>\n",
       "    </tr>\n",
       "  </thead>\n",
       "  <tbody>\n",
       "    <tr>\n",
       "      <th>0</th>\n",
       "      <td>0</td>\n",
       "      <td>0</td>\n",
       "      <td>0</td>\n",
       "      <td>0</td>\n",
       "      <td>0</td>\n",
       "      <td>0</td>\n",
       "      <td>0</td>\n",
       "      <td>0</td>\n",
       "      <td>0</td>\n",
       "      <td>0</td>\n",
       "      <td>...</td>\n",
       "      <td>1</td>\n",
       "      <td>1</td>\n",
       "      <td>0</td>\n",
       "      <td>1</td>\n",
       "      <td>1</td>\n",
       "      <td>1</td>\n",
       "      <td>0</td>\n",
       "      <td>1</td>\n",
       "      <td>1</td>\n",
       "      <td>1</td>\n",
       "    </tr>\n",
       "  </tbody>\n",
       "</table>\n",
       "<p>1 rows × 256 columns</p>\n",
       "</div>"
      ],
      "text/plain": [
       "   0    1    2    3    4    5    6    7    8    9    ...  246  247  248  249  \\\n",
       "0    0    0    0    0    0    0    0    0    0    0  ...    1    1    0    1   \n",
       "\n",
       "   250  251  252  253  254  255  \n",
       "0    1    1    0    1    1    1  \n",
       "\n",
       "[1 rows x 256 columns]"
      ]
     },
     "execution_count": 93,
     "metadata": {},
     "output_type": "execute_result"
    }
   ],
   "source": [
    "Q_opt_3, V_3 = q_learning(X, A, r1, P3, alpha, x3_0, eps_greedy, Nr_iter, gamma_t_tilde = lambda t: 1/(t+1), Q_0 = np.ones([len(X),len(A)]))\n",
    "\n",
    "df_3 = pd.DataFrame(np.array([[a_opt(x, Q_opt_3) for x in X]]))\n",
    "#df.columns = ['-2', '-1', '0', '1', '2']\n",
    "df_3"
   ]
  },
  {
   "cell_type": "markdown",
   "metadata": {},
   "source": [
    "Evaluation"
   ]
  },
  {
   "cell_type": "code",
   "execution_count": null,
   "metadata": {},
   "outputs": [
    {
     "name": "stdout",
     "output_type": "stream",
     "text": [
      "Test on Training Period:\n",
      "\n",
      "Days:             500\n",
      "Negative Returns:   145\n",
      "Small Neg. Returns: 107\n",
      "Small Pos. Returns: 103\n",
      "Positive Returns:   145\n",
      "Robust 1:           23.0769% correct \n",
      " Robust 2:           30.3644% correct \n",
      " Trend following:           49.3927% correct \n"
     ]
    }
   ],
   "source": [
    "test_returns = returns_train_3 #returns_train_2 #returns_train_3\n",
    "\n",
    "X_t = np.array([test_returns[i:(h+i)]  for i in range(len(test_returns)-h-1)])\n",
    "print(\"Test on Training Period:\\n\\nDays:             {}\\nNegative Returns:   {}\\nSmall Neg. Returns: {}\\nSmall Pos. Returns: {}\\nPositive Returns:   {}\".format(len(test_returns),\n",
    "                                                                            np.sum(test_returns==-2),\n",
    "                                                                            np.sum(test_returns==-1),                                        \n",
    "                                                                            np.sum(test_returns==1),\n",
    "                                                                            np.sum(test_returns==2)))\n",
    "#non_robust_rewards_1 = np.array([r(X_t[i],a_opt(X_t[i], Q_0_1),X_t[i+1]) for i in range(len(X_t)-1)])\n",
    "#non_robust_rewards_2 = np.array([r(X_t[i],a_opt(X_t[i], Q_0_2),X_t[i+1]) for i in range(len(X_t)-1)])\n",
    "robust_rewards_1       = np.array([r1(X_t[i],a_opt(X_t[i], Q_opt_robust_1),X_t[i+1]) for i in range(len(X_t)-1)])\n",
    "robust_rewards_2       = np.array([r2(X_t[i],a_opt(X_t[i], Q_opt_robust_2),X_t[i+1]) for i in range(len(X_t)-1)])\n",
    "trend_following        = np.array([((X_t[i][-1]-X_t[i][0] <= 0) + (X_t[i][-1]-X_t[i][0] > 0)) * 0.01 * X_t[i+1][-1] for i in range(len(X_t)-1)])\n",
    "\n",
    "print(\"Robust 1:           {:0.4f}% correct \\n Robust 2:           {:0.4f}% correct \\n Trend following:           {:0.4f}% correct \".format(100*np.sum(robust_rewards_1>0)/(len(X_t)-1), 100*np.sum(robust_rewards_2>0)/(len(X_t)-1), 100*np.sum(trend_following>0)/(len(X_t)-1)))"
   ]
  },
  {
   "cell_type": "code",
   "execution_count": 1,
   "metadata": {},
   "outputs": [
    {
     "ename": "NameError",
     "evalue": "name 'returns' is not defined",
     "output_type": "error",
     "traceback": [
      "\u001b[1;31m---------------------------------------------------------------------------\u001b[0m",
      "\u001b[1;31mNameError\u001b[0m                                 Traceback (most recent call last)",
      "Cell \u001b[1;32mIn[1], line 3\u001b[0m\n\u001b[0;32m      1\u001b[0m test_period_start \u001b[38;5;241m=\u001b[39m \u001b[38;5;241m3_500\u001b[39m\n\u001b[0;32m      2\u001b[0m test_period_end   \u001b[38;5;241m=\u001b[39m \u001b[38;5;241m4_500\u001b[39m\n\u001b[1;32m----> 3\u001b[0m returns_test      \u001b[38;5;241m=\u001b[39m \u001b[43mreturns\u001b[49m[test_period_start:test_period_end]\n",
      "\u001b[1;31mNameError\u001b[0m: name 'returns' is not defined"
     ]
    }
   ],
   "source": [
    "test_period_start = 3_500\n",
    "test_period_end   = 4_500\n",
    "returns_test      = returns[test_period_start:test_period_end]"
   ]
  },
  {
   "cell_type": "code",
   "execution_count": 2,
   "metadata": {},
   "outputs": [
    {
     "ename": "NameError",
     "evalue": "name 'returns_test' is not defined",
     "output_type": "error",
     "traceback": [
      "\u001b[1;31m---------------------------------------------------------------------------\u001b[0m",
      "\u001b[1;31mNameError\u001b[0m                                 Traceback (most recent call last)",
      "Cell \u001b[1;32mIn[2], line 1\u001b[0m\n\u001b[1;32m----> 1\u001b[0m test_returns1 \u001b[38;5;241m=\u001b[39m \u001b[43mreturns_test\u001b[49m\n\u001b[0;32m      2\u001b[0m \u001b[38;5;66;03m#test_returns1 = returns_train_3\u001b[39;00m\n\u001b[0;32m      3\u001b[0m X_t \u001b[38;5;241m=\u001b[39m np\u001b[38;5;241m.\u001b[39marray([test_returns1[i:(h\u001b[38;5;241m+\u001b[39mi)]  \u001b[38;5;28;01mfor\u001b[39;00m i \u001b[38;5;129;01min\u001b[39;00m \u001b[38;5;28mrange\u001b[39m(\u001b[38;5;28mlen\u001b[39m(test_returns1)\u001b[38;5;241m-\u001b[39mh\u001b[38;5;241m-\u001b[39m\u001b[38;5;241m1\u001b[39m)])\n",
      "\u001b[1;31mNameError\u001b[0m: name 'returns_test' is not defined"
     ]
    }
   ],
   "source": [
    "test_returns1 = returns_test\n",
    "#test_returns1 = returns_train_3\n",
    "X_t = np.array([test_returns1[i:(h+i)]  for i in range(len(test_returns1)-h-1)])\n",
    "print(\"Test Period 1:\\n\\nDays:             {}\\nNegative Returns:   {}\\nSmall Neg. Returns: {}\\nSmall Pos. Returns: {}\\nPositive Returns:   {}\".format(len(test_returns1),\n",
    "                                                                            np.sum(test_returns1==-2),\n",
    "                                                                            np.sum(test_returns1==-1),                                            \n",
    "                                                                            np.sum(test_returns1==1),\n",
    "                                                                            np.sum(test_returns1==2)))\n",
    "robust_rewards_1       = np.array([r1(X_t[i],a_opt(X_t[i], Q_opt_robust_1),X_t[i+1]) for i in range(len(X_t)-1)])\n",
    "robust_rewards_2       = np.array([r2(X_t[i],a_opt(X_t[i], Q_opt_robust_2),X_t[i+1]) for i in range(len(X_t)-1)])\n",
    "\n",
    "rewards_1       = np.array([r1(X_t[i],a_opt(X_t[i], Q_opt_1),X_t[i+1]) for i in range(len(X_t)-1)])\n",
    "rewards_2       = np.array([r1(X_t[i],a_opt(X_t[i], Q_opt_2),X_t[i+1]) for i in range(len(X_t)-1)])\n",
    "rewards_3       = np.array([r1(X_t[i],a_opt(X_t[i], Q_opt_3),X_t[i+1]) for i in range(len(X_t)-1)])\n",
    "\n",
    "trend_following        = np.array([((X_t[i][-1]-X_t[i][0] > 0)) * 0.01 * X_t[i+1][-1] for i in range(len(X_t)-1)])\n",
    "buy_and_hold           = np.array([0.01 * X_t[i+1][-1] for i in range(len(X_t)-1)])\n",
    "\n",
    "\n",
    "#print(\"Robust:           {:0.4f}% correct \".format(100*np.sum(robust_rewards>0)/len(X_t)))\n",
    "#print(\"Robust 1:           {:0.4f}% correct \\n Robust 2:           {:0.4f}% correct \\n Trend following:           {:0.4f}% correct \".format(100*np.sum(robust_rewards_1>0)/len(X_t), 100*np.sum(robust_rewards_2>0)/len(X_t), 100*np.sum(trend_following>0)/len(X_t)))\n",
    "print(\"Robust 1:           {:0.4f} sharpe ratio \\n Robust 2:           {:0.4f} sharpe ratio \\n Non-Robust 1:           {:0.4f} sharpe ratio \\n Non-Robust 2:           {:0.4f} sharpe ratio \\n Non_Robust 3:           {:0.4f} sharpe ratio \\n Trend following:           {:0.4f} sharpe ratio  \\n Buy and hold:           {:0.4f} sharpe ratio\".format((np.mean(robust_rewards_1)/np.std(robust_rewards_1))*np.sqrt(252),\n",
    "                                                                                                                                                                                                       (np.mean(robust_rewards_2)/np.std(robust_rewards_2))*np.sqrt(252),\n",
    "                                                                                                                                                                                                       (np.mean(rewards_1)/np.std(rewards_1))*np.sqrt(252),\n",
    "                                                                                                                                                                                                       (np.mean(rewards_2)/np.std(rewards_2))*np.sqrt(252),\n",
    "                                                                                                                                                                                                       (np.mean(rewards_3)/np.std(rewards_3))*np.sqrt(252),\n",
    "                                                                                                                                                                                                       (np.mean(trend_following)/np.std(trend_following))*np.sqrt(252),\n",
    "                                                                                                                                                                                                       (np.mean(buy_and_hold)/np.std(buy_and_hold))*np.sqrt(252)))"
   ]
  },
  {
   "cell_type": "code",
   "execution_count": null,
   "metadata": {},
   "outputs": [
    {
     "data": {
      "text/plain": [
       "array([ True,  True,  True, ...,  True,  True,  True])"
      ]
     },
     "execution_count": 49,
     "metadata": {},
     "output_type": "execute_result"
    }
   ],
   "source": [
    "buy_and_hold == trend_following"
   ]
  },
  {
   "cell_type": "code",
   "execution_count": null,
   "metadata": {},
   "outputs": [],
   "source": []
  }
 ],
 "metadata": {
  "kernelspec": {
   "display_name": "Python 3",
   "language": "python",
   "name": "python3"
  },
  "language_info": {
   "codemirror_mode": {
    "name": "ipython",
    "version": 3
   },
   "file_extension": ".py",
   "mimetype": "text/x-python",
   "name": "python",
   "nbconvert_exporter": "python",
   "pygments_lexer": "ipython3",
   "version": "3.11.9"
  }
 },
 "nbformat": 4,
 "nbformat_minor": 2
}
