{
 "cells": [
  {
   "cell_type": "markdown",
   "metadata": {},
   "source": [
    "Stock investing Example, application of the reduction property"
   ]
  },
  {
   "cell_type": "code",
   "execution_count": 1,
   "metadata": {},
   "outputs": [],
   "source": [
    "#%load_ext autoreload\n",
    "#%autoreload 2\n",
    "import numpy as np\n",
    "import copy \n",
    "import random\n",
    "import pandas as pd\n",
    "from tqdm import tqdm\n",
    "from scipy.stats import binom\n",
    "from scipy.optimize import minimize\n",
    "import matplotlib.pyplot as plt"
   ]
  },
  {
   "cell_type": "code",
   "execution_count": 2,
   "metadata": {},
   "outputs": [],
   "source": [
    "import yfinance as yf\n",
    "import itertools"
   ]
  },
  {
   "cell_type": "code",
   "execution_count": 3,
   "metadata": {},
   "outputs": [],
   "source": [
    "rng = np.random.default_rng()"
   ]
  },
  {
   "cell_type": "code",
   "execution_count": 4,
   "metadata": {},
   "outputs": [],
   "source": [
    "from robust_q_learning_v2 import *\n",
    "from q_learning import *"
   ]
  },
  {
   "cell_type": "markdown",
   "metadata": {},
   "source": [
    "Importation of market data from yahoo finance"
   ]
  },
  {
   "cell_type": "code",
   "execution_count": 7,
   "metadata": {},
   "outputs": [
    {
     "name": "stderr",
     "output_type": "stream",
     "text": [
      "[*********************100%%**********************]  1 of 1 completed\n"
     ]
    }
   ],
   "source": [
    "# AAPL_data  = yf.download(\"AAPL\", start=\"2010-01-02\", end=\"2021-01-01\")\n",
    "# MSFT_data  = yf.download(\"MSFT\", start=\"2010-01-02\", end=\"2021-01-01\")\n",
    "# GOOGL_data = yf.download(\"GOOGL\", start=\"2010-01-02\", end=\"2021-01-01\")\n",
    "# EBAY_data  = yf.download(\"EBAY\", start=\"2010-01-02\", end=\"2021-01-01\")\n",
    "# AMZN_data  = yf.download(\"AMZN\", start=\"2010-01-02\", end=\"2021-01-01\")\n",
    "# TSLA_data  = yf.download(\"TSLA\", start=\"2010-01-02\", end=\"2024-01-01\")\n",
    "\n",
    "data = yf.download(\"GOOGL\", start=\"2010-01-02\", end=\"2024-01-01\")"
   ]
  },
  {
   "cell_type": "markdown",
   "metadata": {},
   "source": [
    "Computation of the return of the stock selected"
   ]
  },
  {
   "cell_type": "code",
   "execution_count": 8,
   "metadata": {},
   "outputs": [
    {
     "name": "stdout",
     "output_type": "stream",
     "text": [
      "0.01844430165574956\n",
      "0.021118415930247488\n"
     ]
    }
   ],
   "source": [
    "small_return = 0.01\n",
    "#null_return  = 0.001\n",
    "#ind_0     = ((np.diff(data[\"Close\"])/(data[\"Close\"])[:-1])<null_return)&((np.diff(data[\"Close\"])/(data[\"Close\"])[:-1])>-null_return)\n",
    "\n",
    "ind_0_pos = ((np.diff(data[\"Close\"])/(data[\"Close\"])[:-1]) <  small_return)&((np.diff(data[\"Close\"])/(data[\"Close\"])[:-1])>=0)\n",
    "ind_pos   = ((np.diff(data[\"Close\"])/(data[\"Close\"])[:-1]) >= small_return)\n",
    "ind_0_neg = ((np.diff(data[\"Close\"])/(data[\"Close\"])[:-1]) > -small_return)&((np.diff(data[\"Close\"])/(data[\"Close\"])[:-1])<=0)\n",
    "ind_neg   = ((np.diff(data[\"Close\"])/(data[\"Close\"])[:-1]) <=-small_return)\n",
    "\n",
    "returns = np.zeros(len(data)-1)\n",
    "#returns[ind_0]     = 0\n",
    "returns[ind_0_pos] =  1\n",
    "returns[ind_pos]   =  2\n",
    "returns[ind_0_neg] = -1\n",
    "returns[ind_neg]   = -2\n",
    "\n",
    "mr1 = np.mean((np.diff(data[\"Close\"])/(data[\"Close\"])[:-1])[ind_0_pos])\n",
    "print(mr1*4)\n",
    "mr2 = np.mean((np.diff(data[\"Close\"])/(data[\"Close\"])[:-1])[ind_pos])\n",
    "print(mr2)"
   ]
  },
  {
   "cell_type": "markdown",
   "metadata": {},
   "source": [
    "Definition of training and testing periods"
   ]
  },
  {
   "cell_type": "code",
   "execution_count": 9,
   "metadata": {},
   "outputs": [],
   "source": [
    "training_start = 1_000\n",
    "training_end   = 1_300\n",
    "returns_train_1  = returns[training_start:training_end]\n",
    "\n",
    "training_start = 2_700\n",
    "training_end   = 3_000\n",
    "returns_train_2  = returns[training_start:training_end]\n",
    "\n",
    "training_start = 3_000\n",
    "training_end   = 3_300\n",
    "returns_train_3  = returns[training_start:training_end]\n",
    "\n",
    "#Testing Period\n",
    "test_period_start = training_end+1\n",
    "test_period_end = training_end+101\n",
    "returns_test = returns[test_period_start:test_period_end]"
   ]
  },
  {
   "cell_type": "code",
   "execution_count": 10,
   "metadata": {},
   "outputs": [
    {
     "data": {
      "text/plain": [
       "array([-1.,  1.,  1., -1.,  2., -1., -1.,  2.,  2.,  1., -1., -1., -1.,\n",
       "        2., -1.,  1., -1.,  2.,  1., -1., -2., -2.,  2., -2.,  2.,  2.,\n",
       "       -2.,  1.,  1.,  2.,  2., -1.,  2., -1.,  2.,  1.,  1., -1.,  1.,\n",
       "       -1.,  1.,  1.,  1., -1., -1., -2.,  2.,  1.,  1., -1., -1., -1.,\n",
       "        1., -2., -2.,  2.,  2., -1., -1., -2., -2.,  1., -2., -2.,  1.,\n",
       "       -1.,  2.,  1.,  1., -2., -1.,  2.,  2., -2., -2.,  2.,  1.,  2.,\n",
       "       -2., -1.,  2., -2., -1., -2., -1.,  2., -1.,  1., -1.,  1., -2.,\n",
       "       -1.,  1.,  2.,  2.,  1., -2., -1., -1.,  2.,  1.,  2.,  2.,  2.,\n",
       "        2., -1.,  1.,  1., -2., -2., -1.,  2.,  1.,  1., -1., -1., -2.,\n",
       "        1., -2., -1.,  2.,  1.,  1.,  2., -1.,  2., -1.,  1., -1.,  2.,\n",
       "       -1.,  1., -1., -2.,  1., -1.,  2.,  2., -1., -1., -2.,  2., -2.,\n",
       "        1.,  1., -1., -1.,  1., -1.,  1., -2., -2.,  2., -2.,  1., -1.,\n",
       "        2., -1., -1.,  2.,  1., -1.,  2.,  1., -1., -1.,  1., -1., -1.,\n",
       "       -1., -1.,  1.,  2.,  1.,  1.,  1.,  1., -2.,  1., -1., -2., -1.,\n",
       "        2.,  1.,  1.,  2., -2., -2.,  2., -2.,  1., -1.,  1., -2.,  1.,\n",
       "        1.,  1., -2.,  2., -2., -2., -2.,  1., -2., -1., -2.,  2.,  2.,\n",
       "        1.,  2., -1.,  1.,  2., -1.,  1.,  2., -1.,  1., -2., -1.,  1.,\n",
       "        2.,  1., -1., -1., -1., -2., -1.,  1., -1.,  1.,  1.,  1., -1.,\n",
       "        1., -2., -1., -1.,  2., -2.,  1.,  2., -2.,  1., -2., -2., -2.,\n",
       "        2.,  2.,  2.,  2.,  2., -1.,  1., -1., -1., -1., -1., -2., -2.,\n",
       "       -1.,  1., -2., -1.,  1.,  1., -1.,  2., -1.,  2.,  2.,  1., -1.,\n",
       "       -2., -2.,  1.,  2., -1.,  1., -2.,  1.,  1., -1.,  2., -1.,  2.,\n",
       "        1., -2., -1.,  1., -1., -2.,  1.,  2.,  2.,  1.,  2.,  1., -1.,\n",
       "        1.])"
      ]
     },
     "execution_count": 10,
     "metadata": {},
     "output_type": "execute_result"
    }
   ],
   "source": [
    "returns_train_1"
   ]
  },
  {
   "cell_type": "markdown",
   "metadata": {},
   "source": [
    "Verification that the training periods correspond to really different periods"
   ]
  },
  {
   "cell_type": "code",
   "execution_count": 11,
   "metadata": {},
   "outputs": [
    {
     "data": {
      "text/plain": [
       "[<matplotlib.lines.Line2D at 0x2c20c330f50>]"
      ]
     },
     "execution_count": 11,
     "metadata": {},
     "output_type": "execute_result"
    },
    {
     "data": {
      "image/png": "[encoded data removed]",
      "text/plain": [
       "<Figure size 640x480 with 1 Axes>"
      ]
     },
     "metadata": {},
     "output_type": "display_data"
    }
   ],
   "source": [
    "plt.plot(returns_train_1.cumsum())"
   ]
  },
  {
   "cell_type": "code",
   "execution_count": 12,
   "metadata": {},
   "outputs": [
    {
     "data": {
      "text/plain": [
       "[<matplotlib.lines.Line2D at 0x2c20e790550>]"
      ]
     },
     "execution_count": 12,
     "metadata": {},
     "output_type": "execute_result"
    },
    {
     "data": {
      "image/png": "[encoded data removed]",
      "text/plain": [
       "<Figure size 640x480 with 1 Axes>"
      ]
     },
     "metadata": {},
     "output_type": "display_data"
    }
   ],
   "source": [
    "plt.plot(returns_train_2.cumsum())"
   ]
  },
  {
   "cell_type": "code",
   "execution_count": 13,
   "metadata": {},
   "outputs": [
    {
     "data": {
      "text/plain": [
       "[<matplotlib.lines.Line2D at 0x2c20e858550>]"
      ]
     },
     "execution_count": 13,
     "metadata": {},
     "output_type": "execute_result"
    },
    {
     "data": {
      "image/png": "[encoded data removed]",
      "text/plain": [
       "<Figure size 640x480 with 1 Axes>"
      ]
     },
     "metadata": {},
     "output_type": "display_data"
    }
   ],
   "source": [
    "plt.plot(returns_train_3.cumsum())"
   ]
  },
  {
   "cell_type": "code",
   "execution_count": 14,
   "metadata": {},
   "outputs": [],
   "source": [
    "h    = 5 # Length of history\n",
    "ret1 = returns_train_1\n",
    "ret2 = returns_train_2\n",
    "ret3 = returns_train_3\n",
    "\n",
    "#h2   = 4\n",
    "#returns"
   ]
  },
  {
   "cell_type": "markdown",
   "metadata": {},
   "source": [
    "Definition of the parameters to use the algorithm"
   ]
  },
  {
   "cell_type": "code",
   "execution_count": 15,
   "metadata": {},
   "outputs": [],
   "source": [
    "# State Space\n",
    "T = [-2, -1, 1, 2]\n",
    "X = np.array(list(itertools.product(T, repeat=h)))\n",
    "#X\n",
    "#X2 = np.array(list(itertools.product(T, repeat=h2)))"
   ]
  },
  {
   "cell_type": "code",
   "execution_count": 16,
   "metadata": {},
   "outputs": [],
   "source": [
    "A = np.array([0, 1]) # Actions\n",
    "\n",
    "def r1(x,a,y):\n",
    "    return ((abs(x[-1])==1) * 0.02 + (abs(x[-1])==2) * 0.01) * a * y[-1]\n",
    "def r2(x,a,y):\n",
    "    return 0.01 * a * y[-1]\n",
    "\n",
    "eps_greedy = 0.1   # Epsilon greedy policy\n",
    "alpha      = 0.95  # Discount Factor\n",
    "\n",
    "#x_0        = 0     # Initial Value\n",
    "rng  = np.random.default_rng()\n",
    "x1_0 = rng.choice(np.array([ret1[i:(h+i)]  for i in range(len(ret1)-h-1)]),axis = 0)\n",
    "x2_0 = rng.choice(np.array([ret2[i:(h+i)]  for i in range(len(ret2)-h-1)]),axis = 0)\n",
    "x3_0 = rng.choice(np.array([ret3[i:(h+i)]  for i in range(len(ret3)-h-1)]),axis = 0)\n",
    "\n",
    "k_0        = 0     # Initial index of the corresponding MDP, starting with the central proba of 1/2"
   ]
  },
  {
   "cell_type": "code",
   "execution_count": 17,
   "metadata": {},
   "outputs": [],
   "source": [
    "# Build the functions that allow us to get the index of an element a (reps. x) in A (resp. X)\n",
    "if np.ndim(A) > 1:\n",
    "    A_list = A\n",
    "else:\n",
    "    A_list = np.array([[a] for a in A])\n",
    "if np.ndim(X) > 1:\n",
    "    X_list = X\n",
    "else:\n",
    "    X_list = np.array([[x] for x in X])\n",
    "\n",
    "def a_index(a):\n",
    "    return np.flatnonzero((a==A_list).all(1))[0]\n",
    "def x_index(x):\n",
    "    return np.flatnonzero((x==X_list).all(1))[0]"
   ]
  },
  {
   "cell_type": "markdown",
   "metadata": {},
   "source": [
    "For each x, computation of the probabilities of occurence of the next return"
   ]
  },
  {
   "cell_type": "code",
   "execution_count": 18,
   "metadata": {},
   "outputs": [],
   "source": [
    "p1_list = []\n",
    "for x in X:\n",
    "    eps = 1e-8\n",
    "    x_u  = np.concatenate([x[1:], [2]])\n",
    "    x_d  = np.concatenate([x[1:], [-2]])\n",
    "    x_u0 = np.concatenate([x[1:], [1]])\n",
    "    x_d0 = np.concatenate([x[1:], [-1]])\n",
    "    p_u_raw  = np.sum([np.all(ret1[i:(h+i)]==x_u) for i in range(len(ret1)-h-1)])\n",
    "    p_d_raw  = np.sum([np.all(ret1[i:(h+i)]==x_d) for i in range(len(ret1)-h-1)])\n",
    "    p_u0_raw = np.sum([np.all(ret1[i:(h+i)]==x_u0) for i in range(len(ret1)-h-1)])\n",
    "    p_d0_raw = np.sum([np.all(ret1[i:(h+i)]==x_d0) for i in range(len(ret1)-h-1)])\n",
    "    p_u  = (eps/5 + p_u_raw) / (p_u_raw + p_d_raw + p_u0_raw + p_d0_raw + eps)\n",
    "    p_d  = (eps/5 + p_d_raw) / (p_u_raw + p_d_raw + p_u0_raw + p_d0_raw + eps)\n",
    "    p_u0 = (eps/5 + p_u0_raw) / (p_u_raw + p_d_raw + p_u0_raw + p_d0_raw + eps)\n",
    "    p_d0 = (eps/5 + p_d0_raw) / (p_u_raw + p_d_raw + p_u0_raw + p_d0_raw + eps)\n",
    "    p1_list.append([p_d, p_d0, p_u0, p_u])\n",
    "\n",
    "p2_list = []\n",
    "for x in X:\n",
    "    eps = 1e-8\n",
    "    x_u  = np.concatenate([x[1:], [2]])\n",
    "    x_d  = np.concatenate([x[1:], [-2]])\n",
    "    x_u0 = np.concatenate([x[1:], [1]])\n",
    "    x_d0 = np.concatenate([x[1:], [-1]])\n",
    "    p_u_raw  = np.sum([np.all(ret2[i:(h+i)]==x_u) for i in range(len(ret2)-h-1)])\n",
    "    p_d_raw  = np.sum([np.all(ret2[i:(h+i)]==x_d) for i in range(len(ret2)-h-1)])\n",
    "    p_u0_raw = np.sum([np.all(ret2[i:(h+i)]==x_u0) for i in range(len(ret2)-h-1)])\n",
    "    p_d0_raw = np.sum([np.all(ret2[i:(h+i)]==x_d0) for i in range(len(ret2)-h-1)])\n",
    "    p_u  = (eps/5 + p_u_raw) / (p_u_raw + p_d_raw + p_u0_raw + p_d0_raw + eps)\n",
    "    p_d  = (eps/5 + p_d_raw) / (p_u_raw + p_d_raw + p_u0_raw + p_d0_raw + eps)\n",
    "    p_u0 = (eps/5 + p_u0_raw) / (p_u_raw + p_d_raw + p_u0_raw + p_d0_raw + eps)\n",
    "    p_d0 = (eps/5 + p_d0_raw) / (p_u_raw + p_d_raw + p_u0_raw + p_d0_raw + eps)\n",
    "    p2_list.append([p_d, p_d0, p_u0, p_u])\n",
    "\n",
    "p3_list = []\n",
    "for x in X:\n",
    "    eps = 1e-8\n",
    "    x_u  = np.concatenate([x[1:], [2]])\n",
    "    x_d  = np.concatenate([x[1:], [-2]])\n",
    "    x_u0 = np.concatenate([x[1:], [1]])\n",
    "    x_d0 = np.concatenate([x[1:], [-1]])\n",
    "    p_u_raw  = np.sum([np.all(ret3[i:(h+i)]==x_u) for i in range(len(ret3)-h-1)])\n",
    "    p_d_raw  = np.sum([np.all(ret3[i:(h+i)]==x_d) for i in range(len(ret3)-h-1)])\n",
    "    p_u0_raw = np.sum([np.all(ret3[i:(h+i)]==x_u0) for i in range(len(ret3)-h-1)])\n",
    "    p_d0_raw = np.sum([np.all(ret3[i:(h+i)]==x_d0) for i in range(len(ret3)-h-1)])\n",
    "    p_u  = (eps/5 + p_u_raw) / (p_u_raw + p_d_raw + p_u0_raw + p_d0_raw + eps)\n",
    "    p_d  = (eps/5 + p_d_raw) / (p_u_raw + p_d_raw + p_u0_raw + p_d0_raw + eps)\n",
    "    p_u0 = (eps/5 + p_u0_raw) / (p_u_raw + p_d_raw + p_u0_raw + p_d0_raw + eps)\n",
    "    p_d0 = (eps/5 + p_d0_raw) / (p_u_raw + p_d_raw + p_u0_raw + p_d0_raw + eps)\n",
    "    p3_list.append([p_d, p_d0, p_u0, p_u])"
   ]
  },
  {
   "cell_type": "markdown",
   "metadata": {},
   "source": [
    "Construction of the worst case probability"
   ]
  },
  {
   "cell_type": "code",
   "execution_count": 19,
   "metadata": {},
   "outputs": [],
   "source": [
    "def p1(x, a, y):\n",
    "    ind = np.flatnonzero((x1_0==X).all(1))[0]\n",
    "    p_d, p_d0, p_u0, p_u = p1_list[ind]\n",
    "    return p_d * np.all(y==np.concatenate([x[1:],[-2]])) + p_d0*np.all(y==np.concatenate([x[1:],[-1]])) + p_u0*np.all(y==np.concatenate([x[1:],[1]])) + p_u*np.all(y==np.concatenate([x[1:],[2]]))\n",
    "\n",
    "def P1(x,a):\n",
    "    ind = np.flatnonzero((x1_0==X).all(1))[0]\n",
    "    p_d, p_d0, p_u0, p_u = p1_list[ind]\n",
    "    rand_unif = (np.random.random_sample(size=1))\n",
    "    rand = - 2*int(rand_unif < p_d) - 1*int((rand_unif >= (p_d)) * (rand_unif < (p_d+p_d0))) + 1*int((rand_unif >= (p_d+p_d0)) * (rand_unif < (p_d+p_d0+p_u0))) + 2*int(rand_unif >= (p_d+p_d0+p_u0))\n",
    "    return np.concatenate([x[1:],[rand]])\n",
    "\n",
    "def p2(x, a, y):\n",
    "    ind = np.flatnonzero((x2_0==X).all(1))[0]\n",
    "    p_d, p_d0, p_u0, p_u = p2_list[ind]\n",
    "    return p_d * np.all(y==np.concatenate([x[1:],[-2]])) + p_d0*np.all(y==np.concatenate([x[1:],[-1]])) + p_u0*np.all(y==np.concatenate([x[1:],[1]])) + p_u*np.all(y==np.concatenate([x[1:],[2]]))\n",
    "\n",
    "def P2(x,a):\n",
    "    ind = np.flatnonzero((x2_0==X).all(1))[0]\n",
    "    p_d, p_d0, p_u0, p_u = p2_list[ind]\n",
    "    rand_unif = (np.random.random_sample(size=1))\n",
    "    rand = - 2*int(rand_unif < p_d) - 1*int((rand_unif >= (p_d)) * (rand_unif < (p_d+p_d0))) + 1*int((rand_unif >= (p_d+p_d0)) * (rand_unif < (p_d+p_d0+p_u0))) + 2*int(rand_unif >= (p_d+p_d0+p_u0))\n",
    "    return np.concatenate([x[1:],[rand]])\n",
    "\n",
    "def p3(x, a, y):\n",
    "    ind = np.flatnonzero((x3_0==X).all(1))[0]\n",
    "    p_d, p_d0, p_u0, p_u = p3_list[ind]\n",
    "    return p_d * np.all(y==np.concatenate([x[1:],[-2]])) + p_d0*np.all(y==np.concatenate([x[1:],[-1]])) + p_u0*np.all(y==np.concatenate([x[1:],[1]])) + p_u*np.all(y==np.concatenate([x[1:],[2]]))\n",
    "\n",
    "def P3(x,a):\n",
    "    ind = np.flatnonzero((x3_0==X).all(1))[0]\n",
    "    p_d, p_d0, p_u0, p_u = p3_list[ind]\n",
    "    rand_unif = (np.random.random_sample(size=1))\n",
    "    rand = - 2*int(rand_unif < p_d) - 1*int((rand_unif >= (p_d)) * (rand_unif < (p_d+p_d0))) + 1*int((rand_unif >= (p_d+p_d0)) * (rand_unif < (p_d+p_d0+p_u0))) + 2*int(rand_unif >= (p_d+p_d0+p_u0))\n",
    "    return np.concatenate([x[1:],[rand]])"
   ]
  },
  {
   "cell_type": "markdown",
   "metadata": {},
   "source": [
    "Running of the non-robust algorithm, by applying the Proposition 3.3"
   ]
  },
  {
   "cell_type": "markdown",
   "metadata": {},
   "source": [
    "Running the robust algorithm for comparison"
   ]
  },
  {
   "cell_type": "code",
   "execution_count": 20,
   "metadata": {},
   "outputs": [
    {
     "name": "stderr",
     "output_type": "stream",
     "text": [
      "100%|██████████| 1000000/1000000 [67:41:47<00:00,  4.10it/s]          \n"
     ]
    },
    {
     "data": {
      "text/html": [
       "<div>\n",
       "<style scoped>\n",
       "    .dataframe tbody tr th:only-of-type {\n",
       "        vertical-align: middle;\n",
       "    }\n",
       "\n",
       "    .dataframe tbody tr th {\n",
       "        vertical-align: top;\n",
       "    }\n",
       "\n",
       "    .dataframe thead th {\n",
       "        text-align: right;\n",
       "    }\n",
       "</style>\n",
       "<table border=\"1\" class=\"dataframe\">\n",
       "  <thead>\n",
       "    <tr style=\"text-align: right;\">\n",
       "      <th></th>\n",
       "      <th>0</th>\n",
       "      <th>1</th>\n",
       "      <th>2</th>\n",
       "      <th>3</th>\n",
       "      <th>4</th>\n",
       "      <th>5</th>\n",
       "      <th>6</th>\n",
       "      <th>7</th>\n",
       "      <th>8</th>\n",
       "      <th>9</th>\n",
       "      <th>...</th>\n",
       "      <th>1014</th>\n",
       "      <th>1015</th>\n",
       "      <th>1016</th>\n",
       "      <th>1017</th>\n",
       "      <th>1018</th>\n",
       "      <th>1019</th>\n",
       "      <th>1020</th>\n",
       "      <th>1021</th>\n",
       "      <th>1022</th>\n",
       "      <th>1023</th>\n",
       "    </tr>\n",
       "  </thead>\n",
       "  <tbody>\n",
       "    <tr>\n",
       "      <th>0</th>\n",
       "      <td>0</td>\n",
       "      <td>0</td>\n",
       "      <td>0</td>\n",
       "      <td>0</td>\n",
       "      <td>0</td>\n",
       "      <td>0</td>\n",
       "      <td>0</td>\n",
       "      <td>0</td>\n",
       "      <td>0</td>\n",
       "      <td>0</td>\n",
       "      <td>...</td>\n",
       "      <td>0</td>\n",
       "      <td>0</td>\n",
       "      <td>0</td>\n",
       "      <td>0</td>\n",
       "      <td>0</td>\n",
       "      <td>0</td>\n",
       "      <td>1</td>\n",
       "      <td>0</td>\n",
       "      <td>0</td>\n",
       "      <td>1</td>\n",
       "    </tr>\n",
       "  </tbody>\n",
       "</table>\n",
       "<p>1 rows × 1024 columns</p>\n",
       "</div>"
      ],
      "text/plain": [
       "   0     1     2     3     4     5     6     7     8     9     ...  1014  \\\n",
       "0     0     0     0     0     0     0     0     0     0     0  ...     0   \n",
       "\n",
       "   1015  1016  1017  1018  1019  1020  1021  1022  1023  \n",
       "0     0     0     0     0     0     1     0     0     1  \n",
       "\n",
       "[1 rows x 1024 columns]"
      ]
     },
     "execution_count": 20,
     "metadata": {},
     "output_type": "execute_result"
    }
   ],
   "source": [
    "Nr_iter = 1_000_000\n",
    "Q_opt_robust_1, V_1 = robust_q_learning_v2(X, A, r1, np.array([P1, P2, P3]), np.array([p1, p2, p3]), alpha, x1_0, k_0, eps_greedy, Nr_iter, gamma_t_tilde = lambda t: 1/(t+1), Q_0 = np.ones([len(X),len(A)]))\n",
    "\n",
    "# Get the result of the Q-Learning algorithm,\n",
    "# Get the optimal results for each x in X\n",
    "def a_opt(t, Q_opt):\n",
    "    return A[np.argmax(Q_opt[x_index(t),:])]\n",
    "\n",
    "df_rob = pd.DataFrame(np.array([[a_opt(x, Q_opt_robust_1) for x in X]]))\n",
    "#df.columns = ['-2', '-1', '0', '1', '2']\n",
    "df_rob"
   ]
  },
  {
   "cell_type": "code",
   "execution_count": 33,
   "metadata": {},
   "outputs": [],
   "source": [
    "df_rob.to_csv('h5_r1.csv')"
   ]
  },
  {
   "cell_type": "code",
   "execution_count": 21,
   "metadata": {},
   "outputs": [
    {
     "name": "stderr",
     "output_type": "stream",
     "text": [
      "100%|██████████| 1000000/1000000 [67:24:51<00:00,  4.12it/s]         \n"
     ]
    },
    {
     "data": {
      "text/html": [
       "<div>\n",
       "<style scoped>\n",
       "    .dataframe tbody tr th:only-of-type {\n",
       "        vertical-align: middle;\n",
       "    }\n",
       "\n",
       "    .dataframe tbody tr th {\n",
       "        vertical-align: top;\n",
       "    }\n",
       "\n",
       "    .dataframe thead th {\n",
       "        text-align: right;\n",
       "    }\n",
       "</style>\n",
       "<table border=\"1\" class=\"dataframe\">\n",
       "  <thead>\n",
       "    <tr style=\"text-align: right;\">\n",
       "      <th></th>\n",
       "      <th>0</th>\n",
       "      <th>1</th>\n",
       "      <th>2</th>\n",
       "      <th>3</th>\n",
       "      <th>4</th>\n",
       "      <th>5</th>\n",
       "      <th>6</th>\n",
       "      <th>7</th>\n",
       "      <th>8</th>\n",
       "      <th>9</th>\n",
       "      <th>...</th>\n",
       "      <th>1014</th>\n",
       "      <th>1015</th>\n",
       "      <th>1016</th>\n",
       "      <th>1017</th>\n",
       "      <th>1018</th>\n",
       "      <th>1019</th>\n",
       "      <th>1020</th>\n",
       "      <th>1021</th>\n",
       "      <th>1022</th>\n",
       "      <th>1023</th>\n",
       "    </tr>\n",
       "  </thead>\n",
       "  <tbody>\n",
       "    <tr>\n",
       "      <th>0</th>\n",
       "      <td>0</td>\n",
       "      <td>0</td>\n",
       "      <td>0</td>\n",
       "      <td>0</td>\n",
       "      <td>0</td>\n",
       "      <td>0</td>\n",
       "      <td>0</td>\n",
       "      <td>0</td>\n",
       "      <td>0</td>\n",
       "      <td>0</td>\n",
       "      <td>...</td>\n",
       "      <td>0</td>\n",
       "      <td>0</td>\n",
       "      <td>0</td>\n",
       "      <td>0</td>\n",
       "      <td>0</td>\n",
       "      <td>0</td>\n",
       "      <td>1</td>\n",
       "      <td>0</td>\n",
       "      <td>0</td>\n",
       "      <td>1</td>\n",
       "    </tr>\n",
       "  </tbody>\n",
       "</table>\n",
       "<p>1 rows × 1024 columns</p>\n",
       "</div>"
      ],
      "text/plain": [
       "   0     1     2     3     4     5     6     7     8     9     ...  1014  \\\n",
       "0     0     0     0     0     0     0     0     0     0     0  ...     0   \n",
       "\n",
       "   1015  1016  1017  1018  1019  1020  1021  1022  1023  \n",
       "0     0     0     0     0     0     1     0     0     1  \n",
       "\n",
       "[1 rows x 1024 columns]"
      ]
     },
     "execution_count": 21,
     "metadata": {},
     "output_type": "execute_result"
    }
   ],
   "source": [
    "Q_opt_robust_2, V_2 = robust_q_learning_v2(X, A, r2, np.array([P1, P2, P3]), np.array([p1, p2, p3]), alpha, x1_0, k_0, eps_greedy, Nr_iter, gamma_t_tilde = lambda t: 1/(t+1), Q_0 = np.ones([len(X),len(A)]))\n",
    "\n",
    "df_rob_ = pd.DataFrame(np.array([[a_opt(x, Q_opt_robust_2) for x in X]]))\n",
    "#df.columns = ['-2', '-1', '0', '1', '2']\n",
    "df_rob_"
   ]
  },
  {
   "cell_type": "code",
   "execution_count": 35,
   "metadata": {},
   "outputs": [],
   "source": [
    "df_rob_.to_csv('h5_r2.csv')"
   ]
  },
  {
   "cell_type": "code",
   "execution_count": 22,
   "metadata": {},
   "outputs": [
    {
     "name": "stderr",
     "output_type": "stream",
     "text": [
      "100%|██████████| 1000000/1000000 [01:42<00:00, 9790.87it/s]\n"
     ]
    },
    {
     "data": {
      "text/html": [
       "<div>\n",
       "<style scoped>\n",
       "    .dataframe tbody tr th:only-of-type {\n",
       "        vertical-align: middle;\n",
       "    }\n",
       "\n",
       "    .dataframe tbody tr th {\n",
       "        vertical-align: top;\n",
       "    }\n",
       "\n",
       "    .dataframe thead th {\n",
       "        text-align: right;\n",
       "    }\n",
       "</style>\n",
       "<table border=\"1\" class=\"dataframe\">\n",
       "  <thead>\n",
       "    <tr style=\"text-align: right;\">\n",
       "      <th></th>\n",
       "      <th>0</th>\n",
       "      <th>1</th>\n",
       "      <th>2</th>\n",
       "      <th>3</th>\n",
       "      <th>4</th>\n",
       "      <th>5</th>\n",
       "      <th>6</th>\n",
       "      <th>7</th>\n",
       "      <th>8</th>\n",
       "      <th>9</th>\n",
       "      <th>...</th>\n",
       "      <th>1014</th>\n",
       "      <th>1015</th>\n",
       "      <th>1016</th>\n",
       "      <th>1017</th>\n",
       "      <th>1018</th>\n",
       "      <th>1019</th>\n",
       "      <th>1020</th>\n",
       "      <th>1021</th>\n",
       "      <th>1022</th>\n",
       "      <th>1023</th>\n",
       "    </tr>\n",
       "  </thead>\n",
       "  <tbody>\n",
       "    <tr>\n",
       "      <th>0</th>\n",
       "      <td>0</td>\n",
       "      <td>0</td>\n",
       "      <td>0</td>\n",
       "      <td>1</td>\n",
       "      <td>0</td>\n",
       "      <td>0</td>\n",
       "      <td>0</td>\n",
       "      <td>0</td>\n",
       "      <td>0</td>\n",
       "      <td>0</td>\n",
       "      <td>...</td>\n",
       "      <td>0</td>\n",
       "      <td>0</td>\n",
       "      <td>0</td>\n",
       "      <td>0</td>\n",
       "      <td>0</td>\n",
       "      <td>0</td>\n",
       "      <td>0</td>\n",
       "      <td>0</td>\n",
       "      <td>0</td>\n",
       "      <td>0</td>\n",
       "    </tr>\n",
       "  </tbody>\n",
       "</table>\n",
       "<p>1 rows × 1024 columns</p>\n",
       "</div>"
      ],
      "text/plain": [
       "   0     1     2     3     4     5     6     7     8     9     ...  1014  \\\n",
       "0     0     0     0     1     0     0     0     0     0     0  ...     0   \n",
       "\n",
       "   1015  1016  1017  1018  1019  1020  1021  1022  1023  \n",
       "0     0     0     0     0     0     0     0     0     0  \n",
       "\n",
       "[1 rows x 1024 columns]"
      ]
     },
     "execution_count": 22,
     "metadata": {},
     "output_type": "execute_result"
    }
   ],
   "source": [
    "Q_opt_1, V_1= q_learning(X, A, r1, P1, alpha, x1_0, eps_greedy, Nr_iter, gamma_t_tilde = lambda t: 1/(t+1), Q_0 = np.ones([len(X),len(A)]))\n",
    "\n",
    "def a_opt(t, Q_opt):\n",
    "    return A[np.argmax(Q_opt[x_index(t),:])]\n",
    "\n",
    "df_1 = pd.DataFrame(np.array([[a_opt(x, Q_opt_1) for x in X]]))\n",
    "#df.columns = ['-2', '-1', '0', '1', '2']\n",
    "df_1"
   ]
  },
  {
   "cell_type": "code",
   "execution_count": 36,
   "metadata": {},
   "outputs": [],
   "source": [
    "df_1.to_csv('h5_r1_P1.csv')"
   ]
  },
  {
   "cell_type": "code",
   "execution_count": 23,
   "metadata": {},
   "outputs": [
    {
     "name": "stderr",
     "output_type": "stream",
     "text": [
      "100%|██████████| 1000000/1000000 [01:41<00:00, 9869.74it/s]\n"
     ]
    },
    {
     "data": {
      "text/html": [
       "<div>\n",
       "<style scoped>\n",
       "    .dataframe tbody tr th:only-of-type {\n",
       "        vertical-align: middle;\n",
       "    }\n",
       "\n",
       "    .dataframe tbody tr th {\n",
       "        vertical-align: top;\n",
       "    }\n",
       "\n",
       "    .dataframe thead th {\n",
       "        text-align: right;\n",
       "    }\n",
       "</style>\n",
       "<table border=\"1\" class=\"dataframe\">\n",
       "  <thead>\n",
       "    <tr style=\"text-align: right;\">\n",
       "      <th></th>\n",
       "      <th>0</th>\n",
       "      <th>1</th>\n",
       "      <th>2</th>\n",
       "      <th>3</th>\n",
       "      <th>4</th>\n",
       "      <th>5</th>\n",
       "      <th>6</th>\n",
       "      <th>7</th>\n",
       "      <th>8</th>\n",
       "      <th>9</th>\n",
       "      <th>...</th>\n",
       "      <th>1014</th>\n",
       "      <th>1015</th>\n",
       "      <th>1016</th>\n",
       "      <th>1017</th>\n",
       "      <th>1018</th>\n",
       "      <th>1019</th>\n",
       "      <th>1020</th>\n",
       "      <th>1021</th>\n",
       "      <th>1022</th>\n",
       "      <th>1023</th>\n",
       "    </tr>\n",
       "  </thead>\n",
       "  <tbody>\n",
       "    <tr>\n",
       "      <th>0</th>\n",
       "      <td>0</td>\n",
       "      <td>0</td>\n",
       "      <td>0</td>\n",
       "      <td>0</td>\n",
       "      <td>0</td>\n",
       "      <td>0</td>\n",
       "      <td>0</td>\n",
       "      <td>0</td>\n",
       "      <td>0</td>\n",
       "      <td>0</td>\n",
       "      <td>...</td>\n",
       "      <td>0</td>\n",
       "      <td>0</td>\n",
       "      <td>0</td>\n",
       "      <td>0</td>\n",
       "      <td>0</td>\n",
       "      <td>0</td>\n",
       "      <td>0</td>\n",
       "      <td>0</td>\n",
       "      <td>0</td>\n",
       "      <td>1</td>\n",
       "    </tr>\n",
       "  </tbody>\n",
       "</table>\n",
       "<p>1 rows × 1024 columns</p>\n",
       "</div>"
      ],
      "text/plain": [
       "   0     1     2     3     4     5     6     7     8     9     ...  1014  \\\n",
       "0     0     0     0     0     0     0     0     0     0     0  ...     0   \n",
       "\n",
       "   1015  1016  1017  1018  1019  1020  1021  1022  1023  \n",
       "0     0     0     0     0     0     0     0     0     1  \n",
       "\n",
       "[1 rows x 1024 columns]"
      ]
     },
     "execution_count": 23,
     "metadata": {},
     "output_type": "execute_result"
    }
   ],
   "source": [
    "Q_opt_2, V_2 = q_learning(X, A, r1, P2, alpha, x2_0, eps_greedy, Nr_iter, gamma_t_tilde = lambda t: 1/(t+1), Q_0 = np.ones([len(X),len(A)]))\n",
    "\n",
    "df_2 = pd.DataFrame(np.array([[a_opt(x, Q_opt_2) for x in X]]))\n",
    "#df.columns = ['-2', '-1', '0', '1', '2']\n",
    "df_2"
   ]
  },
  {
   "cell_type": "code",
   "execution_count": 37,
   "metadata": {},
   "outputs": [],
   "source": [
    "df_2.to_csv('h5_r1_P2.csv')"
   ]
  },
  {
   "cell_type": "code",
   "execution_count": 24,
   "metadata": {},
   "outputs": [
    {
     "name": "stderr",
     "output_type": "stream",
     "text": [
      "100%|██████████| 1000000/1000000 [01:40<00:00, 9931.67it/s]\n"
     ]
    },
    {
     "data": {
      "text/html": [
       "<div>\n",
       "<style scoped>\n",
       "    .dataframe tbody tr th:only-of-type {\n",
       "        vertical-align: middle;\n",
       "    }\n",
       "\n",
       "    .dataframe tbody tr th {\n",
       "        vertical-align: top;\n",
       "    }\n",
       "\n",
       "    .dataframe thead th {\n",
       "        text-align: right;\n",
       "    }\n",
       "</style>\n",
       "<table border=\"1\" class=\"dataframe\">\n",
       "  <thead>\n",
       "    <tr style=\"text-align: right;\">\n",
       "      <th></th>\n",
       "      <th>0</th>\n",
       "      <th>1</th>\n",
       "      <th>2</th>\n",
       "      <th>3</th>\n",
       "      <th>4</th>\n",
       "      <th>5</th>\n",
       "      <th>6</th>\n",
       "      <th>7</th>\n",
       "      <th>8</th>\n",
       "      <th>9</th>\n",
       "      <th>...</th>\n",
       "      <th>1014</th>\n",
       "      <th>1015</th>\n",
       "      <th>1016</th>\n",
       "      <th>1017</th>\n",
       "      <th>1018</th>\n",
       "      <th>1019</th>\n",
       "      <th>1020</th>\n",
       "      <th>1021</th>\n",
       "      <th>1022</th>\n",
       "      <th>1023</th>\n",
       "    </tr>\n",
       "  </thead>\n",
       "  <tbody>\n",
       "    <tr>\n",
       "      <th>0</th>\n",
       "      <td>0</td>\n",
       "      <td>0</td>\n",
       "      <td>0</td>\n",
       "      <td>1</td>\n",
       "      <td>0</td>\n",
       "      <td>0</td>\n",
       "      <td>0</td>\n",
       "      <td>0</td>\n",
       "      <td>0</td>\n",
       "      <td>0</td>\n",
       "      <td>...</td>\n",
       "      <td>0</td>\n",
       "      <td>0</td>\n",
       "      <td>1</td>\n",
       "      <td>0</td>\n",
       "      <td>0</td>\n",
       "      <td>0</td>\n",
       "      <td>1</td>\n",
       "      <td>0</td>\n",
       "      <td>0</td>\n",
       "      <td>1</td>\n",
       "    </tr>\n",
       "  </tbody>\n",
       "</table>\n",
       "<p>1 rows × 1024 columns</p>\n",
       "</div>"
      ],
      "text/plain": [
       "   0     1     2     3     4     5     6     7     8     9     ...  1014  \\\n",
       "0     0     0     0     1     0     0     0     0     0     0  ...     0   \n",
       "\n",
       "   1015  1016  1017  1018  1019  1020  1021  1022  1023  \n",
       "0     0     1     0     0     0     1     0     0     1  \n",
       "\n",
       "[1 rows x 1024 columns]"
      ]
     },
     "execution_count": 24,
     "metadata": {},
     "output_type": "execute_result"
    }
   ],
   "source": [
    "Q_opt_3, V_3 = q_learning(X, A, r1, P3, alpha, x3_0, eps_greedy, Nr_iter, gamma_t_tilde = lambda t: 1/(t+1), Q_0 = np.ones([len(X),len(A)]))\n",
    "\n",
    "df_3 = pd.DataFrame(np.array([[a_opt(x, Q_opt_3) for x in X]]))\n",
    "#df.columns = ['-2', '-1', '0', '1', '2']\n",
    "df_3"
   ]
  },
  {
   "cell_type": "code",
   "execution_count": 38,
   "metadata": {},
   "outputs": [],
   "source": [
    "df_3.to_csv('h5_r1_P3.csv')"
   ]
  },
  {
   "cell_type": "markdown",
   "metadata": {},
   "source": [
    "Evaluation"
   ]
  },
  {
   "cell_type": "code",
   "execution_count": 42,
   "metadata": {},
   "outputs": [],
   "source": [
    "test_period_start = 3_000\n",
    "#test_period_end   = 4_500\n",
    "returns_test      = returns[test_period_start:]"
   ]
  },
  {
   "cell_type": "code",
   "execution_count": 43,
   "metadata": {},
   "outputs": [
    {
     "name": "stdout",
     "output_type": "stream",
     "text": [
      "Test Period 1:\n",
      "\n",
      "Days:             521\n",
      "Negative Returns:   149\n",
      "Small Neg. Returns: 114\n",
      "Small Pos. Returns: 108\n",
      "Positive Returns:   150\n",
      "Robust 1:           0.0000 sharpe ratio \n",
      " Robust 2:           -0.1808 sharpe ratio \n",
      " Non-Robust 1:           -0.2065 sharpe ratio \n",
      " Non-Robust 2:           0.5830 sharpe ratio \n",
      " Non_Robust 3:           0.4699 sharpe ratio \n",
      " Trend following:           0.3665 sharpe ratio  \n",
      " Buy and hold:           -0.0746 sharpe ratio\n"
     ]
    }
   ],
   "source": [
    "test_returns1 = returns_test\n",
    "#test_returns1 = returns_train_3\n",
    "X_t = np.array([test_returns1[i:(h+i)]  for i in range(len(test_returns1)-h-1)])\n",
    "print(\"Test Period 1:\\n\\nDays:             {}\\nNegative Returns:   {}\\nSmall Neg. Returns: {}\\nSmall Pos. Returns: {}\\nPositive Returns:   {}\".format(len(test_returns1),\n",
    "                                                                            np.sum(test_returns1==-2),\n",
    "                                                                            np.sum(test_returns1==-1),                                            \n",
    "                                                                            np.sum(test_returns1==1),\n",
    "                                                                            np.sum(test_returns1==2)))\n",
    "robust_rewards_1       = np.array([r1(X_t[i],a_opt(X_t[i], Q_opt_robust_1),X_t[i+1]) for i in range(len(X_t)-1)])\n",
    "robust_rewards_2       = np.array([r2(X_t[i],a_opt(X_t[i], Q_opt_robust_2),X_t[i+1]) for i in range(len(X_t)-1)])\n",
    "\n",
    "rewards_1       = np.array([r1(X_t[i],a_opt(X_t[i], Q_opt_1),X_t[i+1]) for i in range(len(X_t)-1)])\n",
    "rewards_2       = np.array([r1(X_t[i],a_opt(X_t[i], Q_opt_2),X_t[i+1]) for i in range(len(X_t)-1)])\n",
    "rewards_3       = np.array([r1(X_t[i],a_opt(X_t[i], Q_opt_3),X_t[i+1]) for i in range(len(X_t)-1)])\n",
    "\n",
    "trend_following        = np.array([((X_t[i][-1]-X_t[i][0] > 0)) * 0.01 * X_t[i+1][-1] for i in range(len(X_t)-1)])\n",
    "buy_and_hold           = np.array([0.01 * X_t[i+1][-1] for i in range(len(X_t)-1)])\n",
    "\n",
    "\n",
    "#print(\"Robust:           {:0.4f}% correct \".format(100*np.sum(robust_rewards>0)/len(X_t)))\n",
    "#print(\"Robust 1:           {:0.4f}% correct \\n Robust 2:           {:0.4f}% correct \\n Trend following:           {:0.4f}% correct \".format(100*np.sum(robust_rewards_1>0)/len(X_t), 100*np.sum(robust_rewards_2>0)/len(X_t), 100*np.sum(trend_following>0)/len(X_t)))\n",
    "print(\"Robust 1:           {:0.4f} sharpe ratio \\n Robust 2:           {:0.4f} sharpe ratio \\n Non-Robust 1:           {:0.4f} sharpe ratio \\n Non-Robust 2:           {:0.4f} sharpe ratio \\n Non_Robust 3:           {:0.4f} sharpe ratio \\n Trend following:           {:0.4f} sharpe ratio  \\n Buy and hold:           {:0.4f} sharpe ratio\".format((np.mean(robust_rewards_1)/np.std(robust_rewards_1))*np.sqrt(252),\n",
    "                                                                                                                                                                                                       (np.mean(robust_rewards_2)/np.std(robust_rewards_2))*np.sqrt(252),\n",
    "                                                                                                                                                                                                       (np.mean(rewards_1)/np.std(rewards_1))*np.sqrt(252),\n",
    "                                                                                                                                                                                                       (np.mean(rewards_2)/np.std(rewards_2))*np.sqrt(252),\n",
    "                                                                                                                                                                                                       (np.mean(rewards_3)/np.std(rewards_3))*np.sqrt(252),\n",
    "                                                                                                                                                                                                       (np.mean(trend_following)/np.std(trend_following))*np.sqrt(252),\n",
    "                                                                                                                                                                                                       (np.mean(buy_and_hold)/np.std(buy_and_hold))*np.sqrt(252)))"
   ]
  },
  {
   "cell_type": "code",
   "execution_count": 46,
   "metadata": {},
   "outputs": [],
   "source": [
    "test_period_start = 0\n",
    "test_period_end   = 4_000\n",
    "returns_test      = returns[test_period_start:test_period_end]"
   ]
  },
  {
   "cell_type": "code",
   "execution_count": 47,
   "metadata": {},
   "outputs": [
    {
     "name": "stdout",
     "output_type": "stream",
     "text": [
      "Test Period 1:\n",
      "\n",
      "Days:             3521\n",
      "Negative Returns:   696\n",
      "Small Neg. Returns: 976\n",
      "Small Pos. Returns: 1029\n",
      "Positive Returns:   820\n",
      "Robust 1:           -0.2783 sharpe ratio \n",
      " Robust 2:           -0.4302 sharpe ratio \n",
      " Non-Robust 1:           0.2756 sharpe ratio \n",
      " Non-Robust 2:           0.3230 sharpe ratio \n",
      " Non_Robust 3:           0.2834 sharpe ratio \n",
      " Trend following:           0.8286 sharpe ratio  \n",
      " Buy and hold:           0.9177 sharpe ratio\n"
     ]
    }
   ],
   "source": [
    "test_returns1 = returns_test\n",
    "#test_returns1 = returns_train_3\n",
    "X_t = np.array([test_returns1[i:(h+i)]  for i in range(len(test_returns1)-h-1)])\n",
    "print(\"Test Period 1:\\n\\nDays:             {}\\nNegative Returns:   {}\\nSmall Neg. Returns: {}\\nSmall Pos. Returns: {}\\nPositive Returns:   {}\".format(len(test_returns1),\n",
    "                                                                            np.sum(test_returns1==-2),\n",
    "                                                                            np.sum(test_returns1==-1),                                            \n",
    "                                                                            np.sum(test_returns1==1),\n",
    "                                                                            np.sum(test_returns1==2)))\n",
    "robust_rewards_1       = np.array([r1(X_t[i],a_opt(X_t[i], Q_opt_robust_1),X_t[i+1]) for i in range(len(X_t)-1)])\n",
    "robust_rewards_2       = np.array([r2(X_t[i],a_opt(X_t[i], Q_opt_robust_2),X_t[i+1]) for i in range(len(X_t)-1)])\n",
    "\n",
    "rewards_1       = np.array([r1(X_t[i],a_opt(X_t[i], Q_opt_1),X_t[i+1]) for i in range(len(X_t)-1)])\n",
    "rewards_2       = np.array([r1(X_t[i],a_opt(X_t[i], Q_opt_2),X_t[i+1]) for i in range(len(X_t)-1)])\n",
    "rewards_3       = np.array([r1(X_t[i],a_opt(X_t[i], Q_opt_3),X_t[i+1]) for i in range(len(X_t)-1)])\n",
    "\n",
    "trend_following        = np.array([((X_t[i][-1]-X_t[i][0] > 0)) * 0.01 * X_t[i+1][-1] for i in range(len(X_t)-1)])\n",
    "buy_and_hold           = np.array([0.01 * X_t[i+1][-1] for i in range(len(X_t)-1)])\n",
    "\n",
    "\n",
    "#print(\"Robust:           {:0.4f}% correct \".format(100*np.sum(robust_rewards>0)/len(X_t)))\n",
    "#print(\"Robust 1:           {:0.4f}% correct \\n Robust 2:           {:0.4f}% correct \\n Trend following:           {:0.4f}% correct \".format(100*np.sum(robust_rewards_1>0)/len(X_t), 100*np.sum(robust_rewards_2>0)/len(X_t), 100*np.sum(trend_following>0)/len(X_t)))\n",
    "print(\"Robust 1:           {:0.4f} sharpe ratio \\n Robust 2:           {:0.4f} sharpe ratio \\n Non-Robust 1:           {:0.4f} sharpe ratio \\n Non-Robust 2:           {:0.4f} sharpe ratio \\n Non_Robust 3:           {:0.4f} sharpe ratio \\n Trend following:           {:0.4f} sharpe ratio  \\n Buy and hold:           {:0.4f} sharpe ratio\".format((np.mean(robust_rewards_1)/np.std(robust_rewards_1))*np.sqrt(252),\n",
    "                                                                                                                                                                                                       (np.mean(robust_rewards_2)/np.std(robust_rewards_2))*np.sqrt(252),\n",
    "                                                                                                                                                                                                       (np.mean(rewards_1)/np.std(rewards_1))*np.sqrt(252),\n",
    "                                                                                                                                                                                                       (np.mean(rewards_2)/np.std(rewards_2))*np.sqrt(252),\n",
    "                                                                                                                                                                                                       (np.mean(rewards_3)/np.std(rewards_3))*np.sqrt(252),\n",
    "                                                                                                                                                                                                       (np.mean(trend_following)/np.std(trend_following))*np.sqrt(252),\n",
    "                                                                                                                                                                                                       (np.mean(buy_and_hold)/np.std(buy_and_hold))*np.sqrt(252)))"
   ]
  },
  {
   "cell_type": "code",
   "execution_count": 48,
   "metadata": {},
   "outputs": [
    {
     "name": "stdout",
     "output_type": "stream",
     "text": [
      "Test Period 1:\n",
      "\n",
      "Days:             300\n",
      "Negative Returns:   98\n",
      "Small Neg. Returns: 64\n",
      "Small Pos. Returns: 50\n",
      "Positive Returns:   88\n",
      "Robust 1:           0.3092 sharpe ratio \n",
      " Robust 2:           -0.5869 sharpe ratio \n",
      " Non-Robust 1:           -0.2735 sharpe ratio \n",
      " Non-Robust 2:           0.7726 sharpe ratio \n",
      " Non_Robust 3:           0.5357 sharpe ratio \n",
      " Trend following:           -0.4781 sharpe ratio  \n",
      " Buy and hold:           -1.1495 sharpe ratio\n"
     ]
    }
   ],
   "source": [
    "#test_returns1 = returns_test\n",
    "test_returns1 = returns_train_3\n",
    "X_t = np.array([test_returns1[i:(h+i)]  for i in range(len(test_returns1)-h-1)])\n",
    "print(\"Test Period 1:\\n\\nDays:             {}\\nNegative Returns:   {}\\nSmall Neg. Returns: {}\\nSmall Pos. Returns: {}\\nPositive Returns:   {}\".format(len(test_returns1),\n",
    "                                                                            np.sum(test_returns1==-2),\n",
    "                                                                            np.sum(test_returns1==-1),                                            \n",
    "                                                                            np.sum(test_returns1==1),\n",
    "                                                                            np.sum(test_returns1==2)))\n",
    "robust_rewards_1       = np.array([r1(X_t[i],a_opt(X_t[i], Q_opt_robust_1),X_t[i+1]) for i in range(len(X_t)-1)])\n",
    "robust_rewards_2       = np.array([r2(X_t[i],a_opt(X_t[i], Q_opt_robust_2),X_t[i+1]) for i in range(len(X_t)-1)])\n",
    "\n",
    "rewards_1       = np.array([r1(X_t[i],a_opt(X_t[i], Q_opt_1),X_t[i+1]) for i in range(len(X_t)-1)])\n",
    "rewards_2       = np.array([r1(X_t[i],a_opt(X_t[i], Q_opt_2),X_t[i+1]) for i in range(len(X_t)-1)])\n",
    "rewards_3       = np.array([r1(X_t[i],a_opt(X_t[i], Q_opt_3),X_t[i+1]) for i in range(len(X_t)-1)])\n",
    "\n",
    "trend_following        = np.array([((X_t[i][-1]-X_t[i][0] > 0)) * 0.01 * X_t[i+1][-1] for i in range(len(X_t)-1)])\n",
    "buy_and_hold           = np.array([0.01 * X_t[i+1][-1] for i in range(len(X_t)-1)])\n",
    "\n",
    "\n",
    "#print(\"Robust:           {:0.4f}% correct \".format(100*np.sum(robust_rewards>0)/len(X_t)))\n",
    "#print(\"Robust 1:           {:0.4f}% correct \\n Robust 2:           {:0.4f}% correct \\n Trend following:           {:0.4f}% correct \".format(100*np.sum(robust_rewards_1>0)/len(X_t), 100*np.sum(robust_rewards_2>0)/len(X_t), 100*np.sum(trend_following>0)/len(X_t)))\n",
    "print(\"Robust 1:           {:0.4f} sharpe ratio \\n Robust 2:           {:0.4f} sharpe ratio \\n Non-Robust 1:           {:0.4f} sharpe ratio \\n Non-Robust 2:           {:0.4f} sharpe ratio \\n Non_Robust 3:           {:0.4f} sharpe ratio \\n Trend following:           {:0.4f} sharpe ratio  \\n Buy and hold:           {:0.4f} sharpe ratio\".format((np.mean(robust_rewards_1)/np.std(robust_rewards_1))*np.sqrt(252),\n",
    "                                                                                                                                                                                                       (np.mean(robust_rewards_2)/np.std(robust_rewards_2))*np.sqrt(252),\n",
    "                                                                                                                                                                                                       (np.mean(rewards_1)/np.std(rewards_1))*np.sqrt(252),\n",
    "                                                                                                                                                                                                       (np.mean(rewards_2)/np.std(rewards_2))*np.sqrt(252),\n",
    "                                                                                                                                                                                                       (np.mean(rewards_3)/np.std(rewards_3))*np.sqrt(252),\n",
    "                                                                                                                                                                                                       (np.mean(trend_following)/np.std(trend_following))*np.sqrt(252),\n",
    "                                                                                                                                                                                                       (np.mean(buy_and_hold)/np.std(buy_and_hold))*np.sqrt(252)))"
   ]
  },
  {
   "cell_type": "code",
   "execution_count": 49,
   "metadata": {},
   "outputs": [
    {
     "name": "stdout",
     "output_type": "stream",
     "text": [
      "Test Period 1:\n",
      "\n",
      "Days:             300\n",
      "Negative Returns:   50\n",
      "Small Neg. Returns: 75\n",
      "Small Pos. Returns: 96\n",
      "Positive Returns:   79\n",
      "Robust 1:           -0.3506 sharpe ratio \n",
      " Robust 2:           1.0539 sharpe ratio \n",
      " Non-Robust 1:           nan sharpe ratio \n",
      " Non-Robust 2:           0.3092 sharpe ratio \n",
      " Non_Robust 3:           1.0539 sharpe ratio \n",
      " Trend following:           2.3436 sharpe ratio  \n",
      " Buy and hold:           2.6184 sharpe ratio\n"
     ]
    },
    {
     "name": "stderr",
     "output_type": "stream",
     "text": [
      "C:\\Users\\cecil\\AppData\\Local\\Temp\\ipykernel_37336\\958704520.py:24: RuntimeWarning: invalid value encountered in scalar divide\n",
      "  (np.mean(rewards_1)/np.std(rewards_1))*np.sqrt(252),\n"
     ]
    }
   ],
   "source": [
    "#test_returns1 = returns_test\n",
    "test_returns1 = returns_train_2\n",
    "X_t = np.array([test_returns1[i:(h+i)]  for i in range(len(test_returns1)-h-1)])\n",
    "print(\"Test Period 1:\\n\\nDays:             {}\\nNegative Returns:   {}\\nSmall Neg. Returns: {}\\nSmall Pos. Returns: {}\\nPositive Returns:   {}\".format(len(test_returns1),\n",
    "                                                                            np.sum(test_returns1==-2),\n",
    "                                                                            np.sum(test_returns1==-1),                                            \n",
    "                                                                            np.sum(test_returns1==1),\n",
    "                                                                            np.sum(test_returns1==2)))\n",
    "robust_rewards_1       = np.array([r1(X_t[i],a_opt(X_t[i], Q_opt_robust_1),X_t[i+1]) for i in range(len(X_t)-1)])\n",
    "robust_rewards_2       = np.array([r2(X_t[i],a_opt(X_t[i], Q_opt_robust_2),X_t[i+1]) for i in range(len(X_t)-1)])\n",
    "\n",
    "rewards_1       = np.array([r1(X_t[i],a_opt(X_t[i], Q_opt_1),X_t[i+1]) for i in range(len(X_t)-1)])\n",
    "rewards_2       = np.array([r1(X_t[i],a_opt(X_t[i], Q_opt_2),X_t[i+1]) for i in range(len(X_t)-1)])\n",
    "rewards_3       = np.array([r1(X_t[i],a_opt(X_t[i], Q_opt_3),X_t[i+1]) for i in range(len(X_t)-1)])\n",
    "\n",
    "trend_following        = np.array([((X_t[i][-1]-X_t[i][0] > 0)) * 0.01 * X_t[i+1][-1] for i in range(len(X_t)-1)])\n",
    "buy_and_hold           = np.array([0.01 * X_t[i+1][-1] for i in range(len(X_t)-1)])\n",
    "\n",
    "\n",
    "#print(\"Robust:           {:0.4f}% correct \".format(100*np.sum(robust_rewards>0)/len(X_t)))\n",
    "#print(\"Robust 1:           {:0.4f}% correct \\n Robust 2:           {:0.4f}% correct \\n Trend following:           {:0.4f}% correct \".format(100*np.sum(robust_rewards_1>0)/len(X_t), 100*np.sum(robust_rewards_2>0)/len(X_t), 100*np.sum(trend_following>0)/len(X_t)))\n",
    "print(\"Robust 1:           {:0.4f} sharpe ratio \\n Robust 2:           {:0.4f} sharpe ratio \\n Non-Robust 1:           {:0.4f} sharpe ratio \\n Non-Robust 2:           {:0.4f} sharpe ratio \\n Non_Robust 3:           {:0.4f} sharpe ratio \\n Trend following:           {:0.4f} sharpe ratio  \\n Buy and hold:           {:0.4f} sharpe ratio\".format((np.mean(robust_rewards_1)/np.std(robust_rewards_1))*np.sqrt(252),\n",
    "                                                                                                                                                                                                       (np.mean(robust_rewards_2)/np.std(robust_rewards_2))*np.sqrt(252),\n",
    "                                                                                                                                                                                                       (np.mean(rewards_1)/np.std(rewards_1))*np.sqrt(252),\n",
    "                                                                                                                                                                                                       (np.mean(rewards_2)/np.std(rewards_2))*np.sqrt(252),\n",
    "                                                                                                                                                                                                       (np.mean(rewards_3)/np.std(rewards_3))*np.sqrt(252),\n",
    "                                                                                                                                                                                                       (np.mean(trend_following)/np.std(trend_following))*np.sqrt(252),\n",
    "                                                                                                                                                                                                       (np.mean(buy_and_hold)/np.std(buy_and_hold))*np.sqrt(252)))"
   ]
  },
  {
   "cell_type": "code",
   "execution_count": 50,
   "metadata": {},
   "outputs": [
    {
     "name": "stdout",
     "output_type": "stream",
     "text": [
      "Test Period 1:\n",
      "\n",
      "Days:             300\n",
      "Negative Returns:   57\n",
      "Small Neg. Returns: 89\n",
      "Small Pos. Returns: 86\n",
      "Positive Returns:   68\n",
      "Robust 1:           0.3787 sharpe ratio \n",
      " Robust 2:           -0.8400 sharpe ratio \n",
      " Non-Robust 1:           0.8306 sharpe ratio \n",
      " Non-Robust 2:           1.1763 sharpe ratio \n",
      " Non_Robust 3:           0.4960 sharpe ratio \n",
      " Trend following:           0.8462 sharpe ratio  \n",
      " Buy and hold:           0.6118 sharpe ratio\n"
     ]
    }
   ],
   "source": [
    "#test_returns1 = returns_test\n",
    "test_returns1 = returns_train_1\n",
    "X_t = np.array([test_returns1[i:(h+i)]  for i in range(len(test_returns1)-h-1)])\n",
    "print(\"Test Period 1:\\n\\nDays:             {}\\nNegative Returns:   {}\\nSmall Neg. Returns: {}\\nSmall Pos. Returns: {}\\nPositive Returns:   {}\".format(len(test_returns1),\n",
    "                                                                            np.sum(test_returns1==-2),\n",
    "                                                                            np.sum(test_returns1==-1),                                            \n",
    "                                                                            np.sum(test_returns1==1),\n",
    "                                                                            np.sum(test_returns1==2)))\n",
    "robust_rewards_1       = np.array([r1(X_t[i],a_opt(X_t[i], Q_opt_robust_1),X_t[i+1]) for i in range(len(X_t)-1)])\n",
    "robust_rewards_2       = np.array([r2(X_t[i],a_opt(X_t[i], Q_opt_robust_2),X_t[i+1]) for i in range(len(X_t)-1)])\n",
    "\n",
    "rewards_1       = np.array([r1(X_t[i],a_opt(X_t[i], Q_opt_1),X_t[i+1]) for i in range(len(X_t)-1)])\n",
    "rewards_2       = np.array([r1(X_t[i],a_opt(X_t[i], Q_opt_2),X_t[i+1]) for i in range(len(X_t)-1)])\n",
    "rewards_3       = np.array([r1(X_t[i],a_opt(X_t[i], Q_opt_3),X_t[i+1]) for i in range(len(X_t)-1)])\n",
    "\n",
    "trend_following        = np.array([((X_t[i][-1]-X_t[i][0] > 0)) * 0.01 * X_t[i+1][-1] for i in range(len(X_t)-1)])\n",
    "buy_and_hold           = np.array([0.01 * X_t[i+1][-1] for i in range(len(X_t)-1)])\n",
    "\n",
    "\n",
    "#print(\"Robust:           {:0.4f}% correct \".format(100*np.sum(robust_rewards>0)/len(X_t)))\n",
    "#print(\"Robust 1:           {:0.4f}% correct \\n Robust 2:           {:0.4f}% correct \\n Trend following:           {:0.4f}% correct \".format(100*np.sum(robust_rewards_1>0)/len(X_t), 100*np.sum(robust_rewards_2>0)/len(X_t), 100*np.sum(trend_following>0)/len(X_t)))\n",
    "print(\"Robust 1:           {:0.4f} sharpe ratio \\n Robust 2:           {:0.4f} sharpe ratio \\n Non-Robust 1:           {:0.4f} sharpe ratio \\n Non-Robust 2:           {:0.4f} sharpe ratio \\n Non_Robust 3:           {:0.4f} sharpe ratio \\n Trend following:           {:0.4f} sharpe ratio  \\n Buy and hold:           {:0.4f} sharpe ratio\".format((np.mean(robust_rewards_1)/np.std(robust_rewards_1))*np.sqrt(252),\n",
    "                                                                                                                                                                                                       (np.mean(robust_rewards_2)/np.std(robust_rewards_2))*np.sqrt(252),\n",
    "                                                                                                                                                                                                       (np.mean(rewards_1)/np.std(rewards_1))*np.sqrt(252),\n",
    "                                                                                                                                                                                                       (np.mean(rewards_2)/np.std(rewards_2))*np.sqrt(252),\n",
    "                                                                                                                                                                                                       (np.mean(rewards_3)/np.std(rewards_3))*np.sqrt(252),\n",
    "                                                                                                                                                                                                       (np.mean(trend_following)/np.std(trend_following))*np.sqrt(252),\n",
    "                                                                                                                                                                                                       (np.mean(buy_and_hold)/np.std(buy_and_hold))*np.sqrt(252)))"
   ]
  },
  {
   "cell_type": "code",
   "execution_count": 32,
   "metadata": {},
   "outputs": [
    {
     "data": {
      "text/plain": [
       "array([ True, False, False,  True, False,  True, False, False, False,\n",
       "        True, False,  True, False, False,  True, False, False, False,\n",
       "        True, False,  True,  True, False,  True, False, False,  True,\n",
       "       False,  True, False, False,  True, False, False, False, False,\n",
       "       False,  True, False, False, False, False,  True,  True,  True,\n",
       "        True, False, False, False, False, False,  True,  True,  True,\n",
       "        True, False, False,  True, False, False,  True, False,  True,\n",
       "        True, False, False, False,  True,  True, False, False, False,\n",
       "       False,  True, False, False,  True, False,  True, False, False,\n",
       "        True, False,  True, False, False, False, False,  True,  True,\n",
       "        True,  True, False, False, False,  True,  True,  True,  True,\n",
       "       False,  True, False, False, False, False, False, False,  True,\n",
       "        True,  True, False, False, False, False, False, False,  True,\n",
       "       False,  True,  True, False,  True, False, False, False, False,\n",
       "       False, False, False, False,  True, False,  True,  True, False,\n",
       "       False, False, False, False,  True,  True, False,  True, False,\n",
       "       False,  True, False, False,  True, False,  True,  True, False,\n",
       "        True, False,  True, False, False,  True, False, False, False,\n",
       "       False, False, False, False, False,  True,  True,  True,  True,\n",
       "       False, False, False, False, False, False,  True,  True,  True,\n",
       "        True,  True, False, False,  True, False,  True,  True, False,\n",
       "       False, False,  True, False, False,  True, False, False, False,\n",
       "       False, False,  True, False,  True,  True,  True,  True, False,\n",
       "       False,  True, False,  True,  True, False,  True, False, False,\n",
       "        True,  True,  True, False, False, False, False, False,  True,\n",
       "       False,  True,  True, False, False, False, False, False, False,\n",
       "        True, False,  True,  True, False,  True, False, False, False,\n",
       "        True,  True,  True,  True, False, False, False, False, False,\n",
       "       False, False, False, False, False,  True, False,  True,  True,\n",
       "       False,  True,  True, False,  True,  True, False, False, False,\n",
       "       False, False,  True,  True,  True, False, False,  True, False,\n",
       "        True, False,  True,  True, False, False, False, False, False,\n",
       "        True,  True,  True,  True,  True])"
      ]
     },
     "execution_count": 32,
     "metadata": {},
     "output_type": "execute_result"
    }
   ],
   "source": [
    "buy_and_hold == trend_following"
   ]
  },
  {
   "cell_type": "code",
   "execution_count": null,
   "metadata": {},
   "outputs": [],
   "source": []
  }
 ],
 "metadata": {
  "kernelspec": {
   "display_name": "Python 3",
   "language": "python",
   "name": "python3"
  },
  "language_info": {
   "codemirror_mode": {
    "name": "ipython",
    "version": 3
   },
   "file_extension": ".py",
   "mimetype": "text/x-python",
   "name": "python",
   "nbconvert_exporter": "python",
   "pygments_lexer": "ipython3",
   "version": "3.11.9"
  }
 },
 "nbformat": 4,
 "nbformat_minor": 2
}
