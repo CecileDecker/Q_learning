{
 "cells": [
  {
   "cell_type": "markdown",
   "metadata": {},
   "source": [
    "Stock investing Example, application of the reduction property"
   ]
  },
  {
   "cell_type": "code",
   "execution_count": null,
   "metadata": {},
   "outputs": [],
   "source": [
    "#%load_ext autoreload\n",
    "#%autoreload 2\n",
    "import numpy as np\n",
    "import copy \n",
    "import random\n",
    "import pandas as pd\n",
    "from tqdm import tqdm\n",
    "from scipy.stats import binom\n",
    "from scipy.optimize import minimize\n",
    "import matplotlib.pyplot as plt"
   ]
  },
  {
   "cell_type": "code",
   "execution_count": null,
   "metadata": {},
   "outputs": [],
   "source": [
    "rng = np.random.default_rng()"
   ]
  },
  {
   "cell_type": "code",
   "execution_count": null,
   "metadata": {},
   "outputs": [],
   "source": [
    "from robust_q_learning_v2 import *\n",
    "from q_learning import *"
   ]
  },
  {
   "cell_type": "markdown",
   "metadata": {},
   "source": [
    "Explanation of the example and definition of the parameters"
   ]
  },
  {
   "cell_type": "code",
   "execution_count": null,
   "metadata": {},
   "outputs": [],
   "source": [
    "mu_1 = [1/12, 1/6, 1/2, 1/6, 1/12]\n",
    "mu_2 = [1/8, 1/8, 1/2, 1/8, 1/8]\n",
    "mu_4 = [1/6, 1/6, 1/3, 1/6, 1/6]\n",
    "\n",
    "mu_3 = [1/12, 1/4, 1/3, 1/4, 1/12]\n",
    "\n",
    "mu   = [1/12, 1/12, 1/2, 1/6, 1/6]"
   ]
  },
  {
   "cell_type": "code",
   "execution_count": null,
   "metadata": {},
   "outputs": [],
   "source": [
    "MU = np.array([mu_1, mu_2, mu_3, mu_4]).T\n",
    "X  = [-2, -1, 0, 1, 2]\n",
    "\n",
    "plt.plot(X, mu_1, \"-o\", label=\"mu_1\") \n",
    "plt.plot(X, mu_2, \"-o\", label=\"mu_2\") \n",
    "plt.plot(X, mu_3, \"-d\", label=\"mu_3\") \n",
    "plt.plot(X, mu_4, \"-d\", label=\"mu_4\")\n",
    "plt.legend(loc=\"upper left\")\n",
    "plt.show()"
   ]
  },
  {
   "cell_type": "code",
   "execution_count": null,
   "metadata": {},
   "outputs": [],
   "source": [
    "X = np.array([-2, -1, 0, 1, 2]) # States\n",
    "A = np.array([0, 1]) # Actions\n",
    "\n",
    "def r(x,a,y):\n",
    "    return a * y\n",
    "\n",
    "eps_greedy = 0.1   # Epsilon greedy policy\n",
    "alpha      = 0.95  # Discount Factor\n",
    "x_0        = 0     # Initial Value\n",
    "k_0        = 0     # Initial index of the corresponding MDP, starting with the central proba of 1/2"
   ]
  },
  {
   "cell_type": "code",
   "execution_count": null,
   "metadata": {},
   "outputs": [],
   "source": [
    "# Build the functions that allow us to get the index of an element a (reps. x) in A (resp. X)\n",
    "if np.ndim(A) > 1:\n",
    "    A_list = A\n",
    "else:\n",
    "    A_list = np.array([[a] for a in A])\n",
    "if np.ndim(X) > 1:\n",
    "    X_list = X\n",
    "else:\n",
    "    X_list = np.array([[x] for x in X])\n",
    "\n",
    "def a_index(a):\n",
    "    return np.flatnonzero((a==A_list).all(1))[0]\n",
    "def x_index(x):\n",
    "    return np.flatnonzero((x==X_list).all(1))[0]"
   ]
  },
  {
   "cell_type": "code",
   "execution_count": null,
   "metadata": {},
   "outputs": [],
   "source": [
    "def mu1(x,a,y):\n",
    "    return mu_1[x_index(y)]\n",
    "def mu2(x,a,y):\n",
    "    return mu_2[x_index(y)]\n",
    "def mu3(x,a,y):\n",
    "    return mu_3[x_index(y)]\n",
    "def mu4(x,a,y):\n",
    "    return mu_4[x_index(y)]\n",
    "\n",
    "def mu_tilde(x,a,y):\n",
    "    return mu[x_index(y)]"
   ]
  },
  {
   "cell_type": "code",
   "execution_count": null,
   "metadata": {},
   "outputs": [],
   "source": [
    "def MU1(x,a):\n",
    "    return X[np.random.choice(np.arange(len(mu_1)), p=mu_1)]\n",
    "def MU2(x,a):\n",
    "    return X[np.random.choice(np.arange(len(mu_2)), p=mu_2)]\n",
    "def MU3(x,a):\n",
    "    return X[np.random.choice(np.arange(len(mu_3)), p=mu_3)]\n",
    "def MU4(x,a):\n",
    "    return X[np.random.choice(np.arange(len(mu_4)), p=mu_4)]\n",
    "\n",
    "def MU_tilde(x,a):\n",
    "    return X[np.random.choice(np.arange(len(mu)), p=mu)]"
   ]
  },
  {
   "cell_type": "markdown",
   "metadata": {},
   "source": [
    "Running of the non-robust algorithm, by applying the Proposition 3.3"
   ]
  },
  {
   "cell_type": "code",
   "execution_count": null,
   "metadata": {},
   "outputs": [],
   "source": [
    "Nr_iter = 1_000_000\n",
    "Q_0_, V = q_learning(X, A, r, MU_tilde, alpha, x_0, eps_greedy, Nr_iter, gamma_t_tilde = lambda t: 1/(t+1), Q_0 = np.ones([len(X),len(A)]))"
   ]
  },
  {
   "cell_type": "code",
   "execution_count": null,
   "metadata": {},
   "outputs": [],
   "source": [
    "# Get the result of the Q-Learning algorithm,\n",
    "# Get the optimal results for each x in X\n",
    "def a_opt(x, Q_opt):\n",
    "    return A[np.argmax(Q_opt[x_index(x),:])]"
   ]
  },
  {
   "cell_type": "code",
   "execution_count": null,
   "metadata": {},
   "outputs": [],
   "source": [
    "df = pd.DataFrame(np.array([[a_opt(x, Q_0_) for x in X]]))\n",
    "df.columns = ['-2', '-1', '0', '1', '2']\n",
    "df"
   ]
  },
  {
   "cell_type": "code",
   "execution_count": null,
   "metadata": {},
   "outputs": [],
   "source": [
    "a_mu_tilde = [1, 1, 1, 1, 1]"
   ]
  },
  {
   "cell_type": "markdown",
   "metadata": {},
   "source": [
    "Running the robust algorithm for comparison"
   ]
  },
  {
   "cell_type": "code",
   "execution_count": null,
   "metadata": {},
   "outputs": [],
   "source": [
    "Nr_iter = 1_000_000\n",
    "Q_opt_robust, V = robust_q_learning_v2(X, A, r, np.array([MU1, MU2, MU3, MU4]), np.array([mu1, mu2, mu3, mu4]), alpha, x_0, k_0, eps_greedy, Nr_iter, gamma_t_tilde = lambda t: 1/(t+1), Q_0 = np.ones([len(X),len(A)]))\n",
    "df = pd.DataFrame(np.array([[a_opt(x, Q_opt_robust) for x in X]]))\n",
    "df.columns = ['-2', '-1', '0', '1', '2']\n",
    "df"
   ]
  },
  {
   "cell_type": "code",
   "execution_count": null,
   "metadata": {},
   "outputs": [],
   "source": [
    "a_robust = [0, 1, 1, 0, 0]"
   ]
  },
  {
   "cell_type": "markdown",
   "metadata": {},
   "source": [
    "Cumulative reward computation"
   ]
  },
  {
   "cell_type": "code",
   "execution_count": null,
   "metadata": {},
   "outputs": [],
   "source": [
    "policies = [a_mu_tilde, a_robust]"
   ]
  },
  {
   "cell_type": "code",
   "execution_count": null,
   "metadata": {},
   "outputs": [],
   "source": [
    "P_ = [MU1, MU2, MU3, MU4]"
   ]
  },
  {
   "cell_type": "code",
   "execution_count": null,
   "metadata": {},
   "outputs": [],
   "source": [
    "Nr_iter = 100_000"
   ]
  },
  {
   "cell_type": "code",
   "execution_count": null,
   "metadata": {},
   "outputs": [],
   "source": [
    "CR = []\n",
    "for a_tilde in policies:\n",
    "\n",
    "    cr_p = []\n",
    "    for P in P_:\n",
    "\n",
    "        E = 0\n",
    "        x = x_0\n",
    "        for n in range(Nr_iter):\n",
    "    \n",
    "            a = a_tilde[x_index(x)]\n",
    "            y = P(x,a)\n",
    "            E += r(x, a, y)\n",
    "\n",
    "            x = y\n",
    "\n",
    "        cr_p += [E]\n",
    "\n",
    "    CR += [cr_p]\n",
    "\n",
    "CR = np.array(CR)"
   ]
  },
  {
   "cell_type": "code",
   "execution_count": null,
   "metadata": {},
   "outputs": [],
   "source": [
    "CR"
   ]
  }
 ],
 "metadata": {
  "kernelspec": {
   "display_name": "Python 3",
   "language": "python",
   "name": "python3"
  },
  "language_info": {
   "codemirror_mode": {
    "name": "ipython",
    "version": 3
   },
   "file_extension": ".py",
   "mimetype": "text/x-python",
   "name": "python",
   "nbconvert_exporter": "python",
   "pygments_lexer": "ipython3",
   "version": "3.11.8"
  }
 },
 "nbformat": 4,
 "nbformat_minor": 2
}
