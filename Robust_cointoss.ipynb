{
 "cells": [
  {
   "cell_type": "markdown",
   "metadata": {},
   "source": [
    "Now let's compute or robust version of the Q-Learning algorithm (in finite spaces)"
   ]
  },
  {
   "cell_type": "markdown",
   "metadata": {},
   "source": [
    "Import all useful libraries"
   ]
  },
  {
   "cell_type": "code",
   "execution_count": 1,
   "metadata": {},
   "outputs": [],
   "source": [
    "#%load_ext autoreload\n",
    "#%autoreload 2\n",
    "import numpy as np\n",
    "import copy \n",
    "import random\n",
    "import pandas as pd\n",
    "from tqdm import tqdm\n",
    "from scipy.stats import binom\n",
    "from scipy.optimize import minimize\n",
    "import matplotlib.pyplot as plt"
   ]
  },
  {
   "cell_type": "markdown",
   "metadata": {},
   "source": [
    "Import the q-learning function"
   ]
  },
  {
   "cell_type": "code",
   "execution_count": 2,
   "metadata": {},
   "outputs": [],
   "source": [
    "from robust_q_learning import *"
   ]
  },
  {
   "cell_type": "markdown",
   "metadata": {},
   "source": [
    "\"Robust\" Settings"
   ]
  },
  {
   "attachments": {},
   "cell_type": "markdown",
   "metadata": {},
   "source": [
    "First tests"
   ]
  },
  {
   "cell_type": "code",
   "execution_count": 3,
   "metadata": {},
   "outputs": [],
   "source": [
    "nr_coins = 10\n",
    "X        = np.linspace(0, nr_coins, nr_coins+1)        # States\n",
    "A        = np.array([-1, 0, 1])                        # Actions\n",
    "\n",
    "def r(x,a,y):\n",
    "    return(a * (y>x) - a * (y<x) - np.abs(a) * (x==y)) # Reward function\n",
    "\n",
    "def P1_0(x,a):\n",
    "    return binom.rvs(nr_coins, 0.5) # Assumption that is a fair coin\n",
    "\n",
    "# Adding some robustness to the model of a \"fair coin\"\n",
    "eps = 0.1\n",
    "def Pp_0(x,a):\n",
    "    return binom.rvs(nr_coins, 0.5 + eps)\n",
    "def Pm_0(x,a):\n",
    "    return binom.rvs(nr_coins, 0.5 - eps)\n",
    "\n",
    "alpha      = 0.95 # Discount Factor\n",
    "x_0        = 5    # Initial Value\n",
    "eps_greedy = 0.1  # Epsilon greedy policy"
   ]
  },
  {
   "cell_type": "code",
   "execution_count": 4,
   "metadata": {},
   "outputs": [
    {
     "name": "stderr",
     "output_type": "stream",
     "text": [
      "100%|██████████| 100000/100000 [05:18<00:00, 313.57it/s]\n"
     ]
    }
   ],
   "source": [
    "Nr_iter = 100_000\n",
    "\n",
    "Q_opt_robust = robust_q_learning(X, A, r, np.array([P1_0, Pp_0, Pm_0]), alpha, x_0, eps_greedy, Nr_iter, gamma_t_tilde = lambda t: 1/(t+1), Q_0 = np.ones([len(X),len(A)]))"
   ]
  },
  {
   "cell_type": "code",
   "execution_count": 5,
   "metadata": {},
   "outputs": [],
   "source": [
    "# Build the functions that allow us to get the index of an element a (reps. x) in A (resp. X)\n",
    "if np.ndim(A) > 1:\n",
    "    A_list = A\n",
    "else:\n",
    "    A_list = np.array([[a] for a in A])\n",
    "if np.ndim(X) > 1:\n",
    "    X_list = X\n",
    "else:\n",
    "    X_list = np.array([[x] for x in X])\n",
    "\n",
    "def a_index(a):\n",
    "    return np.flatnonzero((a==A_list).all(1))[0]\n",
    "def x_index(x):\n",
    "    return np.flatnonzero((x==X_list).all(1))[0]\n",
    "\n",
    "# Get the result of the Q-Learning algorithm,\n",
    "# Get the optimal results for each x in X\n",
    "def a_opt(x, Q_opt):\n",
    "    return A[np.argmax(Q_opt[x_index(x),:])]"
   ]
  },
  {
   "cell_type": "code",
   "execution_count": 6,
   "metadata": {},
   "outputs": [
    {
     "data": {
      "text/html": [
       "<div>\n",
       "<style scoped>\n",
       "    .dataframe tbody tr th:only-of-type {\n",
       "        vertical-align: middle;\n",
       "    }\n",
       "\n",
       "    .dataframe tbody tr th {\n",
       "        vertical-align: top;\n",
       "    }\n",
       "\n",
       "    .dataframe thead th {\n",
       "        text-align: right;\n",
       "    }\n",
       "</style>\n",
       "<table border=\"1\" class=\"dataframe\">\n",
       "  <thead>\n",
       "    <tr style=\"text-align: right;\">\n",
       "      <th></th>\n",
       "      <th>State</th>\n",
       "      <th>0</th>\n",
       "      <th>1</th>\n",
       "      <th>2</th>\n",
       "      <th>3</th>\n",
       "      <th>4</th>\n",
       "      <th>5</th>\n",
       "      <th>6</th>\n",
       "      <th>7</th>\n",
       "      <th>8</th>\n",
       "      <th>9</th>\n",
       "      <th>10</th>\n",
       "    </tr>\n",
       "  </thead>\n",
       "  <tbody>\n",
       "    <tr>\n",
       "      <th>0</th>\n",
       "      <td>Robust, finite spaces</td>\n",
       "      <td>-1</td>\n",
       "      <td>-1</td>\n",
       "      <td>-1</td>\n",
       "      <td>1</td>\n",
       "      <td>0</td>\n",
       "      <td>0</td>\n",
       "      <td>0</td>\n",
       "      <td>-1</td>\n",
       "      <td>-1</td>\n",
       "      <td>-1</td>\n",
       "      <td>-1</td>\n",
       "    </tr>\n",
       "  </tbody>\n",
       "</table>\n",
       "</div>"
      ],
      "text/plain": [
       "                   State  0  1  2  3  4  5  6  7  8  9  10\n",
       "0  Robust, finite spaces -1 -1 -1  1  0  0  0 -1 -1 -1  -1"
      ]
     },
     "execution_count": 6,
     "metadata": {},
     "output_type": "execute_result"
    }
   ],
   "source": [
    "df = pd.DataFrame(np.array([[a_opt(x, Q_opt_robust) for x in X]]))\n",
    "df[\"State\"]=[\"Robust, finite spaces\"]\n",
    "df = df.set_index(\"State\").reset_index()\n",
    "df"
   ]
  },
  {
   "attachments": {},
   "cell_type": "markdown",
   "metadata": {},
   "source": [
    "Study of the finite space robustness\n",
    "\n",
    "Considering how much and what type of probabilities we take\n",
    "\n",
    "And comparison with -Julian Sester- Wassersstein uncertainty"
   ]
  },
  {
   "cell_type": "code",
   "execution_count": 7,
   "metadata": {},
   "outputs": [],
   "source": [
    "EPS = [1, 2, 0.5]\n",
    "\n",
    "nr_coins = 10\n",
    "X        = np.linspace(0, nr_coins, nr_coins+1)        # States\n",
    "A        = np.array([-1, 0, 1])                        # Actions\n",
    "\n",
    "def r(x, a, y):\n",
    "    return(a * (y > x) - a * (y < x) - np.abs(a) * (x == y)) # Reward function\n",
    "\n",
    "def P1_0(x, a):\n",
    "    return binom.rvs(nr_coins, 0.5) # Assumption that is a fair coin\n",
    "\n",
    "\n",
    "# Adding some robustness to the model of a \"fair coin\"\n",
    "eps     = EPS[0] / nr_coins\n",
    "nr_prob = 50\n",
    "P       = []\n",
    "for n in range(nr_prob//2 + 1):\n",
    "    def Pp(x,a):\n",
    "        return binom.rvs(nr_coins, 0.5 + (eps * n / (nr_prob//2)))\n",
    "    P += [Pp]\n",
    "    def Pm(x,a):\n",
    "        return binom.rvs(nr_coins, 0.5 - (eps * n / (nr_prob//2)))\n",
    "    P += [Pm]\n",
    "\n",
    "alpha      = 0.95 # Discount Factor\n",
    "x_0        = 5    # Initial Value\n",
    "eps_greedy = 0.1  # Epsilon greedy policy"
   ]
  },
  {
   "attachments": {},
   "cell_type": "markdown",
   "metadata": {},
   "source": [
    "Test with these more general settings"
   ]
  },
  {
   "cell_type": "code",
   "execution_count": 8,
   "metadata": {},
   "outputs": [
    {
     "name": "stderr",
     "output_type": "stream",
     "text": [
      "100%|██████████| 10000/10000 [06:00<00:00, 27.76it/s]\n"
     ]
    }
   ],
   "source": [
    "Nr_iter = 10_000\n",
    "\n",
    "Q_opt_robust = robust_q_learning(X, A, r, np.array(P), alpha, x_0, eps_greedy, Nr_iter, gamma_t_tilde = lambda t: 1/(t+1), Q_0 = np.ones([len(X),len(A)]))"
   ]
  },
  {
   "cell_type": "code",
   "execution_count": 9,
   "metadata": {},
   "outputs": [
    {
     "data": {
      "text/html": [
       "<div>\n",
       "<style scoped>\n",
       "    .dataframe tbody tr th:only-of-type {\n",
       "        vertical-align: middle;\n",
       "    }\n",
       "\n",
       "    .dataframe tbody tr th {\n",
       "        vertical-align: top;\n",
       "    }\n",
       "\n",
       "    .dataframe thead th {\n",
       "        text-align: right;\n",
       "    }\n",
       "</style>\n",
       "<table border=\"1\" class=\"dataframe\">\n",
       "  <thead>\n",
       "    <tr style=\"text-align: right;\">\n",
       "      <th></th>\n",
       "      <th>State</th>\n",
       "      <th>0</th>\n",
       "      <th>1</th>\n",
       "      <th>2</th>\n",
       "      <th>3</th>\n",
       "      <th>4</th>\n",
       "      <th>5</th>\n",
       "      <th>6</th>\n",
       "      <th>7</th>\n",
       "      <th>8</th>\n",
       "      <th>9</th>\n",
       "      <th>10</th>\n",
       "    </tr>\n",
       "  </thead>\n",
       "  <tbody>\n",
       "    <tr>\n",
       "      <th>0</th>\n",
       "      <td>Robust, finite spaces</td>\n",
       "      <td>-1</td>\n",
       "      <td>-1</td>\n",
       "      <td>-1</td>\n",
       "      <td>-1</td>\n",
       "      <td>-1</td>\n",
       "      <td>-1</td>\n",
       "      <td>-1</td>\n",
       "      <td>-1</td>\n",
       "      <td>-1</td>\n",
       "      <td>-1</td>\n",
       "      <td>-1</td>\n",
       "    </tr>\n",
       "  </tbody>\n",
       "</table>\n",
       "</div>"
      ],
      "text/plain": [
       "                   State  0  1  2  3  4  5  6  7  8  9  10\n",
       "0  Robust, finite spaces -1 -1 -1 -1 -1 -1 -1 -1 -1 -1  -1"
      ]
     },
     "execution_count": 9,
     "metadata": {},
     "output_type": "execute_result"
    }
   ],
   "source": [
    "df = pd.DataFrame(np.array([[a_opt(x, Q_opt_robust) for x in X]]))\n",
    "df[\"State\"]=[\"Robust, finite spaces\"]\n",
    "df = df.set_index(\"State\").reset_index()\n",
    "df"
   ]
  },
  {
   "attachments": {},
   "cell_type": "markdown",
   "metadata": {},
   "source": [
    "Comparison with -Julian Sester- Wassersstein Uncertainty"
   ]
  },
  {
   "cell_type": "code",
   "execution_count": 10,
   "metadata": {},
   "outputs": [],
   "source": [
    "from julian_sester__Q_learning import *"
   ]
  }
 ],
 "metadata": {
  "kernelspec": {
   "display_name": "Python 3",
   "language": "python",
   "name": "python3"
  },
  "language_info": {
   "codemirror_mode": {
    "name": "ipython",
    "version": 3
   },
   "file_extension": ".py",
   "mimetype": "text/x-python",
   "name": "python",
   "nbconvert_exporter": "python",
   "pygments_lexer": "ipython3",
   "version": "3.10.11"
  },
  "orig_nbformat": 4
 },
 "nbformat": 4,
 "nbformat_minor": 2
}
