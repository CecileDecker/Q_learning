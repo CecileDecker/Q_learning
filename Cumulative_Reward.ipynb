{
 "cells": [
  {
   "cell_type": "code",
   "execution_count": null,
   "metadata": {},
   "outputs": [],
   "source": [
    "#%load_ext autoreload\n",
    "#%autoreload 2\n",
    "import numpy as np\n",
    "import copy \n",
    "import random\n",
    "import pandas as pd\n",
    "from tqdm import tqdm\n",
    "from scipy.stats import binom\n",
    "from scipy.optimize import minimize\n",
    "import matplotlib.pyplot as plt"
   ]
  },
  {
   "cell_type": "code",
   "execution_count": null,
   "metadata": {},
   "outputs": [],
   "source": [
    "from robust_q_learning_v2 import *\n",
    "from q_learning import *"
   ]
  },
  {
   "cell_type": "code",
   "execution_count": null,
   "metadata": {},
   "outputs": [],
   "source": [
    "nr_coins = 10\n",
    "X        = np.linspace(0, nr_coins, nr_coins+1)        # States\n",
    "A        = np.array([-1, 0, 1])                        # Actions\n",
    "\n",
    "def r(x,a,y):\n",
    "    return(a * (y>x) - a * (y<x) - np.abs(a) * (x==y)) # Reward function\n",
    "\n",
    "Nr_iter = 100_000\n",
    "\n",
    "alpha = 0.95\n",
    "x_0   = 5"
   ]
  },
  {
   "cell_type": "code",
   "execution_count": null,
   "metadata": {},
   "outputs": [],
   "source": [
    "a_eps_2  = np.array([1, 1, 1, 0, 0, 0, 0, 0, -1, -1, -1])\n",
    "a_eps_1  = np.array([1, 1, 1, 1, 0, 0, 0, -1, -1, -1, -1])\n",
    "a_eps_05 = np.array([1, 1, 1, 1, 1, 0, -1, -1, -1, -1, -1])\n",
    "\n",
    "a_p2_06 = np.array([1, 1, 1, 1, 1, 0, 0, -1, -1, -1, -1])\n",
    "a_p2_03 = np.array([1, 1, 1, 0, 0, 0, -1, -1, -1, -1, -1])\n",
    "\n",
    "a_sig2_005 = np.array([0, 1, 1, 1, 1, 0, -1, -1, -1, -1, -1])\n",
    "a_sig2_01  = np.array([1, 1, 1, 1, 1, 1, -1, -1, -1, -1, -1])\n",
    "\n",
    "policies = np.array([a_eps_2, a_eps_1, a_eps_05, a_p2_06, a_p2_03, a_sig2_005, a_sig2_01])\n"
   ]
  },
  {
   "cell_type": "code",
   "execution_count": null,
   "metadata": {},
   "outputs": [],
   "source": [
    "p_tilde = np.array([0.1, 0.2, 0.3, 0.4, 0.5, 0.6, 0.7, 0.8, 0.9])"
   ]
  },
  {
   "cell_type": "code",
   "execution_count": null,
   "metadata": {},
   "outputs": [],
   "source": [
    "CR = []\n",
    "for a_tilde in policies:\n",
    "\n",
    "    cr_p = []\n",
    "    for p in p_tilde:\n",
    "\n",
    "        def P(x,a):\n",
    "            return binom.rvs(nr_coins, p)\n",
    "\n",
    "        E = 0\n",
    "        x = x_0\n",
    "        for n in range(Nr_iter):\n",
    "    \n",
    "            a = a_tilde[x]\n",
    "            y = P(x,a)\n",
    "            E += r(x, a, y)\n",
    "\n",
    "            x = y\n",
    "\n",
    "        cr_p += [E]\n",
    "\n",
    "    CR += [cr_p]\n",
    "\n",
    "CR = np.array(CR)"
   ]
  },
  {
   "cell_type": "code",
   "execution_count": null,
   "metadata": {},
   "outputs": [],
   "source": [
    "CR"
   ]
  },
  {
   "cell_type": "code",
   "execution_count": null,
   "metadata": {},
   "outputs": [],
   "source": [
    "a_nonrobust = np.array([1, 1, 1, 1, 1, 0, -1, -1, -1, -1, -1])"
   ]
  },
  {
   "cell_type": "code",
   "execution_count": null,
   "metadata": {},
   "outputs": [],
   "source": [
    "cr_nonrobust = []\n",
    "for p in p_tilde:\n",
    "\n",
    "    def P(x,a):\n",
    "        return binom.rvs(nr_coins, p)\n",
    "\n",
    "    E = 0\n",
    "    x = x_0\n",
    "    for n in range(Nr_iter):\n",
    "    \n",
    "        a = a_nonrobust[x]\n",
    "        y = P(x,a)\n",
    "        E += r(x, a, y)\n",
    "\n",
    "        x = y\n",
    "\n",
    "    cr_nonrobust += [E]"
   ]
  },
  {
   "cell_type": "code",
   "execution_count": null,
   "metadata": {},
   "outputs": [],
   "source": [
    "cr_nonrobust"
   ]
  }
 ],
 "metadata": {
  "kernelspec": {
   "display_name": "Python 3",
   "language": "python",
   "name": "python3"
  },
  "language_info": {
   "codemirror_mode": {
    "name": "ipython",
    "version": 3
   },
   "file_extension": ".py",
   "mimetype": "text/x-python",
   "name": "python",
   "nbconvert_exporter": "python",
   "pygments_lexer": "ipython3",
   "version": "3.11.8"
  }
 },
 "nbformat": 4,
 "nbformat_minor": 2
}
